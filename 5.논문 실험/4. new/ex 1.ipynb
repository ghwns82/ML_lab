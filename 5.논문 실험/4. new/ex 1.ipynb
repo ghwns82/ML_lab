{
 "cells": [
  {
   "cell_type": "markdown",
   "id": "545a21cd",
   "metadata": {},
   "source": [
    "# 개요\n",
    "\n",
    "Random Forest를 사용하여 전통적인 머신러닝 학습방법에서 재학습에 걸리는 시간과 성능을 체크한다.\n",
    "\n",
    "* 특징정보 : api\n",
    "* 수집한 apk : 2014~2020"
   ]
  },
  {
   "cell_type": "code",
   "execution_count": 1,
   "id": "e2eb2ac7",
   "metadata": {
    "ExecuteTime": {
     "end_time": "2023-02-28T16:11:11.937590Z",
     "start_time": "2023-02-28T16:11:10.559594Z"
    }
   },
   "outputs": [],
   "source": [
    "from tqdm import tqdm\n",
    "import numpy as np\n",
    "import os\n",
    "import pandas as pd\n",
    "from itertools import product\n",
    "import time\n",
    "import warnings\n",
    "import joblib\n",
    "import shutil\n",
    "\n",
    "\n",
    "from sklearn.ensemble import RandomForestClassifier\n",
    "from sklearn.model_selection import train_test_split\n",
    "from sklearn.metrics import f1_score, accuracy_score\n",
    "from sklearn.metrics import confusion_matrix, ConfusionMatrixDisplay\n",
    "\n",
    "import matplotlib.pyplot as plt"
   ]
  },
  {
   "cell_type": "code",
   "execution_count": 2,
   "id": "faad8662",
   "metadata": {
    "ExecuteTime": {
     "end_time": "2023-02-28T16:11:14.181571Z",
     "start_time": "2023-02-28T16:11:14.175634Z"
    }
   },
   "outputs": [],
   "source": [
    "warnings.filterwarnings(action='ignore')"
   ]
  },
  {
   "cell_type": "markdown",
   "id": "2e566614",
   "metadata": {},
   "source": [
    "# 전처리"
   ]
  },
  {
   "cell_type": "code",
   "execution_count": 3,
   "id": "c34705d8",
   "metadata": {
    "ExecuteTime": {
     "end_time": "2023-02-28T16:11:44.167238Z",
     "start_time": "2023-02-28T16:11:26.335056Z"
    }
   },
   "outputs": [],
   "source": [
    "train_X_dict, train_y_dict, test_X_dict, test_y_dict = dict(),dict(),dict(),dict()\n",
    "for i, year in enumerate(range(2014,2021)):\n",
    "    df1 = pd.read_csv(f'./csv_5000/csv_5000/{year}_benign_api.csv', index_col=0)\n",
    "    df2 = pd.read_csv(f'./csv_5000/csv_5000/{year}_malware_api.csv', index_col=0)\n",
    "    df1['year']=year\n",
    "    df1['b/m']=0\n",
    "    df2['year']=year\n",
    "    df2['b/m']=1\n",
    "    \n",
    "    train_X_dict[year] = pd.concat([df1.iloc[1000:,:-2],df2.iloc[1000:,:-2]])\n",
    "    train_y_dict[year] = pd.concat([df1.iloc[1000:,-2:],df2.iloc[1000:,-2:]])\n",
    "    test_X_dict[year] = pd.concat([df1.iloc[:1000,:-2],df2.iloc[:1000,:-2]])\n",
    "    test_y_dict[year] = pd.concat([df1.iloc[:1000,-2:],df2.iloc[:1000,-2:]])"
   ]
  },
  {
   "cell_type": "code",
   "execution_count": 4,
   "id": "1992a863",
   "metadata": {
    "ExecuteTime": {
     "end_time": "2023-02-28T16:11:44.185029Z",
     "start_time": "2023-02-28T16:11:44.175485Z"
    }
   },
   "outputs": [],
   "source": [
    "def make_model(df_x, df_y):\n",
    "    model = RandomForestClassifier(random_state=42)\n",
    "    start = time.time()\n",
    "    model.fit(df_x, df_y)\n",
    "    end = time.time()\n",
    "    return model, (end-start)*1000"
   ]
  },
  {
   "cell_type": "code",
   "execution_count": 5,
   "id": "24539e0c",
   "metadata": {
    "ExecuteTime": {
     "end_time": "2023-02-28T16:11:44.201172Z",
     "start_time": "2023-02-28T16:11:44.189937Z"
    }
   },
   "outputs": [],
   "source": [
    "def convert_size(size_bytes):\n",
    "    import math\n",
    "    if size_bytes == 0:\n",
    "        return \"0B\"\n",
    "    size_name = (\"B\", \"KB\", \"MB\", \"GB\", \"TB\", \"PB\", \"EB\", \"ZB\", \"YB\")\n",
    "    i = int(math.floor(math.log(size_bytes, 1024)))\n",
    "    p = math.pow(1024, i)\n",
    "    s = round(size_bytes / p, 2)\n",
    "    return \"%s %s\" % (s, size_name[i])"
   ]
  },
  {
   "cell_type": "code",
   "execution_count": 6,
   "id": "817adc79",
   "metadata": {
    "ExecuteTime": {
     "end_time": "2023-02-28T16:11:44.214260Z",
     "start_time": "2023-02-28T16:11:44.207474Z"
    }
   },
   "outputs": [],
   "source": [
    "def AUT(list_):\n",
    "    return sum([(list_[i] + list_[i+1])/2 for i, elm in enumerate(list_[:-1])])/(len(list_)-1) "
   ]
  },
  {
   "cell_type": "markdown",
   "id": "52e4dbae",
   "metadata": {},
   "source": [
    "# 일반 실험"
   ]
  },
  {
   "cell_type": "code",
   "execution_count": 7,
   "id": "e746e27c",
   "metadata": {
    "ExecuteTime": {
     "end_time": "2023-02-28T16:12:04.389780Z",
     "start_time": "2023-02-28T16:11:44.218508Z"
    }
   },
   "outputs": [],
   "source": [
    "for year in range(2014,2021):\n",
    "    model, t_time = make_model(train_X_dict[year], train_y_dict[year]['b/m'])\n",
    "    print(year, t_time, model.score(test_X_dict[year], test_y_dict[year]['b/m']))"
   ]
  },
  {
   "cell_type": "markdown",
   "id": "6f902ac3",
   "metadata": {},
   "source": [
    "# Sustainability 실험"
   ]
  },
  {
   "cell_type": "code",
   "execution_count": 8,
   "id": "711a695d",
   "metadata": {
    "ExecuteTime": {
     "end_time": "2023-02-28T16:12:04.401238Z",
     "start_time": "2023-02-28T16:12:04.394696Z"
    }
   },
   "outputs": [],
   "source": [
    "time_list=[]\n",
    "size_list=[]\n",
    "score_dict = dict()\n",
    "f1_dict = dict()"
   ]
  },
  {
   "cell_type": "code",
   "execution_count": 9,
   "id": "d0cf82ad",
   "metadata": {
    "ExecuteTime": {
     "end_time": "2023-02-28T16:12:04.424185Z",
     "start_time": "2023-02-28T16:12:04.404260Z"
    }
   },
   "outputs": [],
   "source": [
    "dir_path = './ex1_model'\n",
    "\n",
    "if os.path.exists(dir_path):\n",
    "    shutil.rmtree(dir_path)\n",
    "\n",
    "if not os.path.isdir(dir_path):\n",
    "    os.mkdir(dir_path)"
   ]
  },
  {
   "cell_type": "markdown",
   "id": "9cf804de",
   "metadata": {},
   "source": [
    "## 14 년도"
   ]
  },
  {
   "cell_type": "code",
   "execution_count": 10,
   "id": "633639ea",
   "metadata": {
    "ExecuteTime": {
     "end_time": "2023-02-28T16:12:07.704466Z",
     "start_time": "2023-02-28T16:12:04.428608Z"
    }
   },
   "outputs": [],
   "source": [
    "df = pd.concat([\n",
    "    train_X_dict[2014]\n",
    "])\n",
    "label = pd.concat([\n",
    "    train_y_dict[2014]['b/m']\n",
    "])\n",
    "\n",
    "year=14\n",
    "\n",
    "exec(f'model{year}, train_time = make_model(df, label)')\n",
    "exec(f'time_list.append((20{year}, train_time))')\n",
    "\n",
    "exec(f\"joblib.dump(model{year}, './ex1_model/model{year}.pkl')\")\n",
    "exec(f\"f_size = convert_size(os.path.getsize('./ex1_model/model{year}.pkl'))\")\n",
    "exec(f'size_list.append((20{year}, f_size))')\n",
    "\n",
    "print(train_time) \n",
    "print(f_size)"
   ]
  },
  {
   "cell_type": "code",
   "execution_count": 11,
   "id": "45e55586",
   "metadata": {
    "ExecuteTime": {
     "end_time": "2023-02-28T16:12:08.668821Z",
     "start_time": "2023-02-28T16:12:07.708098Z"
    },
    "scrolled": true
   },
   "outputs": [],
   "source": [
    "score_list=[eval(f'model{year}').score(test_X_dict[i], test_y_dict[i]['b/m']) for i in range(2014,2021)]\n",
    "f1_list = [f1_score(test_y_dict[i]['b/m'], eval(f'model{year}').predict(test_X_dict[i])) for i in range(2014,2021)]\n",
    "score_dict[year+2000] = score_list\n",
    "f1_dict[year+2000] = f1_list"
   ]
  },
  {
   "cell_type": "markdown",
   "id": "d529a12c",
   "metadata": {},
   "source": [
    "## 15 년도"
   ]
  },
  {
   "cell_type": "code",
   "execution_count": 12,
   "id": "b4cd0897",
   "metadata": {
    "ExecuteTime": {
     "end_time": "2023-02-28T16:12:15.809054Z",
     "start_time": "2023-02-28T16:12:08.674417Z"
    }
   },
   "outputs": [],
   "source": [
    "df = pd.concat([\n",
    "    train_X_dict[2014],\n",
    "    train_X_dict[2015],\n",
    "])\n",
    "label = pd.concat([\n",
    "    train_y_dict[2014]['b/m'],\n",
    "    train_y_dict[2015]['b/m']\n",
    "])\n",
    "\n",
    "year=15\n",
    "\n",
    "exec(f'model{year}, train_time = make_model(df, label)')\n",
    "exec(f'time_list.append((20{year}, train_time))')\n",
    "\n",
    "exec(f\"joblib.dump(model{year}, './ex1_model/model{year}.pkl')\")\n",
    "exec(f\"f_size = convert_size(os.path.getsize('./ex1_model/model{year}.pkl'))\")\n",
    "exec(f'size_list.append((20{year}, f_size))')\n",
    "\n",
    "print(train_time) \n",
    "print(f_size)"
   ]
  },
  {
   "cell_type": "code",
   "execution_count": 13,
   "id": "a24421f6",
   "metadata": {
    "ExecuteTime": {
     "end_time": "2023-02-28T16:12:16.863989Z",
     "start_time": "2023-02-28T16:12:15.812586Z"
    },
    "scrolled": false
   },
   "outputs": [],
   "source": [
    "score_list=[eval(f'model{year}').score(test_X_dict[i], test_y_dict[i]['b/m']) for i in range(2014,2021)]\n",
    "f1_list = [f1_score(test_y_dict[i]['b/m'], eval(f'model{year}').predict(test_X_dict[i])) for i in range(2014,2021)]\n",
    "score_dict[year+2000] = score_list\n",
    "f1_dict[year+2000] = f1_list"
   ]
  },
  {
   "cell_type": "code",
   "execution_count": null,
   "id": "b8da90a2",
   "metadata": {},
   "outputs": [],
   "source": []
  },
  {
   "cell_type": "markdown",
   "id": "01aba6ee",
   "metadata": {},
   "source": [
    "## 16년도"
   ]
  },
  {
   "cell_type": "code",
   "execution_count": 14,
   "id": "62249e35",
   "metadata": {
    "ExecuteTime": {
     "end_time": "2023-02-28T16:12:27.589218Z",
     "start_time": "2023-02-28T16:12:16.867267Z"
    }
   },
   "outputs": [],
   "source": [
    "df = pd.concat([\n",
    "    train_X_dict[2014],\n",
    "    train_X_dict[2015],\n",
    "    train_X_dict[2016],\n",
    "])\n",
    "label = pd.concat([\n",
    "    train_y_dict[2014]['b/m'],\n",
    "    train_y_dict[2015]['b/m'],\n",
    "    train_y_dict[2016]['b/m'],\n",
    "])\n",
    "\n",
    "year=16\n",
    "\n",
    "exec(f'model{year}, train_time = make_model(df, label)')\n",
    "exec(f'time_list.append((20{year}, train_time))')\n",
    "\n",
    "exec(f\"joblib.dump(model{year}, './ex1_model/model{year}.pkl')\")\n",
    "exec(f\"f_size = convert_size(os.path.getsize('./ex1_model/model{year}.pkl'))\")\n",
    "exec(f'size_list.append((20{year}, f_size))')\n",
    "\n",
    "print(train_time) \n",
    "print(f_size)"
   ]
  },
  {
   "cell_type": "code",
   "execution_count": 15,
   "id": "8d013ded",
   "metadata": {
    "ExecuteTime": {
     "end_time": "2023-02-28T16:12:28.687418Z",
     "start_time": "2023-02-28T16:12:27.593961Z"
    },
    "scrolled": false
   },
   "outputs": [],
   "source": [
    "score_list=[eval(f'model{year}').score(test_X_dict[i], test_y_dict[i]['b/m']) for i in range(2014,2021)]\n",
    "f1_list = [f1_score(test_y_dict[i]['b/m'], eval(f'model{year}').predict(test_X_dict[i])) for i in range(2014,2021)]\n",
    "score_dict[year+2000] = score_list\n",
    "f1_dict[year+2000] = f1_list"
   ]
  },
  {
   "cell_type": "code",
   "execution_count": null,
   "id": "667935f2",
   "metadata": {},
   "outputs": [],
   "source": []
  },
  {
   "cell_type": "markdown",
   "id": "3ef67cf3",
   "metadata": {},
   "source": [
    "## 17년도"
   ]
  },
  {
   "cell_type": "code",
   "execution_count": 16,
   "id": "ea1bbc5c",
   "metadata": {
    "ExecuteTime": {
     "end_time": "2023-02-28T16:12:44.375327Z",
     "start_time": "2023-02-28T16:12:28.690924Z"
    }
   },
   "outputs": [],
   "source": [
    "df = pd.concat([\n",
    "    train_X_dict[2014],\n",
    "    train_X_dict[2015],\n",
    "    train_X_dict[2016],\n",
    "    train_X_dict[2017],\n",
    "])\n",
    "label = pd.concat([\n",
    "    train_y_dict[2014]['b/m'],\n",
    "    train_y_dict[2015]['b/m'],\n",
    "    train_y_dict[2016]['b/m'],\n",
    "    train_y_dict[2017]['b/m'],\n",
    "])\n",
    "\n",
    "year=17\n",
    "\n",
    "exec(f'model{year}, train_time = make_model(df, label)')\n",
    "exec(f'time_list.append((20{year}, train_time))')\n",
    "\n",
    "exec(f\"joblib.dump(model{year}, './ex1_model/model{year}.pkl')\")\n",
    "exec(f\"f_size = convert_size(os.path.getsize('./ex1_model/model{year}.pkl'))\")\n",
    "exec(f'size_list.append((20{year}, f_size))')\n",
    "\n",
    "print(train_time) \n",
    "print(f_size)"
   ]
  },
  {
   "cell_type": "code",
   "execution_count": 17,
   "id": "aab3b506",
   "metadata": {
    "ExecuteTime": {
     "end_time": "2023-02-28T16:12:45.517789Z",
     "start_time": "2023-02-28T16:12:44.379460Z"
    },
    "scrolled": false
   },
   "outputs": [],
   "source": [
    "score_list=[eval(f'model{year}').score(test_X_dict[i], test_y_dict[i]['b/m']) for i in range(2014,2021)]\n",
    "f1_list = [f1_score(test_y_dict[i]['b/m'], eval(f'model{year}').predict(test_X_dict[i])) for i in range(2014,2021)]\n",
    "score_dict[year+2000] = score_list\n",
    "f1_dict[year+2000] = f1_list"
   ]
  },
  {
   "cell_type": "code",
   "execution_count": null,
   "id": "46a112f2",
   "metadata": {},
   "outputs": [],
   "source": []
  },
  {
   "cell_type": "markdown",
   "id": "e73ba617",
   "metadata": {},
   "source": [
    "## 18년도"
   ]
  },
  {
   "cell_type": "code",
   "execution_count": 18,
   "id": "af5e292a",
   "metadata": {
    "ExecuteTime": {
     "end_time": "2023-02-28T16:13:07.754212Z",
     "start_time": "2023-02-28T16:12:45.520872Z"
    }
   },
   "outputs": [],
   "source": [
    "df = pd.concat([\n",
    "    train_X_dict[2014],\n",
    "    train_X_dict[2015],\n",
    "    train_X_dict[2016],\n",
    "    train_X_dict[2017],\n",
    "    train_X_dict[2018],\n",
    "])\n",
    "label = pd.concat([\n",
    "    train_y_dict[2014]['b/m'],\n",
    "    train_y_dict[2015]['b/m'],\n",
    "    train_y_dict[2016]['b/m'],\n",
    "    train_y_dict[2017]['b/m'],\n",
    "    train_y_dict[2018]['b/m'],\n",
    "])\n",
    "\n",
    "year=18\n",
    "\n",
    "exec(f'model{year}, train_time = make_model(df, label)')\n",
    "exec(f'time_list.append((20{year}, train_time))')\n",
    "\n",
    "exec(f\"joblib.dump(model{year}, './ex1_model/model{year}.pkl')\")\n",
    "exec(f\"f_size = convert_size(os.path.getsize('./ex1_model/model{year}.pkl'))\")\n",
    "exec(f'size_list.append((20{year}, f_size))')\n",
    "\n",
    "print(train_time) \n",
    "print(f_size)"
   ]
  },
  {
   "cell_type": "code",
   "execution_count": 19,
   "id": "6b2207b0",
   "metadata": {
    "ExecuteTime": {
     "end_time": "2023-02-28T16:13:08.903904Z",
     "start_time": "2023-02-28T16:13:07.758676Z"
    },
    "scrolled": false
   },
   "outputs": [],
   "source": [
    "score_list=[eval(f'model{year}').score(test_X_dict[i], test_y_dict[i]['b/m']) for i in range(2014,2021)]\n",
    "f1_list = [f1_score(test_y_dict[i]['b/m'], eval(f'model{year}').predict(test_X_dict[i])) for i in range(2014,2021)]\n",
    "score_dict[year+2000] = score_list\n",
    "f1_dict[year+2000] = f1_list"
   ]
  },
  {
   "cell_type": "code",
   "execution_count": null,
   "id": "91446dec",
   "metadata": {},
   "outputs": [],
   "source": []
  },
  {
   "cell_type": "markdown",
   "id": "8daa773a",
   "metadata": {},
   "source": [
    "## 19년도"
   ]
  },
  {
   "cell_type": "code",
   "execution_count": 20,
   "id": "1eff044d",
   "metadata": {
    "ExecuteTime": {
     "end_time": "2023-02-28T16:13:36.636217Z",
     "start_time": "2023-02-28T16:13:08.907546Z"
    }
   },
   "outputs": [],
   "source": [
    "df = pd.concat([\n",
    "    train_X_dict[2014],\n",
    "    train_X_dict[2015],\n",
    "    train_X_dict[2016],\n",
    "    train_X_dict[2017],\n",
    "    train_X_dict[2018],\n",
    "    train_X_dict[2019],\n",
    "])\n",
    "label = pd.concat([\n",
    "    train_y_dict[2014]['b/m'],\n",
    "    train_y_dict[2015]['b/m'],\n",
    "    train_y_dict[2016]['b/m'],\n",
    "    train_y_dict[2017]['b/m'],\n",
    "    train_y_dict[2018]['b/m'],\n",
    "    train_y_dict[2019]['b/m'],\n",
    "])\n",
    "\n",
    "year=19\n",
    "\n",
    "exec(f'model{year}, train_time = make_model(df, label)')\n",
    "exec(f'time_list.append((20{year}, train_time))')\n",
    "\n",
    "exec(f\"joblib.dump(model{year}, './ex1_model/model{year}.pkl')\")\n",
    "exec(f\"f_size = convert_size(os.path.getsize('./ex1_model/model{year}.pkl'))\")\n",
    "exec(f'size_list.append((20{year}, f_size))')\n",
    "\n",
    "print(train_time) \n",
    "print(f_size)"
   ]
  },
  {
   "cell_type": "code",
   "execution_count": 21,
   "id": "96409de9",
   "metadata": {
    "ExecuteTime": {
     "end_time": "2023-02-28T16:13:37.859401Z",
     "start_time": "2023-02-28T16:13:36.639888Z"
    },
    "scrolled": false
   },
   "outputs": [],
   "source": [
    "score_list=[eval(f'model{year}').score(test_X_dict[i], test_y_dict[i]['b/m']) for i in range(2014,2021)]\n",
    "f1_list = [f1_score(test_y_dict[i]['b/m'], eval(f'model{year}').predict(test_X_dict[i])) for i in range(2014,2021)]\n",
    "score_dict[year+2000] = score_list\n",
    "f1_dict[year+2000] = f1_list"
   ]
  },
  {
   "cell_type": "code",
   "execution_count": null,
   "id": "26b77e8c",
   "metadata": {},
   "outputs": [],
   "source": []
  },
  {
   "cell_type": "markdown",
   "id": "719f43db",
   "metadata": {},
   "source": [
    "## 20년도"
   ]
  },
  {
   "cell_type": "code",
   "execution_count": 22,
   "id": "85c1827a",
   "metadata": {
    "ExecuteTime": {
     "end_time": "2023-02-28T16:14:09.602288Z",
     "start_time": "2023-02-28T16:13:37.865445Z"
    }
   },
   "outputs": [],
   "source": [
    "df = pd.concat([\n",
    "    train_X_dict[2014],\n",
    "    train_X_dict[2015],\n",
    "    train_X_dict[2016],\n",
    "    train_X_dict[2017],\n",
    "    train_X_dict[2018],\n",
    "    train_X_dict[2019],\n",
    "    train_X_dict[2020],\n",
    "])\n",
    "label = pd.concat([\n",
    "    train_y_dict[2014]['b/m'],\n",
    "    train_y_dict[2015]['b/m'],\n",
    "    train_y_dict[2016]['b/m'],\n",
    "    train_y_dict[2017]['b/m'],\n",
    "    train_y_dict[2018]['b/m'],\n",
    "    train_y_dict[2019]['b/m'],\n",
    "    train_y_dict[2020]['b/m'],\n",
    "])\n",
    "\n",
    "year=20\n",
    "\n",
    "exec(f'model{year}, train_time = make_model(df, label)')\n",
    "exec(f'time_list.append((20{year}, train_time))')\n",
    "\n",
    "exec(f\"joblib.dump(model{year}, './ex1_model/model{year}.pkl')\")\n",
    "exec(f\"f_size = convert_size(os.path.getsize('./ex1_model/model{year}.pkl'))\")\n",
    "exec(f'size_list.append((20{year}, f_size))')\n",
    "\n",
    "print(train_time) \n",
    "print(f_size)"
   ]
  },
  {
   "cell_type": "code",
   "execution_count": 23,
   "id": "19c027ce",
   "metadata": {
    "ExecuteTime": {
     "end_time": "2023-02-28T16:14:10.742960Z",
     "start_time": "2023-02-28T16:14:09.605760Z"
    },
    "scrolled": false
   },
   "outputs": [],
   "source": [
    "score_list=[eval(f'model{year}').score(test_X_dict[i], test_y_dict[i]['b/m']) for i in range(2014,2021)]\n",
    "f1_list = [f1_score(test_y_dict[i]['b/m'], eval(f'model{year}').predict(test_X_dict[i])) for i in range(2014,2021)]\n",
    "score_dict[year+2000] = score_list\n",
    "f1_dict[year+2000] = f1_list"
   ]
  },
  {
   "cell_type": "code",
   "execution_count": null,
   "id": "06cf6077",
   "metadata": {},
   "outputs": [],
   "source": []
  },
  {
   "cell_type": "markdown",
   "id": "83770681",
   "metadata": {},
   "source": [
    "# 결과"
   ]
  },
  {
   "cell_type": "code",
   "execution_count": 24,
   "id": "32fe5866",
   "metadata": {
    "ExecuteTime": {
     "end_time": "2023-02-28T16:14:10.755889Z",
     "start_time": "2023-02-28T16:14:10.746231Z"
    }
   },
   "outputs": [],
   "source": [
    "if not os.path.isdir('./visual'):\n",
    "    os.mkdir('./visual')"
   ]
  },
  {
   "cell_type": "code",
   "execution_count": 25,
   "id": "7dcd8005",
   "metadata": {
    "ExecuteTime": {
     "end_time": "2023-02-28T16:14:13.256725Z",
     "start_time": "2023-02-28T16:14:10.760108Z"
    }
   },
   "outputs": [],
   "source": [
    "years = range(2014,2021)\n",
    "x = np.arange(len(years))\n",
    "\n",
    "for i in range(2014,2021):\n",
    "    plt.bar(x-0.2 , score_dict[i], label=\"acc\", width=0.4, color='cornflowerblue')\n",
    "    plt.bar(x+0.2 , f1_dict[i], label=\"f1\", width=0.4, color='sandybrown')\n",
    "    plt.axvline(i-2013.5, 0, 1, color='lightgray', linestyle='--', linewidth=2)\n",
    "    if i ==2014:\n",
    "        plt.title(f'ex1_train 2014')\n",
    "    else:\n",
    "        plt.title(f'ex1_train 2014~{i}')\n",
    "    plt.xticks(x, years)\n",
    "    plt.ylim(0.5,1)\n",
    "    plt.legend()\n",
    "    plt.savefig(f\"./visual/ex1_{i}_acc_f1.png\")\n",
    "    plt.show()"
   ]
  },
  {
   "cell_type": "code",
   "execution_count": 26,
   "id": "a9e0ff81",
   "metadata": {
    "ExecuteTime": {
     "end_time": "2023-02-28T16:14:13.284589Z",
     "start_time": "2023-02-28T16:14:13.260583Z"
    }
   },
   "outputs": [],
   "source": [
    "df = pd.concat([\n",
    "    pd.DataFrame(time_list), \n",
    "    pd.DataFrame(size_list)[1], \n",
    "    pd.DataFrame([AUT(score_dict[i]) for i in range(2014,2021)]),\n",
    "    pd.DataFrame([AUT(f1_dict[i]) for i in range(2014,2021)]),\n",
    "], axis=1)\n",
    "\n",
    "df.columns=['year','train_time','model_file_size','accuracy','f1 score']\n",
    "df"
   ]
  },
  {
   "cell_type": "code",
   "execution_count": 27,
   "id": "3c434593",
   "metadata": {
    "ExecuteTime": {
     "end_time": "2023-02-28T16:14:13.305286Z",
     "start_time": "2023-02-28T16:14:13.289609Z"
    }
   },
   "outputs": [],
   "source": [
    "df.to_csv('./ex1_result.csv')"
   ]
  },
  {
   "cell_type": "code",
   "execution_count": 28,
   "id": "10c48120",
   "metadata": {
    "ExecuteTime": {
     "end_time": "2023-02-28T16:14:13.313531Z",
     "start_time": "2023-02-28T16:14:13.308280Z"
    }
   },
   "outputs": [],
   "source": [
    "print(len(time_list), len(size_list), len(score_dict), len(f1_dict))"
   ]
  },
  {
   "cell_type": "code",
   "execution_count": null,
   "id": "0c6fbf5d",
   "metadata": {},
   "outputs": [],
   "source": []
  },
  {
   "cell_type": "code",
   "execution_count": 33,
   "id": "af76f318",
   "metadata": {},
   "outputs": [
    {
     "data": {
      "text/html": [
       "<div>\n",
       "<style scoped>\n",
       "    .dataframe tbody tr th:only-of-type {\n",
       "        vertical-align: middle;\n",
       "    }\n",
       "\n",
       "    .dataframe tbody tr th {\n",
       "        vertical-align: top;\n",
       "    }\n",
       "\n",
       "    .dataframe thead th {\n",
       "        text-align: right;\n",
       "    }\n",
       "</style>\n",
       "<table border=\"1\" class=\"dataframe\">\n",
       "  <thead>\n",
       "    <tr style=\"text-align: right;\">\n",
       "      <th></th>\n",
       "      <th>0</th>\n",
       "      <th>1</th>\n",
       "      <th>2</th>\n",
       "      <th>3</th>\n",
       "      <th>4</th>\n",
       "      <th>5</th>\n",
       "      <th>6</th>\n",
       "    </tr>\n",
       "  </thead>\n",
       "  <tbody>\n",
       "    <tr>\n",
       "      <th>2014</th>\n",
       "      <td>0.9785</td>\n",
       "      <td>0.9270</td>\n",
       "      <td>0.9030</td>\n",
       "      <td>0.8205</td>\n",
       "      <td>0.8960</td>\n",
       "      <td>0.5860</td>\n",
       "      <td>0.5945</td>\n",
       "    </tr>\n",
       "    <tr>\n",
       "      <th>2015</th>\n",
       "      <td>0.9720</td>\n",
       "      <td>0.9835</td>\n",
       "      <td>0.9590</td>\n",
       "      <td>0.8320</td>\n",
       "      <td>0.9025</td>\n",
       "      <td>0.6145</td>\n",
       "      <td>0.5860</td>\n",
       "    </tr>\n",
       "    <tr>\n",
       "      <th>2016</th>\n",
       "      <td>0.9725</td>\n",
       "      <td>0.9855</td>\n",
       "      <td>0.9850</td>\n",
       "      <td>0.9500</td>\n",
       "      <td>0.9410</td>\n",
       "      <td>0.5620</td>\n",
       "      <td>0.5480</td>\n",
       "    </tr>\n",
       "    <tr>\n",
       "      <th>2017</th>\n",
       "      <td>0.9705</td>\n",
       "      <td>0.9790</td>\n",
       "      <td>0.9835</td>\n",
       "      <td>0.9905</td>\n",
       "      <td>0.9645</td>\n",
       "      <td>0.5630</td>\n",
       "      <td>0.5475</td>\n",
       "    </tr>\n",
       "    <tr>\n",
       "      <th>2018</th>\n",
       "      <td>0.9720</td>\n",
       "      <td>0.9810</td>\n",
       "      <td>0.9840</td>\n",
       "      <td>0.9900</td>\n",
       "      <td>0.9690</td>\n",
       "      <td>0.5585</td>\n",
       "      <td>0.5300</td>\n",
       "    </tr>\n",
       "    <tr>\n",
       "      <th>2019</th>\n",
       "      <td>0.9720</td>\n",
       "      <td>0.9760</td>\n",
       "      <td>0.9685</td>\n",
       "      <td>0.9835</td>\n",
       "      <td>0.9565</td>\n",
       "      <td>0.9665</td>\n",
       "      <td>0.9525</td>\n",
       "    </tr>\n",
       "    <tr>\n",
       "      <th>2020</th>\n",
       "      <td>0.9695</td>\n",
       "      <td>0.9725</td>\n",
       "      <td>0.9685</td>\n",
       "      <td>0.9840</td>\n",
       "      <td>0.9545</td>\n",
       "      <td>0.9730</td>\n",
       "      <td>0.9725</td>\n",
       "    </tr>\n",
       "  </tbody>\n",
       "</table>\n",
       "</div>"
      ],
      "text/plain": [
       "           0       1       2       3       4       5       6\n",
       "2014  0.9785  0.9270  0.9030  0.8205  0.8960  0.5860  0.5945\n",
       "2015  0.9720  0.9835  0.9590  0.8320  0.9025  0.6145  0.5860\n",
       "2016  0.9725  0.9855  0.9850  0.9500  0.9410  0.5620  0.5480\n",
       "2017  0.9705  0.9790  0.9835  0.9905  0.9645  0.5630  0.5475\n",
       "2018  0.9720  0.9810  0.9840  0.9900  0.9690  0.5585  0.5300\n",
       "2019  0.9720  0.9760  0.9685  0.9835  0.9565  0.9665  0.9525\n",
       "2020  0.9695  0.9725  0.9685  0.9840  0.9545  0.9730  0.9725"
      ]
     },
     "execution_count": 33,
     "metadata": {},
     "output_type": "execute_result"
    }
   ],
   "source": [
    "pd.DataFrame(score_dict).T"
   ]
  },
  {
   "cell_type": "code",
   "execution_count": 35,
   "id": "38282a92",
   "metadata": {},
   "outputs": [
    {
     "data": {
      "text/plain": [
       "[0.972, 0.976, 0.9685, 0.9835, 0.9565, 0.9665, 0.9525]"
      ]
     },
     "execution_count": 35,
     "metadata": {},
     "output_type": "execute_result"
    }
   ],
   "source": [
    "score_dict[2019]"
   ]
  }
 ],
 "metadata": {
  "kernelspec": {
   "display_name": "Python 3 (ipykernel)",
   "language": "python",
   "name": "python3"
  },
  "language_info": {
   "codemirror_mode": {
    "name": "ipython",
    "version": 3
   },
   "file_extension": ".py",
   "mimetype": "text/x-python",
   "name": "python",
   "nbconvert_exporter": "python",
   "pygments_lexer": "ipython3",
   "version": "3.10.6"
  },
  "toc": {
   "base_numbering": 1,
   "nav_menu": {},
   "number_sections": true,
   "sideBar": true,
   "skip_h1_title": false,
   "title_cell": "Table of Contents",
   "title_sidebar": "Contents",
   "toc_cell": false,
   "toc_position": {
    "height": "calc(100% - 180px)",
    "left": "10px",
    "top": "150px",
    "width": "257.6px"
   },
   "toc_section_display": true,
   "toc_window_display": true
  }
 },
 "nbformat": 4,
 "nbformat_minor": 5
}
