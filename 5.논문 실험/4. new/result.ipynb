{
 "cells": [
  {
   "cell_type": "code",
   "execution_count": 1,
   "id": "cb0a7a63",
   "metadata": {
    "ExecuteTime": {
     "end_time": "2023-02-28T16:36:02.277798Z",
     "start_time": "2023-02-28T16:36:02.271517Z"
    }
   },
   "outputs": [],
   "source": [
    "import pandas as pd\n",
    "import matplotlib.pyplot as plt\n",
    "import numpy as np\n",
    "import os\n",
    "from itertools import product\n"
   ]
  },
  {
   "cell_type": "code",
   "execution_count": 2,
   "id": "0678ff9b",
   "metadata": {
    "ExecuteTime": {
     "end_time": "2023-02-28T16:36:02.646913Z",
     "start_time": "2023-02-28T16:36:02.590413Z"
    }
   },
   "outputs": [],
   "source": [
    "df1 = pd.read_csv('./ex1_result.csv', index_col=0)\n",
    "df2 = pd.read_csv('./ex2_result.csv', index_col=0)\n",
    "df3 = pd.read_csv('./ex3_result.csv', index_col=0)\n",
    "df4 = pd.read_csv('./ex4_result.csv', index_col=0)"
   ]
  },
  {
   "cell_type": "code",
   "execution_count": 3,
   "id": "da623cf3",
   "metadata": {
    "ExecuteTime": {
     "end_time": "2023-02-28T16:36:03.235206Z",
     "start_time": "2023-02-28T16:36:03.214359Z"
    }
   },
   "outputs": [
    {
     "data": {
      "text/html": [
       "<div>\n",
       "<style scoped>\n",
       "    .dataframe tbody tr th:only-of-type {\n",
       "        vertical-align: middle;\n",
       "    }\n",
       "\n",
       "    .dataframe tbody tr th {\n",
       "        vertical-align: top;\n",
       "    }\n",
       "\n",
       "    .dataframe thead th {\n",
       "        text-align: right;\n",
       "    }\n",
       "</style>\n",
       "<table border=\"1\" class=\"dataframe\">\n",
       "  <thead>\n",
       "    <tr style=\"text-align: right;\">\n",
       "      <th></th>\n",
       "      <th>year</th>\n",
       "      <th>year_train_time</th>\n",
       "      <th>b/m_train_time</th>\n",
       "      <th>all_train_time</th>\n",
       "      <th>year model_file_size</th>\n",
       "      <th>b/m model_file_size</th>\n",
       "      <th>all model_file_size</th>\n",
       "      <th>accuracy</th>\n",
       "      <th>f1 score</th>\n",
       "    </tr>\n",
       "  </thead>\n",
       "  <tbody>\n",
       "    <tr>\n",
       "      <th>0</th>\n",
       "      <td>2014</td>\n",
       "      <td>102.278948</td>\n",
       "      <td>1668.528080</td>\n",
       "      <td>1770.807028</td>\n",
       "      <td>45.59 KB</td>\n",
       "      <td>7.86 MB</td>\n",
       "      <td>7.9 MB</td>\n",
       "      <td>0.819833</td>\n",
       "      <td>0.833311</td>\n",
       "    </tr>\n",
       "    <tr>\n",
       "      <th>1</th>\n",
       "      <td>2015</td>\n",
       "      <td>272.593975</td>\n",
       "      <td>1710.929871</td>\n",
       "      <td>1983.523846</td>\n",
       "      <td>447.24 KB</td>\n",
       "      <td>16.25 MB</td>\n",
       "      <td>16.69 MB</td>\n",
       "      <td>0.836250</td>\n",
       "      <td>0.854640</td>\n",
       "    </tr>\n",
       "    <tr>\n",
       "      <th>2</th>\n",
       "      <td>2016</td>\n",
       "      <td>357.078075</td>\n",
       "      <td>1691.186666</td>\n",
       "      <td>2048.264742</td>\n",
       "      <td>524.99 KB</td>\n",
       "      <td>23.17 MB</td>\n",
       "      <td>23.68 MB</td>\n",
       "      <td>0.861292</td>\n",
       "      <td>0.890150</td>\n",
       "    </tr>\n",
       "    <tr>\n",
       "      <th>3</th>\n",
       "      <td>2017</td>\n",
       "      <td>454.142809</td>\n",
       "      <td>1489.985704</td>\n",
       "      <td>1944.128513</td>\n",
       "      <td>578.48 KB</td>\n",
       "      <td>27.84 MB</td>\n",
       "      <td>28.4 MB</td>\n",
       "      <td>0.877917</td>\n",
       "      <td>0.903058</td>\n",
       "    </tr>\n",
       "    <tr>\n",
       "      <th>4</th>\n",
       "      <td>2018</td>\n",
       "      <td>598.846674</td>\n",
       "      <td>2576.433659</td>\n",
       "      <td>3175.280333</td>\n",
       "      <td>617.58 KB</td>\n",
       "      <td>32.39 MB</td>\n",
       "      <td>32.99 MB</td>\n",
       "      <td>0.870667</td>\n",
       "      <td>0.900740</td>\n",
       "    </tr>\n",
       "    <tr>\n",
       "      <th>5</th>\n",
       "      <td>2019</td>\n",
       "      <td>687.688351</td>\n",
       "      <td>1560.522556</td>\n",
       "      <td>2248.210907</td>\n",
       "      <td>666.96 KB</td>\n",
       "      <td>35.82 MB</td>\n",
       "      <td>36.47 MB</td>\n",
       "      <td>0.964417</td>\n",
       "      <td>0.963785</td>\n",
       "    </tr>\n",
       "    <tr>\n",
       "      <th>6</th>\n",
       "      <td>2020</td>\n",
       "      <td>789.910316</td>\n",
       "      <td>1681.072712</td>\n",
       "      <td>2470.983028</td>\n",
       "      <td>715.88 KB</td>\n",
       "      <td>39.06 MB</td>\n",
       "      <td>39.76 MB</td>\n",
       "      <td>0.964250</td>\n",
       "      <td>0.963492</td>\n",
       "    </tr>\n",
       "  </tbody>\n",
       "</table>\n",
       "</div>"
      ],
      "text/plain": [
       "   year  year_train_time  b/m_train_time  all_train_time year model_file_size  \\\n",
       "0  2014       102.278948     1668.528080     1770.807028             45.59 KB   \n",
       "1  2015       272.593975     1710.929871     1983.523846            447.24 KB   \n",
       "2  2016       357.078075     1691.186666     2048.264742            524.99 KB   \n",
       "3  2017       454.142809     1489.985704     1944.128513            578.48 KB   \n",
       "4  2018       598.846674     2576.433659     3175.280333            617.58 KB   \n",
       "5  2019       687.688351     1560.522556     2248.210907            666.96 KB   \n",
       "6  2020       789.910316     1681.072712     2470.983028            715.88 KB   \n",
       "\n",
       "  b/m model_file_size all model_file_size  accuracy  f1 score  \n",
       "0             7.86 MB              7.9 MB  0.819833  0.833311  \n",
       "1            16.25 MB            16.69 MB  0.836250  0.854640  \n",
       "2            23.17 MB            23.68 MB  0.861292  0.890150  \n",
       "3            27.84 MB             28.4 MB  0.877917  0.903058  \n",
       "4            32.39 MB            32.99 MB  0.870667  0.900740  \n",
       "5            35.82 MB            36.47 MB  0.964417  0.963785  \n",
       "6            39.06 MB            39.76 MB  0.964250  0.963492  "
      ]
     },
     "execution_count": 3,
     "metadata": {},
     "output_type": "execute_result"
    }
   ],
   "source": [
    "df4"
   ]
  },
  {
   "cell_type": "markdown",
   "id": "d2f7d49c",
   "metadata": {},
   "source": [
    "# train time"
   ]
  },
  {
   "cell_type": "code",
   "execution_count": 4,
   "id": "590b2d22",
   "metadata": {
    "ExecuteTime": {
     "end_time": "2023-02-28T16:36:03.797547Z",
     "start_time": "2023-02-28T16:36:03.774322Z"
    }
   },
   "outputs": [
    {
     "data": {
      "text/html": [
       "<div>\n",
       "<style scoped>\n",
       "    .dataframe tbody tr th:only-of-type {\n",
       "        vertical-align: middle;\n",
       "    }\n",
       "\n",
       "    .dataframe tbody tr th {\n",
       "        vertical-align: top;\n",
       "    }\n",
       "\n",
       "    .dataframe thead th {\n",
       "        text-align: right;\n",
       "    }\n",
       "</style>\n",
       "<table border=\"1\" class=\"dataframe\">\n",
       "  <thead>\n",
       "    <tr style=\"text-align: right;\">\n",
       "      <th></th>\n",
       "      <th>ex1</th>\n",
       "      <th>ex2</th>\n",
       "      <th>ex3</th>\n",
       "      <th>ex4</th>\n",
       "    </tr>\n",
       "  </thead>\n",
       "  <tbody>\n",
       "    <tr>\n",
       "      <th>2014</th>\n",
       "      <td>1669.679403</td>\n",
       "      <td>2656.193256</td>\n",
       "      <td>1478.762150</td>\n",
       "      <td>1770.807028</td>\n",
       "    </tr>\n",
       "    <tr>\n",
       "      <th>2015</th>\n",
       "      <td>3781.354189</td>\n",
       "      <td>2870.215893</td>\n",
       "      <td>1531.098366</td>\n",
       "      <td>1983.523846</td>\n",
       "    </tr>\n",
       "    <tr>\n",
       "      <th>2016</th>\n",
       "      <td>5940.449238</td>\n",
       "      <td>2936.114550</td>\n",
       "      <td>1468.998194</td>\n",
       "      <td>2048.264742</td>\n",
       "    </tr>\n",
       "    <tr>\n",
       "      <th>2017</th>\n",
       "      <td>9049.202919</td>\n",
       "      <td>2249.761343</td>\n",
       "      <td>1325.958252</td>\n",
       "      <td>1944.128513</td>\n",
       "    </tr>\n",
       "    <tr>\n",
       "      <th>2018</th>\n",
       "      <td>13406.296968</td>\n",
       "      <td>4301.076651</td>\n",
       "      <td>2238.579512</td>\n",
       "      <td>3175.280333</td>\n",
       "    </tr>\n",
       "    <tr>\n",
       "      <th>2019</th>\n",
       "      <td>21703.811884</td>\n",
       "      <td>2255.065203</td>\n",
       "      <td>1385.416508</td>\n",
       "      <td>2248.210907</td>\n",
       "    </tr>\n",
       "    <tr>\n",
       "      <th>2020</th>\n",
       "      <td>29611.822844</td>\n",
       "      <td>2078.777552</td>\n",
       "      <td>1475.602865</td>\n",
       "      <td>2470.983028</td>\n",
       "    </tr>\n",
       "  </tbody>\n",
       "</table>\n",
       "</div>"
      ],
      "text/plain": [
       "               ex1          ex2          ex3          ex4\n",
       "2014   1669.679403  2656.193256  1478.762150  1770.807028\n",
       "2015   3781.354189  2870.215893  1531.098366  1983.523846\n",
       "2016   5940.449238  2936.114550  1468.998194  2048.264742\n",
       "2017   9049.202919  2249.761343  1325.958252  1944.128513\n",
       "2018  13406.296968  4301.076651  2238.579512  3175.280333\n",
       "2019  21703.811884  2255.065203  1385.416508  2248.210907\n",
       "2020  29611.822844  2078.777552  1475.602865  2470.983028"
      ]
     },
     "execution_count": 4,
     "metadata": {},
     "output_type": "execute_result"
    }
   ],
   "source": [
    "dfs = pd.DataFrame()\n",
    "dfs['ex1'] = df1['train_time']\n",
    "dfs['ex2'] = df2['train_time']\n",
    "dfs['ex3'] = df3['train_time']\n",
    "dfs['ex4'] = df4['all_train_time']\n",
    "dfs.index = range(2014,2021)\n",
    "dfs"
   ]
  },
  {
   "cell_type": "code",
   "execution_count": 5,
   "id": "73b72729",
   "metadata": {
    "ExecuteTime": {
     "end_time": "2023-02-28T16:39:26.363586Z",
     "start_time": "2023-02-28T16:39:25.871780Z"
    }
   },
   "outputs": [
    {
     "data": {
      "image/png": "[encoded data removed]",
      "text/plain": [
       "<Figure size 640x480 with 1 Axes>"
      ]
     },
     "metadata": {},
     "output_type": "display_data"
    }
   ],
   "source": [
    "if not os.path.isdir('./visual5'):\n",
    "    os.mkdir('./visual5')\n",
    "\n",
    "\n",
    "\n",
    "years = range(2014,2021)\n",
    "x = np.arange(len(years))\n",
    "\n",
    "\n",
    "plt.bar(x-0.3 , df1['train_time'], label=\"t_clf\", width=0.2, color='cornflowerblue')\n",
    "plt.bar(x-0.1 , df2['train_time'], label=\"w_clf\", width=0.2, color='sandybrown')\n",
    "plt.bar(x+0.1 , df3['train_time'], label=\"v_clf\", width=0.2, color='cornflowerblue')\n",
    "# plt.bar(x+0.3 , df4['all_train_time'], label=\"ex4\", width=0.2, color='sandybrown')\n",
    "plt.bar(x+0.3 , df4['year_train_time'], label=\"yv_clf (y_clf) \", width=0.2, color='seagreen', bottom = df4['b/m_train_time'])\n",
    "plt.bar(x+0.3 , df4['b/m_train_time'], label=\"yv_clf (v_clf)\", width=0.2, color='sandybrown')\n",
    "\n",
    "\n",
    "plt.title(f'Train time(ms)')\n",
    "plt.xticks(x, years)\n",
    "plt.legend()\n",
    "plt.savefig(f\"./visual5/time.png\")\n",
    "plt.show()"
   ]
  },
  {
   "cell_type": "code",
   "execution_count": 6,
   "id": "ca585f2f",
   "metadata": {
    "ExecuteTime": {
     "end_time": "2023-02-28T16:39:59.521874Z",
     "start_time": "2023-02-28T16:39:59.104494Z"
    }
   },
   "outputs": [
    {
     "data": {
      "image/png": "[encoded data removed]",
      "text/plain": [
       "<Figure size 640x480 with 1 Axes>"
      ]
     },
     "metadata": {},
     "output_type": "display_data"
    },
    {
     "data": {
      "image/png": "[encoded data removed]",
      "text/plain": [
       "<Figure size 640x480 with 1 Axes>"
      ]
     },
     "metadata": {},
     "output_type": "display_data"
    }
   ],
   "source": [
    "years = range(2014,2021)\n",
    "x = np.arange(len(years))\n",
    "\n",
    "\n",
    "plt.bar(x-0.1 , df2['train_time'], label=\"ex2\", width=0.2, color='sandybrown')\n",
    "plt.bar(x+0.1 , df3['train_time'], label=\"ex3\", width=0.2, color='cornflowerblue')\n",
    "# plt.bar(x+0.3 , df4['all_train_time'], label=\"ex4\", width=0.2, color='seagreen')\n",
    "plt.bar(x+0.3 , df4['year_train_time'], label=\"ex4_year\", width=0.2, color='seagreen', bottom = df4['b/m_train_time'])\n",
    "plt.bar(x+0.3 , df4['b/m_train_time'], label=\"ex4_b/m\", width=0.2, color='sandybrown')\n",
    "\n",
    "\n",
    "plt.title(f'Train time(ms)')\n",
    "plt.xticks(x, years)\n",
    "plt.legend(loc=2)\n",
    "plt.savefig(f\"./visual5/time2.png\")\n",
    "plt.show()"
   ]
  },
  {
   "cell_type": "code",
   "execution_count": 7,
   "id": "bb8fbde2",
   "metadata": {
    "ExecuteTime": {
     "end_time": "2023-02-28T16:40:15.510366Z",
     "start_time": "2023-02-28T16:40:15.487373Z"
    }
   },
   "outputs": [
    {
     "data": {
      "text/html": [
       "<div>\n",
       "<style scoped>\n",
       "    .dataframe tbody tr th:only-of-type {\n",
       "        vertical-align: middle;\n",
       "    }\n",
       "\n",
       "    .dataframe tbody tr th {\n",
       "        vertical-align: top;\n",
       "    }\n",
       "\n",
       "    .dataframe thead th {\n",
       "        text-align: right;\n",
       "    }\n",
       "</style>\n",
       "<table border=\"1\" class=\"dataframe\">\n",
       "  <thead>\n",
       "    <tr style=\"text-align: right;\">\n",
       "      <th></th>\n",
       "      <th>ex2</th>\n",
       "      <th>ex3</th>\n",
       "      <th>ex4_year</th>\n",
       "      <th>ex4_b/m</th>\n",
       "      <th>ex4_all</th>\n",
       "    </tr>\n",
       "  </thead>\n",
       "  <tbody>\n",
       "    <tr>\n",
       "      <th>2014</th>\n",
       "      <td>2656.193256</td>\n",
       "      <td>1478.762150</td>\n",
       "      <td>102.278948</td>\n",
       "      <td>1668.528080</td>\n",
       "      <td>1770.807028</td>\n",
       "    </tr>\n",
       "    <tr>\n",
       "      <th>2015</th>\n",
       "      <td>2870.215893</td>\n",
       "      <td>1531.098366</td>\n",
       "      <td>272.593975</td>\n",
       "      <td>1710.929871</td>\n",
       "      <td>1983.523846</td>\n",
       "    </tr>\n",
       "    <tr>\n",
       "      <th>2016</th>\n",
       "      <td>2936.114550</td>\n",
       "      <td>1468.998194</td>\n",
       "      <td>357.078075</td>\n",
       "      <td>1691.186666</td>\n",
       "      <td>2048.264742</td>\n",
       "    </tr>\n",
       "    <tr>\n",
       "      <th>2017</th>\n",
       "      <td>2249.761343</td>\n",
       "      <td>1325.958252</td>\n",
       "      <td>454.142809</td>\n",
       "      <td>1489.985704</td>\n",
       "      <td>1944.128513</td>\n",
       "    </tr>\n",
       "    <tr>\n",
       "      <th>2018</th>\n",
       "      <td>4301.076651</td>\n",
       "      <td>2238.579512</td>\n",
       "      <td>598.846674</td>\n",
       "      <td>2576.433659</td>\n",
       "      <td>3175.280333</td>\n",
       "    </tr>\n",
       "    <tr>\n",
       "      <th>2019</th>\n",
       "      <td>2255.065203</td>\n",
       "      <td>1385.416508</td>\n",
       "      <td>687.688351</td>\n",
       "      <td>1560.522556</td>\n",
       "      <td>2248.210907</td>\n",
       "    </tr>\n",
       "    <tr>\n",
       "      <th>2020</th>\n",
       "      <td>2078.777552</td>\n",
       "      <td>1475.602865</td>\n",
       "      <td>789.910316</td>\n",
       "      <td>1681.072712</td>\n",
       "      <td>2470.983028</td>\n",
       "    </tr>\n",
       "  </tbody>\n",
       "</table>\n",
       "</div>"
      ],
      "text/plain": [
       "              ex2          ex3    ex4_year      ex4_b/m      ex4_all\n",
       "2014  2656.193256  1478.762150  102.278948  1668.528080  1770.807028\n",
       "2015  2870.215893  1531.098366  272.593975  1710.929871  1983.523846\n",
       "2016  2936.114550  1468.998194  357.078075  1691.186666  2048.264742\n",
       "2017  2249.761343  1325.958252  454.142809  1489.985704  1944.128513\n",
       "2018  4301.076651  2238.579512  598.846674  2576.433659  3175.280333\n",
       "2019  2255.065203  1385.416508  687.688351  1560.522556  2248.210907\n",
       "2020  2078.777552  1475.602865  789.910316  1681.072712  2470.983028"
      ]
     },
     "execution_count": 7,
     "metadata": {},
     "output_type": "execute_result"
    }
   ],
   "source": [
    "dfs_2 = pd.DataFrame()\n",
    "dfs_2['ex2'] = df2['train_time']\n",
    "dfs_2['ex3'] = df3['train_time']\n",
    "dfs_2['ex4_year'] = df4['year_train_time']\n",
    "dfs_2['ex4_b/m'] = df4['b/m_train_time']\n",
    "dfs_2['ex4_all'] = df4['all_train_time']\n",
    "dfs_2.index = range(2014,2021)\n",
    "dfs_2"
   ]
  },
  {
   "cell_type": "code",
   "execution_count": 29,
   "id": "398d9f43",
   "metadata": {},
   "outputs": [
    {
     "data": {
      "text/plain": [
       "2014     5.775838\n",
       "2015    13.742914\n",
       "2016    17.433199\n",
       "2017    23.359711\n",
       "2018    18.859647\n",
       "2019    30.588249\n",
       "2020    31.967452\n",
       "dtype: float64"
      ]
     },
     "execution_count": 29,
     "metadata": {},
     "output_type": "execute_result"
    }
   ],
   "source": [
    "dfs_2['ex4_year']/dfs_2['ex4_all']*100"
   ]
  },
  {
   "cell_type": "code",
   "execution_count": 30,
   "id": "73f2bbf9",
   "metadata": {},
   "outputs": [
    {
     "data": {
      "text/plain": [
       "2014    94.224162\n",
       "2015    86.257086\n",
       "2016    82.566801\n",
       "2017    76.640289\n",
       "2018    81.140353\n",
       "2019    69.411751\n",
       "2020    68.032548\n",
       "dtype: float64"
      ]
     },
     "execution_count": 30,
     "metadata": {},
     "output_type": "execute_result"
    }
   ],
   "source": [
    "dfs_2['ex4_b/m']/dfs_2['ex4_all']*100"
   ]
  },
  {
   "cell_type": "markdown",
   "id": "d9550c84",
   "metadata": {},
   "source": [
    "# file size"
   ]
  },
  {
   "cell_type": "code",
   "execution_count": 8,
   "id": "934e5435",
   "metadata": {
    "ExecuteTime": {
     "end_time": "2023-02-28T16:40:34.614671Z",
     "start_time": "2023-02-28T16:40:34.590520Z"
    }
   },
   "outputs": [
    {
     "data": {
      "text/html": [
       "<div>\n",
       "<style scoped>\n",
       "    .dataframe tbody tr th:only-of-type {\n",
       "        vertical-align: middle;\n",
       "    }\n",
       "\n",
       "    .dataframe tbody tr th {\n",
       "        vertical-align: top;\n",
       "    }\n",
       "\n",
       "    .dataframe thead th {\n",
       "        text-align: right;\n",
       "    }\n",
       "</style>\n",
       "<table border=\"1\" class=\"dataframe\">\n",
       "  <thead>\n",
       "    <tr style=\"text-align: right;\">\n",
       "      <th></th>\n",
       "      <th>ex1</th>\n",
       "      <th>ex2</th>\n",
       "      <th>ex3</th>\n",
       "      <th>ex4</th>\n",
       "    </tr>\n",
       "  </thead>\n",
       "  <tbody>\n",
       "    <tr>\n",
       "      <th>2014</th>\n",
       "      <td>7.86</td>\n",
       "      <td>7.86</td>\n",
       "      <td>7.86</td>\n",
       "      <td>7.90</td>\n",
       "    </tr>\n",
       "    <tr>\n",
       "      <th>2015</th>\n",
       "      <td>15.61</td>\n",
       "      <td>16.29</td>\n",
       "      <td>16.25</td>\n",
       "      <td>16.69</td>\n",
       "    </tr>\n",
       "    <tr>\n",
       "      <th>2016</th>\n",
       "      <td>20.21</td>\n",
       "      <td>22.92</td>\n",
       "      <td>23.17</td>\n",
       "      <td>23.68</td>\n",
       "    </tr>\n",
       "    <tr>\n",
       "      <th>2017</th>\n",
       "      <td>24.41</td>\n",
       "      <td>27.52</td>\n",
       "      <td>27.84</td>\n",
       "      <td>28.40</td>\n",
       "    </tr>\n",
       "    <tr>\n",
       "      <th>2018</th>\n",
       "      <td>27.72</td>\n",
       "      <td>31.94</td>\n",
       "      <td>32.39</td>\n",
       "      <td>32.99</td>\n",
       "    </tr>\n",
       "    <tr>\n",
       "      <th>2019</th>\n",
       "      <td>36.02</td>\n",
       "      <td>35.27</td>\n",
       "      <td>35.82</td>\n",
       "      <td>36.47</td>\n",
       "    </tr>\n",
       "    <tr>\n",
       "      <th>2020</th>\n",
       "      <td>39.98</td>\n",
       "      <td>38.39</td>\n",
       "      <td>39.06</td>\n",
       "      <td>39.76</td>\n",
       "    </tr>\n",
       "  </tbody>\n",
       "</table>\n",
       "</div>"
      ],
      "text/plain": [
       "        ex1    ex2    ex3    ex4\n",
       "2014   7.86   7.86   7.86   7.90\n",
       "2015  15.61  16.29  16.25  16.69\n",
       "2016  20.21  22.92  23.17  23.68\n",
       "2017  24.41  27.52  27.84  28.40\n",
       "2018  27.72  31.94  32.39  32.99\n",
       "2019  36.02  35.27  35.82  36.47\n",
       "2020  39.98  38.39  39.06  39.76"
      ]
     },
     "execution_count": 8,
     "metadata": {},
     "output_type": "execute_result"
    }
   ],
   "source": [
    "dfs2 = pd.DataFrame()\n",
    "dfs2['ex1'] = df1['model_file_size'].str[:-3].astype(float)\n",
    "dfs2['ex2'] = df2['model_file_size'].str[:-3].astype(float)\n",
    "dfs2['ex3'] = df3['model_file_size'].str[:-3].astype(float)\n",
    "dfs2['ex4'] = df4['all model_file_size'].str[:-3].astype(float)\n",
    "dfs2.index = range(2014,2021)\n",
    "dfs2"
   ]
  },
  {
   "cell_type": "code",
   "execution_count": 9,
   "id": "b6ffddcb",
   "metadata": {
    "ExecuteTime": {
     "end_time": "2023-02-28T16:41:01.599582Z",
     "start_time": "2023-02-28T16:41:01.567998Z"
    }
   },
   "outputs": [
    {
     "data": {
      "text/html": [
       "<div>\n",
       "<style scoped>\n",
       "    .dataframe tbody tr th:only-of-type {\n",
       "        vertical-align: middle;\n",
       "    }\n",
       "\n",
       "    .dataframe tbody tr th {\n",
       "        vertical-align: top;\n",
       "    }\n",
       "\n",
       "    .dataframe thead th {\n",
       "        text-align: right;\n",
       "    }\n",
       "</style>\n",
       "<table border=\"1\" class=\"dataframe\">\n",
       "  <thead>\n",
       "    <tr style=\"text-align: right;\">\n",
       "      <th></th>\n",
       "      <th>ex1</th>\n",
       "      <th>ex2</th>\n",
       "      <th>ex3</th>\n",
       "      <th>ex4_year</th>\n",
       "      <th>ex4_b/m</th>\n",
       "      <th>ex4_all</th>\n",
       "    </tr>\n",
       "  </thead>\n",
       "  <tbody>\n",
       "    <tr>\n",
       "      <th>2014</th>\n",
       "      <td>7.86</td>\n",
       "      <td>7.86</td>\n",
       "      <td>7.86</td>\n",
       "      <td>0.040000</td>\n",
       "      <td>7.86</td>\n",
       "      <td>7.90</td>\n",
       "    </tr>\n",
       "    <tr>\n",
       "      <th>2015</th>\n",
       "      <td>15.61</td>\n",
       "      <td>16.29</td>\n",
       "      <td>16.25</td>\n",
       "      <td>0.436758</td>\n",
       "      <td>16.25</td>\n",
       "      <td>16.69</td>\n",
       "    </tr>\n",
       "    <tr>\n",
       "      <th>2016</th>\n",
       "      <td>20.21</td>\n",
       "      <td>22.92</td>\n",
       "      <td>23.17</td>\n",
       "      <td>0.512686</td>\n",
       "      <td>23.17</td>\n",
       "      <td>23.68</td>\n",
       "    </tr>\n",
       "    <tr>\n",
       "      <th>2017</th>\n",
       "      <td>24.41</td>\n",
       "      <td>27.52</td>\n",
       "      <td>27.84</td>\n",
       "      <td>0.564922</td>\n",
       "      <td>27.84</td>\n",
       "      <td>28.40</td>\n",
       "    </tr>\n",
       "    <tr>\n",
       "      <th>2018</th>\n",
       "      <td>27.72</td>\n",
       "      <td>31.94</td>\n",
       "      <td>32.39</td>\n",
       "      <td>0.603105</td>\n",
       "      <td>32.39</td>\n",
       "      <td>32.99</td>\n",
       "    </tr>\n",
       "    <tr>\n",
       "      <th>2019</th>\n",
       "      <td>36.02</td>\n",
       "      <td>35.27</td>\n",
       "      <td>35.82</td>\n",
       "      <td>0.651328</td>\n",
       "      <td>35.82</td>\n",
       "      <td>36.47</td>\n",
       "    </tr>\n",
       "    <tr>\n",
       "      <th>2020</th>\n",
       "      <td>39.98</td>\n",
       "      <td>38.39</td>\n",
       "      <td>39.06</td>\n",
       "      <td>0.699102</td>\n",
       "      <td>39.06</td>\n",
       "      <td>39.76</td>\n",
       "    </tr>\n",
       "  </tbody>\n",
       "</table>\n",
       "</div>"
      ],
      "text/plain": [
       "        ex1    ex2    ex3  ex4_year  ex4_b/m  ex4_all\n",
       "2014   7.86   7.86   7.86  0.040000     7.86     7.90\n",
       "2015  15.61  16.29  16.25  0.436758    16.25    16.69\n",
       "2016  20.21  22.92  23.17  0.512686    23.17    23.68\n",
       "2017  24.41  27.52  27.84  0.564922    27.84    28.40\n",
       "2018  27.72  31.94  32.39  0.603105    32.39    32.99\n",
       "2019  36.02  35.27  35.82  0.651328    35.82    36.47\n",
       "2020  39.98  38.39  39.06  0.699102    39.06    39.76"
      ]
     },
     "execution_count": 9,
     "metadata": {},
     "output_type": "execute_result"
    }
   ],
   "source": [
    "dfs2_2 = pd.DataFrame()\n",
    "dfs2_2['ex1'] = df1['model_file_size'].str[:-3].astype(float)\n",
    "dfs2_2['ex2'] = df2['model_file_size'].str[:-3].astype(float)\n",
    "dfs2_2['ex3'] = df3['model_file_size'].str[:-3].astype(float)\n",
    "dfs2_2['ex4_year'] = df4['year model_file_size'].str[:-3].astype(float)/1024\n",
    "dfs2_2['ex4_b/m'] = df4['b/m model_file_size'].str[:-3].astype(float)\n",
    "dfs2_2['ex4_all'] = df4['all model_file_size'].str[:-3].astype(float)\n",
    "dfs2_2['ex4_year'][0]=0.04\n",
    "dfs2_2.index = range(2014,2021)\n",
    "dfs2_2"
   ]
  },
  {
   "cell_type": "code",
   "execution_count": 27,
   "id": "12b116bc",
   "metadata": {},
   "outputs": [
    {
     "data": {
      "text/plain": [
       "2014    0.506329\n",
       "2015    2.616883\n",
       "2016    2.165057\n",
       "2017    1.989162\n",
       "2018    1.828146\n",
       "2019    1.785929\n",
       "2020    1.758304\n",
       "dtype: float64"
      ]
     },
     "execution_count": 27,
     "metadata": {},
     "output_type": "execute_result"
    }
   ],
   "source": [
    "dfs2_2['ex4_year']/dfs2_2['ex4_all']*100"
   ]
  },
  {
   "cell_type": "code",
   "execution_count": 28,
   "id": "13764ed0",
   "metadata": {},
   "outputs": [
    {
     "data": {
      "text/plain": [
       "2014    99.493671\n",
       "2015    97.363691\n",
       "2016    97.846284\n",
       "2017    98.028169\n",
       "2018    98.181267\n",
       "2019    98.217713\n",
       "2020    98.239437\n",
       "dtype: float64"
      ]
     },
     "execution_count": 28,
     "metadata": {},
     "output_type": "execute_result"
    }
   ],
   "source": [
    "dfs2_2['ex4_b/m']/dfs2_2['ex4_all']*100"
   ]
  },
  {
   "cell_type": "code",
   "execution_count": 10,
   "id": "36f72d45",
   "metadata": {
    "ExecuteTime": {
     "end_time": "2023-02-28T16:41:03.066293Z",
     "start_time": "2023-02-28T16:41:02.542825Z"
    },
    "scrolled": false
   },
   "outputs": [
    {
     "data": {
      "image/png": "[encoded data removed]",
      "text/plain": [
       "<Figure size 640x480 with 1 Axes>"
      ]
     },
     "metadata": {},
     "output_type": "display_data"
    }
   ],
   "source": [
    "years = range(2014,2021)\n",
    "x = np.arange(len(years))\n",
    "\n",
    "plt.bar(x-0.3 , dfs2['ex1'], label=\"t_clf\", width=0.2, color='cornflowerblue')\n",
    "plt.bar(x-0.1 , dfs2['ex2'], label=\"w_clf\", width=0.2, color='sandybrown')\n",
    "plt.bar(x+0.1 , dfs2['ex3'], label=\"v_clf\", width=0.2, color='cornflowerblue')\n",
    "plt.bar(x+0.3 , dfs2_2['ex4_b/m'], label=\"yv_clf(v_clf)\", width=0.2, color='sandybrown')\n",
    "plt.bar(x+0.3 , dfs2_2['ex4_year'], label=\"yv_clf(y_clf)\", width=0.2, color='seagreen', bottom = dfs2_2['ex4_b/m'])\n",
    "\n",
    "\n",
    "\n",
    "plt.title(f'File size(MB)')\n",
    "plt.xticks(x, years)\n",
    "plt.legend()\n",
    "plt.savefig(f\"./visual5/filesize.png\")\n",
    "plt.show()"
   ]
  },
  {
   "cell_type": "code",
   "execution_count": 11,
   "id": "56c04a2e",
   "metadata": {
    "ExecuteTime": {
     "end_time": "2023-02-28T16:47:00.871012Z",
     "start_time": "2023-02-28T16:47:00.849052Z"
    }
   },
   "outputs": [
    {
     "data": {
      "text/html": [
       "<div>\n",
       "<style scoped>\n",
       "    .dataframe tbody tr th:only-of-type {\n",
       "        vertical-align: middle;\n",
       "    }\n",
       "\n",
       "    .dataframe tbody tr th {\n",
       "        vertical-align: top;\n",
       "    }\n",
       "\n",
       "    .dataframe thead th {\n",
       "        text-align: right;\n",
       "    }\n",
       "</style>\n",
       "<table border=\"1\" class=\"dataframe\">\n",
       "  <thead>\n",
       "    <tr style=\"text-align: right;\">\n",
       "      <th></th>\n",
       "      <th>ex1</th>\n",
       "      <th>ex2</th>\n",
       "      <th>ex3</th>\n",
       "      <th>ex4</th>\n",
       "    </tr>\n",
       "  </thead>\n",
       "  <tbody>\n",
       "    <tr>\n",
       "      <th>2014</th>\n",
       "      <td>0.819833</td>\n",
       "      <td>0.819833</td>\n",
       "      <td>0.819833</td>\n",
       "      <td>0.819833</td>\n",
       "    </tr>\n",
       "    <tr>\n",
       "      <th>2015</th>\n",
       "      <td>0.845083</td>\n",
       "      <td>0.849125</td>\n",
       "      <td>0.842750</td>\n",
       "      <td>0.836250</td>\n",
       "    </tr>\n",
       "    <tr>\n",
       "      <th>2016</th>\n",
       "      <td>0.863958</td>\n",
       "      <td>0.863417</td>\n",
       "      <td>0.863458</td>\n",
       "      <td>0.861292</td>\n",
       "    </tr>\n",
       "    <tr>\n",
       "      <th>2017</th>\n",
       "      <td>0.873250</td>\n",
       "      <td>0.866167</td>\n",
       "      <td>0.866375</td>\n",
       "      <td>0.877917</td>\n",
       "    </tr>\n",
       "    <tr>\n",
       "      <th>2018</th>\n",
       "      <td>0.872250</td>\n",
       "      <td>0.873417</td>\n",
       "      <td>0.871667</td>\n",
       "      <td>0.870667</td>\n",
       "    </tr>\n",
       "    <tr>\n",
       "      <th>2019</th>\n",
       "      <td>0.968875</td>\n",
       "      <td>0.873125</td>\n",
       "      <td>0.875583</td>\n",
       "      <td>0.964417</td>\n",
       "    </tr>\n",
       "    <tr>\n",
       "      <th>2020</th>\n",
       "      <td>0.970583</td>\n",
       "      <td>0.865042</td>\n",
       "      <td>0.865833</td>\n",
       "      <td>0.964250</td>\n",
       "    </tr>\n",
       "  </tbody>\n",
       "</table>\n",
       "</div>"
      ],
      "text/plain": [
       "           ex1       ex2       ex3       ex4\n",
       "2014  0.819833  0.819833  0.819833  0.819833\n",
       "2015  0.845083  0.849125  0.842750  0.836250\n",
       "2016  0.863958  0.863417  0.863458  0.861292\n",
       "2017  0.873250  0.866167  0.866375  0.877917\n",
       "2018  0.872250  0.873417  0.871667  0.870667\n",
       "2019  0.968875  0.873125  0.875583  0.964417\n",
       "2020  0.970583  0.865042  0.865833  0.964250"
      ]
     },
     "execution_count": 11,
     "metadata": {},
     "output_type": "execute_result"
    }
   ],
   "source": [
    "dfs3 = pd.DataFrame()\n",
    "dfs3['ex1'] = df1['accuracy']\n",
    "dfs3['ex2'] = df2['accuracy']\n",
    "dfs3['ex3'] = df3['accuracy']\n",
    "dfs3['ex4'] = df4['accuracy']\n",
    "dfs3.index = range(2014,2021)\n",
    "dfs3"
   ]
  },
  {
   "cell_type": "code",
   "execution_count": 12,
   "id": "cc35e8c3",
   "metadata": {
    "ExecuteTime": {
     "end_time": "2023-02-28T16:47:01.911078Z",
     "start_time": "2023-02-28T16:47:01.454615Z"
    }
   },
   "outputs": [
    {
     "data": {
      "image/png": "[encoded data removed]",
      "text/plain": [
       "<Figure size 640x480 with 1 Axes>"
      ]
     },
     "metadata": {},
     "output_type": "display_data"
    }
   ],
   "source": [
    "years = range(2014,2021)\n",
    "x = np.arange(len(years))\n",
    "\n",
    "\n",
    "plt.bar(x-0.3 , dfs3['ex1'], label=\"t_clf\", width=0.2, color='cornflowerblue')\n",
    "plt.bar(x-0.1 , dfs3['ex2'], label=\"w_clf\", width=0.2, color='sandybrown')\n",
    "plt.bar(x+0.1 , dfs3['ex3'], label=\"v_clf\", width=0.2, color='cornflowerblue')\n",
    "plt.bar(x+0.3 , dfs3['ex4'], label=\"yv_clf\", width=0.2, color='sandybrown')\n",
    "\n",
    "plt.title(f'accuracy')\n",
    "plt.xticks(x, years)\n",
    "plt.ylim(0.7,1)\n",
    "plt.legend()\n",
    "plt.savefig(f\"./visual5/acc.png\")\n",
    "plt.show()"
   ]
  },
  {
   "cell_type": "code",
   "execution_count": 13,
   "id": "26119519",
   "metadata": {
    "ExecuteTime": {
     "end_time": "2023-02-28T16:55:48.311080Z",
     "start_time": "2023-02-28T16:55:48.303904Z"
    }
   },
   "outputs": [],
   "source": [
    "def AUT(list_):\n",
    "    return sum([(list_[i] + list_[i+1])/2 for i, elm in enumerate(list_[:-1])])/(len(list_)-1) "
   ]
  },
  {
   "cell_type": "code",
   "execution_count": 14,
   "id": "587a3910",
   "metadata": {},
   "outputs": [
    {
     "data": {
      "text/plain": [
       "(0.8864375, 0.8612812500000001, 0.8604444444444445, 0.8837638888888889)"
      ]
     },
     "execution_count": 14,
     "metadata": {},
     "output_type": "execute_result"
    }
   ],
   "source": [
    "AUT(list(dfs3['ex1'])), AUT(list(dfs3['ex2'])), AUT(list(dfs3['ex3'])), AUT(list(dfs3['ex4']))"
   ]
  },
  {
   "cell_type": "code",
   "execution_count": 15,
   "id": "ec9bf39f",
   "metadata": {
    "ExecuteTime": {
     "end_time": "2023-02-28T16:47:02.805585Z",
     "start_time": "2023-02-28T16:47:02.782987Z"
    }
   },
   "outputs": [
    {
     "data": {
      "text/html": [
       "<div>\n",
       "<style scoped>\n",
       "    .dataframe tbody tr th:only-of-type {\n",
       "        vertical-align: middle;\n",
       "    }\n",
       "\n",
       "    .dataframe tbody tr th {\n",
       "        vertical-align: top;\n",
       "    }\n",
       "\n",
       "    .dataframe thead th {\n",
       "        text-align: right;\n",
       "    }\n",
       "</style>\n",
       "<table border=\"1\" class=\"dataframe\">\n",
       "  <thead>\n",
       "    <tr style=\"text-align: right;\">\n",
       "      <th></th>\n",
       "      <th>ex1</th>\n",
       "      <th>ex2</th>\n",
       "      <th>ex3</th>\n",
       "      <th>ex4</th>\n",
       "    </tr>\n",
       "  </thead>\n",
       "  <tbody>\n",
       "    <tr>\n",
       "      <th>2014</th>\n",
       "      <td>0.833311</td>\n",
       "      <td>0.833311</td>\n",
       "      <td>0.833311</td>\n",
       "      <td>0.833311</td>\n",
       "    </tr>\n",
       "    <tr>\n",
       "      <th>2015</th>\n",
       "      <td>0.864195</td>\n",
       "      <td>0.865700</td>\n",
       "      <td>0.859634</td>\n",
       "      <td>0.854640</td>\n",
       "    </tr>\n",
       "    <tr>\n",
       "      <th>2016</th>\n",
       "      <td>0.896950</td>\n",
       "      <td>0.888783</td>\n",
       "      <td>0.888700</td>\n",
       "      <td>0.890150</td>\n",
       "    </tr>\n",
       "    <tr>\n",
       "      <th>2017</th>\n",
       "      <td>0.907220</td>\n",
       "      <td>0.891122</td>\n",
       "      <td>0.891137</td>\n",
       "      <td>0.903058</td>\n",
       "    </tr>\n",
       "    <tr>\n",
       "      <th>2018</th>\n",
       "      <td>0.907322</td>\n",
       "      <td>0.899657</td>\n",
       "      <td>0.898404</td>\n",
       "      <td>0.900740</td>\n",
       "    </tr>\n",
       "    <tr>\n",
       "      <th>2019</th>\n",
       "      <td>0.968750</td>\n",
       "      <td>0.892756</td>\n",
       "      <td>0.894629</td>\n",
       "      <td>0.963785</td>\n",
       "    </tr>\n",
       "    <tr>\n",
       "      <th>2020</th>\n",
       "      <td>0.970493</td>\n",
       "      <td>0.867997</td>\n",
       "      <td>0.870202</td>\n",
       "      <td>0.963492</td>\n",
       "    </tr>\n",
       "  </tbody>\n",
       "</table>\n",
       "</div>"
      ],
      "text/plain": [
       "           ex1       ex2       ex3       ex4\n",
       "2014  0.833311  0.833311  0.833311  0.833311\n",
       "2015  0.864195  0.865700  0.859634  0.854640\n",
       "2016  0.896950  0.888783  0.888700  0.890150\n",
       "2017  0.907220  0.891122  0.891137  0.903058\n",
       "2018  0.907322  0.899657  0.898404  0.900740\n",
       "2019  0.968750  0.892756  0.894629  0.963785\n",
       "2020  0.970493  0.867997  0.870202  0.963492"
      ]
     },
     "execution_count": 15,
     "metadata": {},
     "output_type": "execute_result"
    }
   ],
   "source": [
    "dfs4 = pd.DataFrame()\n",
    "dfs4['ex1'] = df1['f1 score']\n",
    "dfs4['ex2'] = df2['f1 score']\n",
    "dfs4['ex3'] = df3['f1 score']\n",
    "dfs4['ex4'] = df4['f1 score']\n",
    "dfs4.index = range(2014,2021)\n",
    "dfs4"
   ]
  },
  {
   "cell_type": "code",
   "execution_count": 16,
   "id": "eb8690d4",
   "metadata": {
    "ExecuteTime": {
     "end_time": "2023-02-28T16:47:04.144347Z",
     "start_time": "2023-02-28T16:47:03.662641Z"
    }
   },
   "outputs": [
    {
     "data": {
      "image/png": "[encoded data removed]",
      "text/plain": [
       "<Figure size 640x480 with 1 Axes>"
      ]
     },
     "metadata": {},
     "output_type": "display_data"
    }
   ],
   "source": [
    "years = range(2014,2021)\n",
    "x = np.arange(len(years))\n",
    "\n",
    "\n",
    "plt.bar(x-0.3 , dfs4['ex1'], label=\"t_clf\", width=0.2, color='cornflowerblue')\n",
    "plt.bar(x-0.1 , dfs4['ex2'], label=\"w_clf\", width=0.2, color='sandybrown')\n",
    "plt.bar(x+0.1 , dfs4['ex3'], label=\"v_clf\", width=0.2, color='cornflowerblue')\n",
    "plt.bar(x+0.3 , dfs4['ex4'], label=\"yv_clf\", width=0.2, color='sandybrown')\n",
    "\n",
    "plt.title(f'f1 score')\n",
    "plt.xticks(x, years)\n",
    "plt.ylim(0.7,1)\n",
    "plt.legend()\n",
    "plt.savefig(f\"./visual5/f1.png\")\n",
    "plt.show()"
   ]
  },
  {
   "cell_type": "code",
   "execution_count": null,
   "id": "445e2f32",
   "metadata": {},
   "outputs": [],
   "source": []
  },
  {
   "cell_type": "code",
   "execution_count": 17,
   "id": "c08d7af7",
   "metadata": {},
   "outputs": [],
   "source": [
    "df=pd.DataFrame(\n",
    "[\n",
    "[0.9695, 0.9725, 0.9685, 0.984, 0.9545, 0.973, 0.9725],\n",
    "[0.8815, 0.829, 0.886, 0.963, 0.9465, 0.7495, 0.751],\n",
    "[0.884, 0.8355, 0.8925, 0.963, 0.947, 0.746, 0.738],\n",
    "[0.9755, 0.9745, 0.9705, 0.958, 0.9375, 0.969, 0.9765]\n",
    "]).T\n",
    "df.columns=['t_clf','w_clf','v_clf','yv_clf']\n",
    "df.index=range(2014,2021)"
   ]
  },
  {
   "cell_type": "code",
   "execution_count": 18,
   "id": "8243b3cd",
   "metadata": {},
   "outputs": [
    {
     "data": {
      "text/html": [
       "<div>\n",
       "<style scoped>\n",
       "    .dataframe tbody tr th:only-of-type {\n",
       "        vertical-align: middle;\n",
       "    }\n",
       "\n",
       "    .dataframe tbody tr th {\n",
       "        vertical-align: top;\n",
       "    }\n",
       "\n",
       "    .dataframe thead th {\n",
       "        text-align: right;\n",
       "    }\n",
       "</style>\n",
       "<table border=\"1\" class=\"dataframe\">\n",
       "  <thead>\n",
       "    <tr style=\"text-align: right;\">\n",
       "      <th></th>\n",
       "      <th>t_clf</th>\n",
       "      <th>w_clf</th>\n",
       "      <th>v_clf</th>\n",
       "      <th>yv_clf</th>\n",
       "    </tr>\n",
       "  </thead>\n",
       "  <tbody>\n",
       "    <tr>\n",
       "      <th>2014</th>\n",
       "      <td>0.9695</td>\n",
       "      <td>0.8815</td>\n",
       "      <td>0.8840</td>\n",
       "      <td>0.9755</td>\n",
       "    </tr>\n",
       "    <tr>\n",
       "      <th>2015</th>\n",
       "      <td>0.9725</td>\n",
       "      <td>0.8290</td>\n",
       "      <td>0.8355</td>\n",
       "      <td>0.9745</td>\n",
       "    </tr>\n",
       "    <tr>\n",
       "      <th>2016</th>\n",
       "      <td>0.9685</td>\n",
       "      <td>0.8860</td>\n",
       "      <td>0.8925</td>\n",
       "      <td>0.9705</td>\n",
       "    </tr>\n",
       "    <tr>\n",
       "      <th>2017</th>\n",
       "      <td>0.9840</td>\n",
       "      <td>0.9630</td>\n",
       "      <td>0.9630</td>\n",
       "      <td>0.9580</td>\n",
       "    </tr>\n",
       "    <tr>\n",
       "      <th>2018</th>\n",
       "      <td>0.9545</td>\n",
       "      <td>0.9465</td>\n",
       "      <td>0.9470</td>\n",
       "      <td>0.9375</td>\n",
       "    </tr>\n",
       "    <tr>\n",
       "      <th>2019</th>\n",
       "      <td>0.9730</td>\n",
       "      <td>0.7495</td>\n",
       "      <td>0.7460</td>\n",
       "      <td>0.9690</td>\n",
       "    </tr>\n",
       "    <tr>\n",
       "      <th>2020</th>\n",
       "      <td>0.9725</td>\n",
       "      <td>0.7510</td>\n",
       "      <td>0.7380</td>\n",
       "      <td>0.9765</td>\n",
       "    </tr>\n",
       "  </tbody>\n",
       "</table>\n",
       "</div>"
      ],
      "text/plain": [
       "       t_clf   w_clf   v_clf  yv_clf\n",
       "2014  0.9695  0.8815  0.8840  0.9755\n",
       "2015  0.9725  0.8290  0.8355  0.9745\n",
       "2016  0.9685  0.8860  0.8925  0.9705\n",
       "2017  0.9840  0.9630  0.9630  0.9580\n",
       "2018  0.9545  0.9465  0.9470  0.9375\n",
       "2019  0.9730  0.7495  0.7460  0.9690\n",
       "2020  0.9725  0.7510  0.7380  0.9765"
      ]
     },
     "execution_count": 18,
     "metadata": {},
     "output_type": "execute_result"
    }
   ],
   "source": [
    "df"
   ]
  },
  {
   "cell_type": "code",
   "execution_count": 19,
   "id": "d83061bf",
   "metadata": {},
   "outputs": [],
   "source": [
    "com_maker_line= list(product( ['solid','dotted','dashed','dashdot'],['x','.','|']))"
   ]
  },
  {
   "cell_type": "code",
   "execution_count": 20,
   "id": "6686a6d9",
   "metadata": {},
   "outputs": [
    {
     "ename": "NameError",
     "evalue": "name 'col' is not defined",
     "output_type": "error",
     "traceback": [
      "\u001b[0;31m---------------------------------------------------------------------------\u001b[0m",
      "\u001b[0;31mNameError\u001b[0m                                 Traceback (most recent call last)",
      "Cell \u001b[0;32mIn[20], line 1\u001b[0m\n\u001b[0;32m----> 1\u001b[0m plt\u001b[38;5;241m.\u001b[39mplot(df[\u001b[43mcol\u001b[49m], linestyle\u001b[38;5;241m=\u001b[39mcom_maker_line[i][\u001b[38;5;241m0\u001b[39m] , marker\u001b[38;5;241m=\u001b[39mcom_maker_line[i][\u001b[38;5;241m1\u001b[39m])\n",
      "\u001b[0;31mNameError\u001b[0m: name 'col' is not defined"
     ]
    }
   ],
   "source": [
    "plt.plot(df[col], linestyle=com_maker_line[i][0] , marker=com_maker_line[i][1])"
   ]
  },
  {
   "cell_type": "code",
   "execution_count": 21,
   "id": "3ada6519",
   "metadata": {
    "scrolled": true
   },
   "outputs": [
    {
     "data": {
      "image/png": "[encoded data removed]",
      "text/plain": [
       "<Figure size 700x700 with 1 Axes>"
      ]
     },
     "metadata": {},
     "output_type": "display_data"
    }
   ],
   "source": [
    "plt.figure(figsize=(7,7))\n",
    "for i,col in enumerate(df.columns):\n",
    "    plt.plot(df[col], linestyle=com_maker_line[i][0] , marker=com_maker_line[i][1], label=col)\n",
    "\n",
    "plt.grid()\n",
    "plt.legend(loc=3,bbox_to_anchor=(0, 0))\n",
    "plt.title('Accuracy of models')\n",
    "plt.ylim(0.4,1)\n",
    "\n",
    "plt.savefig('./visual5/2020_acc_plot.png')\n",
    "plt.show()"
   ]
  },
  {
   "cell_type": "code",
   "execution_count": 22,
   "id": "3267f7bd",
   "metadata": {},
   "outputs": [],
   "source": [
    "df=pd.DataFrame(\n",
    "[\n",
    "[0.972, 0.976, 0.9685, 0.9835, 0.9565, 0.9665, 0.9525],\n",
    "[0.948, 0.9145, 0.943, 0.9675, 0.954, 0.662, 0.6475],\n",
    "[0.9455, 0.9185, 0.9445, 0.968, 0.954, 0.673, 0.6455]\n",
    ",\n",
    "[0.975, 0.9745, 0.971, 0.959, 0.9455, 0.97, 0.958]\n",
    "]).T\n",
    "df.columns=['t_clf','w_clf','v_clf','yv_clf']\n",
    "df.index=range(2014,2021)"
   ]
  },
  {
   "cell_type": "code",
   "execution_count": 23,
   "id": "7f69d4fa",
   "metadata": {},
   "outputs": [
    {
     "data": {
      "text/html": [
       "<div>\n",
       "<style scoped>\n",
       "    .dataframe tbody tr th:only-of-type {\n",
       "        vertical-align: middle;\n",
       "    }\n",
       "\n",
       "    .dataframe tbody tr th {\n",
       "        vertical-align: top;\n",
       "    }\n",
       "\n",
       "    .dataframe thead th {\n",
       "        text-align: right;\n",
       "    }\n",
       "</style>\n",
       "<table border=\"1\" class=\"dataframe\">\n",
       "  <thead>\n",
       "    <tr style=\"text-align: right;\">\n",
       "      <th></th>\n",
       "      <th>t_clf</th>\n",
       "      <th>w_clf</th>\n",
       "      <th>v_clf</th>\n",
       "      <th>yv_clf</th>\n",
       "    </tr>\n",
       "  </thead>\n",
       "  <tbody>\n",
       "    <tr>\n",
       "      <th>2014</th>\n",
       "      <td>0.9720</td>\n",
       "      <td>0.9480</td>\n",
       "      <td>0.9455</td>\n",
       "      <td>0.9750</td>\n",
       "    </tr>\n",
       "    <tr>\n",
       "      <th>2015</th>\n",
       "      <td>0.9760</td>\n",
       "      <td>0.9145</td>\n",
       "      <td>0.9185</td>\n",
       "      <td>0.9745</td>\n",
       "    </tr>\n",
       "    <tr>\n",
       "      <th>2016</th>\n",
       "      <td>0.9685</td>\n",
       "      <td>0.9430</td>\n",
       "      <td>0.9445</td>\n",
       "      <td>0.9710</td>\n",
       "    </tr>\n",
       "    <tr>\n",
       "      <th>2017</th>\n",
       "      <td>0.9835</td>\n",
       "      <td>0.9675</td>\n",
       "      <td>0.9680</td>\n",
       "      <td>0.9590</td>\n",
       "    </tr>\n",
       "    <tr>\n",
       "      <th>2018</th>\n",
       "      <td>0.9565</td>\n",
       "      <td>0.9540</td>\n",
       "      <td>0.9540</td>\n",
       "      <td>0.9455</td>\n",
       "    </tr>\n",
       "    <tr>\n",
       "      <th>2019</th>\n",
       "      <td>0.9665</td>\n",
       "      <td>0.6620</td>\n",
       "      <td>0.6730</td>\n",
       "      <td>0.9700</td>\n",
       "    </tr>\n",
       "    <tr>\n",
       "      <th>2020</th>\n",
       "      <td>0.9525</td>\n",
       "      <td>0.6475</td>\n",
       "      <td>0.6455</td>\n",
       "      <td>0.9580</td>\n",
       "    </tr>\n",
       "  </tbody>\n",
       "</table>\n",
       "</div>"
      ],
      "text/plain": [
       "       t_clf   w_clf   v_clf  yv_clf\n",
       "2014  0.9720  0.9480  0.9455  0.9750\n",
       "2015  0.9760  0.9145  0.9185  0.9745\n",
       "2016  0.9685  0.9430  0.9445  0.9710\n",
       "2017  0.9835  0.9675  0.9680  0.9590\n",
       "2018  0.9565  0.9540  0.9540  0.9455\n",
       "2019  0.9665  0.6620  0.6730  0.9700\n",
       "2020  0.9525  0.6475  0.6455  0.9580"
      ]
     },
     "execution_count": 23,
     "metadata": {},
     "output_type": "execute_result"
    }
   ],
   "source": [
    "df"
   ]
  },
  {
   "cell_type": "code",
   "execution_count": 24,
   "id": "18e326a8",
   "metadata": {},
   "outputs": [],
   "source": [
    "com_maker_line= list(product( ['solid','dotted','dashed','dashdot'],['x','.','|']))"
   ]
  },
  {
   "cell_type": "code",
   "execution_count": 25,
   "id": "8d258be5",
   "metadata": {
    "scrolled": false
   },
   "outputs": [
    {
     "data": {
      "image/png": "[encoded data removed]",
      "text/plain": [
       "<Figure size 700x700 with 1 Axes>"
      ]
     },
     "metadata": {},
     "output_type": "display_data"
    }
   ],
   "source": [
    "plt.figure(figsize=(7,7))\n",
    "for i,col in enumerate(df.columns):\n",
    "    plt.plot(df[col], linestyle=com_maker_line[i][0] , marker=com_maker_line[i][1], label=col)\n",
    "\n",
    "plt.grid(True, axis='y')\n",
    "plt.legend(loc=3,bbox_to_anchor=(0, 0))\n",
    "plt.title('Accuracy of models')\n",
    "plt.ylim(0.4,1)\n",
    "plt.axvline(2019.3, 0, 1, color='lightgray', linestyle='--', linewidth=2)\n",
    "plt.savefig('./visual5/2019_acc_plot.png')\n",
    "plt.show()"
   ]
  },
  {
   "cell_type": "code",
   "execution_count": null,
   "id": "a020ea3e",
   "metadata": {},
   "outputs": [],
   "source": []
  }
 ],
 "metadata": {
  "kernelspec": {
   "display_name": "Python 3 (ipykernel)",
   "language": "python",
   "name": "python3"
  },
  "language_info": {
   "codemirror_mode": {
    "name": "ipython",
    "version": 3
   },
   "file_extension": ".py",
   "mimetype": "text/x-python",
   "name": "python",
   "nbconvert_exporter": "python",
   "pygments_lexer": "ipython3",
   "version": "3.10.6"
  },
  "toc": {
   "base_numbering": 1,
   "nav_menu": {},
   "number_sections": true,
   "sideBar": true,
   "skip_h1_title": false,
   "title_cell": "Table of Contents",
   "title_sidebar": "Contents",
   "toc_cell": false,
   "toc_position": {},
   "toc_section_display": true,
   "toc_window_display": false
  }
 },
 "nbformat": 4,
 "nbformat_minor": 5
}
