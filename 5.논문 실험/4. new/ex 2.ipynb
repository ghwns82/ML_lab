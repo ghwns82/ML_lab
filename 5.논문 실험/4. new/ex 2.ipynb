{
 "cells": [
  {
   "cell_type": "markdown",
   "id": "545a21cd",
   "metadata": {},
   "source": [
    "# 개요\n",
    "\n",
    "Random Forest를 사용하여 warm_start방식으로 재학습에 걸리는 시간과 성능을 체크한다.\n",
    "\n",
    "* 특징정보 : api\n",
    "* 수집한 apk : 2014~2020"
   ]
  },
  {
   "cell_type": "code",
   "execution_count": 1,
   "id": "e2eb2ac7",
   "metadata": {
    "ExecuteTime": {
     "end_time": "2023-02-28T16:12:03.608913Z",
     "start_time": "2023-02-28T16:12:02.191300Z"
    }
   },
   "outputs": [],
   "source": [
    "from tqdm import tqdm\n",
    "import numpy as np\n",
    "import os\n",
    "import pandas as pd\n",
    "from itertools import product\n",
    "import time\n",
    "import warnings\n",
    "import joblib\n",
    "import shutil\n",
    "\n",
    "\n",
    "from sklearn.ensemble import RandomForestClassifier\n",
    "from sklearn.model_selection import train_test_split\n",
    "from sklearn.metrics import f1_score, accuracy_score\n",
    "from sklearn.metrics import confusion_matrix, ConfusionMatrixDisplay\n",
    "\n",
    "import matplotlib.pyplot as plt"
   ]
  },
  {
   "cell_type": "code",
   "execution_count": 2,
   "id": "faad8662",
   "metadata": {
    "ExecuteTime": {
     "end_time": "2023-02-28T16:12:03.617805Z",
     "start_time": "2023-02-28T16:12:03.612733Z"
    }
   },
   "outputs": [],
   "source": [
    "warnings.filterwarnings(action='ignore')"
   ]
  },
  {
   "cell_type": "markdown",
   "id": "2e566614",
   "metadata": {},
   "source": [
    "# 전처리"
   ]
  },
  {
   "cell_type": "code",
   "execution_count": 3,
   "id": "c34705d8",
   "metadata": {
    "ExecuteTime": {
     "end_time": "2023-02-28T16:12:21.282676Z",
     "start_time": "2023-02-28T16:12:03.621243Z"
    }
   },
   "outputs": [],
   "source": [
    "train_X_dict, train_y_dict, test_X_dict, test_y_dict = dict(),dict(),dict(),dict()\n",
    "for i, year in enumerate(range(2014,2021)):\n",
    "    df1 = pd.read_csv(f'./csv_5000/csv_5000/{year}_benign_api.csv', index_col=0)\n",
    "    df2 = pd.read_csv(f'./csv_5000/csv_5000/{year}_malware_api.csv', index_col=0)\n",
    "    df1['year']=year\n",
    "    df1['b/m']=0\n",
    "    df2['year']=year\n",
    "    df2['b/m']=1\n",
    "    \n",
    "    train_X_dict[year] = pd.concat([df1.iloc[1000:,:-2],df2.iloc[1000:,:-2]])\n",
    "    train_y_dict[year] = pd.concat([df1.iloc[1000:,-2:],df2.iloc[1000:,-2:]])\n",
    "    test_X_dict[year] = pd.concat([df1.iloc[:1000,:-2],df2.iloc[:1000,:-2]])\n",
    "    test_y_dict[year] = pd.concat([df1.iloc[:1000,-2:],df2.iloc[:1000,-2:]])"
   ]
  },
  {
   "cell_type": "code",
   "execution_count": 4,
   "id": "1992a863",
   "metadata": {
    "ExecuteTime": {
     "end_time": "2023-02-28T16:12:21.294164Z",
     "start_time": "2023-02-28T16:12:21.288690Z"
    }
   },
   "outputs": [],
   "source": [
    "def make_model(model, df_x, df_y):\n",
    "    model.n_estimators+=100\n",
    "    start = time.time()\n",
    "    model.fit(df_x, df_y)\n",
    "    end = time.time()\n",
    "    return model, (end-start)*1000"
   ]
  },
  {
   "cell_type": "code",
   "execution_count": 5,
   "id": "e03e7744",
   "metadata": {
    "ExecuteTime": {
     "end_time": "2023-02-28T16:12:21.310957Z",
     "start_time": "2023-02-28T16:12:21.298548Z"
    }
   },
   "outputs": [],
   "source": [
    "def convert_size(size_bytes):\n",
    "    import math\n",
    "    if size_bytes == 0:\n",
    "        return \"0B\"\n",
    "    size_name = (\"B\", \"KB\", \"MB\", \"GB\", \"TB\", \"PB\", \"EB\", \"ZB\", \"YB\")\n",
    "    i = int(math.floor(math.log(size_bytes, 1024)))\n",
    "    p = math.pow(1024, i)\n",
    "    s = round(size_bytes / p, 2)\n",
    "    return \"%s %s\" % (s, size_name[i])"
   ]
  },
  {
   "cell_type": "code",
   "execution_count": 6,
   "id": "c3dced5a",
   "metadata": {
    "ExecuteTime": {
     "end_time": "2023-02-28T16:12:21.319681Z",
     "start_time": "2023-02-28T16:12:21.314213Z"
    }
   },
   "outputs": [],
   "source": [
    "def AUT(list_):\n",
    "    return sum([(list_[i] + list_[i+1])/2 for i, elm in enumerate(list_[:-1])])/(len(list_)-1) "
   ]
  },
  {
   "cell_type": "markdown",
   "id": "6f902ac3",
   "metadata": {},
   "source": [
    "# Sustainability 실험"
   ]
  },
  {
   "cell_type": "code",
   "execution_count": 7,
   "id": "711a695d",
   "metadata": {
    "ExecuteTime": {
     "end_time": "2023-02-28T16:12:21.328609Z",
     "start_time": "2023-02-28T16:12:21.323039Z"
    }
   },
   "outputs": [],
   "source": [
    "time_list=[]\n",
    "size_list=[]\n",
    "score_dict = dict()\n",
    "f1_dict = dict()"
   ]
  },
  {
   "cell_type": "code",
   "execution_count": 8,
   "id": "fb62b36f",
   "metadata": {
    "ExecuteTime": {
     "end_time": "2023-02-28T16:12:21.340506Z",
     "start_time": "2023-02-28T16:12:21.331771Z"
    }
   },
   "outputs": [],
   "source": [
    "dir_path = './ex2_model'\n",
    "\n",
    "if os.path.exists(dir_path):\n",
    "    shutil.rmtree(dir_path)\n",
    "\n",
    "if not os.path.isdir(dir_path):\n",
    "    os.mkdir(dir_path)"
   ]
  },
  {
   "cell_type": "code",
   "execution_count": 9,
   "id": "ebafa67b",
   "metadata": {
    "ExecuteTime": {
     "end_time": "2023-02-28T16:12:21.359867Z",
     "start_time": "2023-02-28T16:12:21.343759Z"
    }
   },
   "outputs": [
    {
     "data": {
      "text/plain": [
       "['./ex2_model/model13.pkl']"
      ]
     },
     "execution_count": 9,
     "metadata": {},
     "output_type": "execute_result"
    }
   ],
   "source": [
    "model13 = RandomForestClassifier(random_state=42, warm_start=True , n_estimators=0)\n",
    "joblib.dump(model13, './ex2_model/model13.pkl')"
   ]
  },
  {
   "cell_type": "markdown",
   "id": "9cf804de",
   "metadata": {},
   "source": [
    "## 14 년도"
   ]
  },
  {
   "cell_type": "code",
   "execution_count": 10,
   "id": "633639ea",
   "metadata": {
    "ExecuteTime": {
     "end_time": "2023-02-28T16:12:24.535507Z",
     "start_time": "2023-02-28T16:12:21.366165Z"
    }
   },
   "outputs": [
    {
     "name": "stdout",
     "output_type": "stream",
     "text": [
      "2656.193256378174\n",
      "7.86 MB\n"
     ]
    }
   ],
   "source": [
    "year=14\n",
    "\n",
    "df = train_X_dict[year+2000]\n",
    "label = train_y_dict[year+2000]['b/m']\n",
    "\n",
    "exec(f\"model{year} = joblib.load('./ex2_model/model{year-1}.pkl')\")\n",
    "exec(f'model{year}, train_time = make_model(model{year}, df, label)')\n",
    "exec(f'time_list.append((20{year}, train_time))')\n",
    "\n",
    "exec(f\"joblib.dump(model{year}, './ex2_model/model{year}.pkl')\")\n",
    "exec(f\"f_size = convert_size(os.path.getsize('./ex2_model/model{year}.pkl'))\")\n",
    "exec(f'size_list.append((20{year}, f_size))')\n",
    "\n",
    "print(train_time) \n",
    "print(f_size)"
   ]
  },
  {
   "cell_type": "code",
   "execution_count": 11,
   "id": "45e55586",
   "metadata": {
    "ExecuteTime": {
     "end_time": "2023-02-28T16:12:25.567909Z",
     "start_time": "2023-02-28T16:12:24.540103Z"
    },
    "scrolled": true
   },
   "outputs": [],
   "source": [
    "score_list=[eval(f'model{year}').score(test_X_dict[i], test_y_dict[i]['b/m']) for i in range(2014,2021)]\n",
    "f1_list = [f1_score(test_y_dict[i]['b/m'], eval(f'model{year}').predict(test_X_dict[i])) for i in range(2014,2021)]\n",
    "score_dict[year+2000] = score_list\n",
    "f1_dict[year+2000] = f1_list"
   ]
  },
  {
   "cell_type": "markdown",
   "id": "d529a12c",
   "metadata": {},
   "source": [
    "## 15 년도"
   ]
  },
  {
   "cell_type": "code",
   "execution_count": 12,
   "id": "b4cd0897",
   "metadata": {
    "ExecuteTime": {
     "end_time": "2023-02-28T16:12:29.461411Z",
     "start_time": "2023-02-28T16:12:25.571969Z"
    }
   },
   "outputs": [
    {
     "name": "stdout",
     "output_type": "stream",
     "text": [
      "2870.215892791748\n",
      "16.29 MB\n"
     ]
    }
   ],
   "source": [
    "year=15\n",
    "\n",
    "df = train_X_dict[year+2000]\n",
    "label = train_y_dict[year+2000]['b/m']\n",
    "\n",
    "exec(f\"model{year} = joblib.load('./ex2_model/model{year-1}.pkl')\")\n",
    "exec(f'model{year}, train_time = make_model(model{year}, df, label)')\n",
    "exec(f'time_list.append((20{year}, train_time))')\n",
    "\n",
    "exec(f\"joblib.dump(model{year}, './ex2_model/model{year}.pkl')\")\n",
    "exec(f\"f_size = convert_size(os.path.getsize('./ex2_model/model{year}.pkl'))\")\n",
    "exec(f'size_list.append((20{year}, f_size))')\n",
    "\n",
    "print(train_time) \n",
    "print(f_size)"
   ]
  },
  {
   "cell_type": "code",
   "execution_count": 13,
   "id": "a24421f6",
   "metadata": {
    "ExecuteTime": {
     "end_time": "2023-02-28T16:12:31.110354Z",
     "start_time": "2023-02-28T16:12:29.465899Z"
    },
    "scrolled": false
   },
   "outputs": [],
   "source": [
    "score_list=[eval(f'model{year}').score(test_X_dict[i], test_y_dict[i]['b/m']) for i in range(2014,2021)]\n",
    "f1_list = [f1_score(test_y_dict[i]['b/m'], eval(f'model{year}').predict(test_X_dict[i])) for i in range(2014,2021)]\n",
    "score_dict[year+2000] = score_list\n",
    "f1_dict[year+2000] = f1_list"
   ]
  },
  {
   "cell_type": "markdown",
   "id": "826cbd4a",
   "metadata": {},
   "source": [
    "## 16년도"
   ]
  },
  {
   "cell_type": "code",
   "execution_count": 14,
   "id": "178d94ed",
   "metadata": {
    "ExecuteTime": {
     "end_time": "2023-02-28T16:12:35.465236Z",
     "start_time": "2023-02-28T16:12:31.113211Z"
    }
   },
   "outputs": [
    {
     "name": "stdout",
     "output_type": "stream",
     "text": [
      "2936.114549636841\n",
      "22.92 MB\n"
     ]
    }
   ],
   "source": [
    "year=16\n",
    "\n",
    "df = train_X_dict[year+2000]\n",
    "label = train_y_dict[year+2000]['b/m']\n",
    "\n",
    "exec(f\"model{year} = joblib.load('./ex2_model/model{year-1}.pkl')\")\n",
    "exec(f'model{year}, train_time = make_model(model{year}, df, label)')\n",
    "exec(f'time_list.append((20{year}, train_time))')\n",
    "\n",
    "exec(f\"joblib.dump(model{year}, './ex2_model/model{year}.pkl')\")\n",
    "exec(f\"f_size = convert_size(os.path.getsize('./ex2_model/model{year}.pkl'))\")\n",
    "exec(f'size_list.append((20{year}, f_size))')\n",
    "\n",
    "print(train_time) \n",
    "print(f_size)"
   ]
  },
  {
   "cell_type": "code",
   "execution_count": 15,
   "id": "375a59f0",
   "metadata": {
    "ExecuteTime": {
     "end_time": "2023-02-28T16:12:37.909281Z",
     "start_time": "2023-02-28T16:12:35.468426Z"
    },
    "scrolled": false
   },
   "outputs": [],
   "source": [
    "score_list=[eval(f'model{year}').score(test_X_dict[i], test_y_dict[i]['b/m']) for i in range(2014,2021)]\n",
    "f1_list = [f1_score(test_y_dict[i]['b/m'], eval(f'model{year}').predict(test_X_dict[i])) for i in range(2014,2021)]\n",
    "score_dict[year+2000] = score_list\n",
    "f1_dict[year+2000] = f1_list"
   ]
  },
  {
   "cell_type": "markdown",
   "id": "9a0c0fec",
   "metadata": {},
   "source": [
    "## 17년도"
   ]
  },
  {
   "cell_type": "code",
   "execution_count": 16,
   "id": "f237a16a",
   "metadata": {
    "ExecuteTime": {
     "end_time": "2023-02-28T16:12:42.303694Z",
     "start_time": "2023-02-28T16:12:37.912548Z"
    }
   },
   "outputs": [
    {
     "name": "stdout",
     "output_type": "stream",
     "text": [
      "2249.7613430023193\n",
      "27.52 MB\n"
     ]
    }
   ],
   "source": [
    "year=17\n",
    "\n",
    "df = train_X_dict[year+2000]\n",
    "label = train_y_dict[year+2000]['b/m']\n",
    "\n",
    "exec(f\"model{year} = joblib.load('./ex2_model/model{year-1}.pkl')\")\n",
    "exec(f'model{year}, train_time = make_model(model{year}, df, label)')\n",
    "exec(f'time_list.append((20{year}, train_time))')\n",
    "\n",
    "exec(f\"joblib.dump(model{year}, './ex2_model/model{year}.pkl')\")\n",
    "exec(f\"f_size = convert_size(os.path.getsize('./ex2_model/model{year}.pkl'))\")\n",
    "exec(f'size_list.append((20{year}, f_size))')\n",
    "\n",
    "print(train_time) \n",
    "print(f_size)"
   ]
  },
  {
   "cell_type": "code",
   "execution_count": 17,
   "id": "677e7b10",
   "metadata": {
    "ExecuteTime": {
     "end_time": "2023-02-28T16:12:45.310383Z",
     "start_time": "2023-02-28T16:12:42.307988Z"
    },
    "scrolled": false
   },
   "outputs": [],
   "source": [
    "score_list=[eval(f'model{year}').score(test_X_dict[i], test_y_dict[i]['b/m']) for i in range(2014,2021)]\n",
    "f1_list = [f1_score(test_y_dict[i]['b/m'], eval(f'model{year}').predict(test_X_dict[i])) for i in range(2014,2021)]\n",
    "score_dict[year+2000] = score_list\n",
    "f1_dict[year+2000] = f1_list"
   ]
  },
  {
   "cell_type": "markdown",
   "id": "c1646f5c",
   "metadata": {},
   "source": [
    "## 18년도"
   ]
  },
  {
   "cell_type": "code",
   "execution_count": 18,
   "id": "0faa40ee",
   "metadata": {
    "ExecuteTime": {
     "end_time": "2023-02-28T16:12:52.322913Z",
     "start_time": "2023-02-28T16:12:45.313933Z"
    }
   },
   "outputs": [
    {
     "name": "stdout",
     "output_type": "stream",
     "text": [
      "4301.076650619507\n",
      "31.94 MB\n"
     ]
    }
   ],
   "source": [
    "year=18\n",
    "\n",
    "df = train_X_dict[year+2000]\n",
    "label = train_y_dict[year+2000]['b/m']\n",
    "\n",
    "exec(f\"model{year} = joblib.load('./ex2_model/model{year-1}.pkl')\")\n",
    "exec(f'model{year}, train_time = make_model(model{year}, df, label)')\n",
    "exec(f'time_list.append((20{year}, train_time))')\n",
    "\n",
    "exec(f\"joblib.dump(model{year}, './ex2_model/model{year}.pkl')\")\n",
    "exec(f\"f_size = convert_size(os.path.getsize('./ex2_model/model{year}.pkl'))\")\n",
    "exec(f'size_list.append((20{year}, f_size))')\n",
    "\n",
    "print(train_time) \n",
    "print(f_size)"
   ]
  },
  {
   "cell_type": "code",
   "execution_count": 19,
   "id": "83a8fdb2",
   "metadata": {
    "ExecuteTime": {
     "end_time": "2023-02-28T16:12:55.985318Z",
     "start_time": "2023-02-28T16:12:52.326166Z"
    },
    "scrolled": false
   },
   "outputs": [],
   "source": [
    "score_list=[eval(f'model{year}').score(test_X_dict[i], test_y_dict[i]['b/m']) for i in range(2014,2021)]\n",
    "f1_list = [f1_score(test_y_dict[i]['b/m'], eval(f'model{year}').predict(test_X_dict[i])) for i in range(2014,2021)]\n",
    "score_dict[year+2000] = score_list\n",
    "f1_dict[year+2000] = f1_list"
   ]
  },
  {
   "cell_type": "markdown",
   "id": "e3d6b955",
   "metadata": {},
   "source": [
    "## 19년도"
   ]
  },
  {
   "cell_type": "code",
   "execution_count": 20,
   "id": "56f1ba3f",
   "metadata": {
    "ExecuteTime": {
     "end_time": "2023-02-28T16:13:01.390546Z",
     "start_time": "2023-02-28T16:12:55.988542Z"
    }
   },
   "outputs": [
    {
     "name": "stdout",
     "output_type": "stream",
     "text": [
      "2255.0652027130127\n",
      "35.27 MB\n"
     ]
    }
   ],
   "source": [
    "year=19\n",
    "\n",
    "df = train_X_dict[year+2000]\n",
    "label = train_y_dict[year+2000]['b/m']\n",
    "\n",
    "exec(f\"model{year} = joblib.load('./ex2_model/model{year-1}.pkl')\")\n",
    "exec(f'model{year}, train_time = make_model(model{year}, df, label)')\n",
    "exec(f'time_list.append((20{year}, train_time))')\n",
    "\n",
    "exec(f\"joblib.dump(model{year}, './ex2_model/model{year}.pkl')\")\n",
    "exec(f\"f_size = convert_size(os.path.getsize('./ex2_model/model{year}.pkl'))\")\n",
    "exec(f'size_list.append((20{year}, f_size))')\n",
    "\n",
    "print(train_time) \n",
    "print(f_size)"
   ]
  },
  {
   "cell_type": "code",
   "execution_count": 21,
   "id": "e9da1885",
   "metadata": {
    "ExecuteTime": {
     "end_time": "2023-02-28T16:13:05.606763Z",
     "start_time": "2023-02-28T16:13:01.395296Z"
    },
    "scrolled": false
   },
   "outputs": [],
   "source": [
    "score_list=[eval(f'model{year}').score(test_X_dict[i], test_y_dict[i]['b/m']) for i in range(2014,2021)]\n",
    "f1_list = [f1_score(test_y_dict[i]['b/m'], eval(f'model{year}').predict(test_X_dict[i])) for i in range(2014,2021)]\n",
    "score_dict[year+2000] = score_list\n",
    "f1_dict[year+2000] = f1_list"
   ]
  },
  {
   "cell_type": "markdown",
   "id": "eb443f13",
   "metadata": {},
   "source": [
    "## 20년도"
   ]
  },
  {
   "cell_type": "code",
   "execution_count": 22,
   "id": "8e90314a",
   "metadata": {
    "ExecuteTime": {
     "end_time": "2023-02-28T16:13:11.857090Z",
     "start_time": "2023-02-28T16:13:05.609982Z"
    }
   },
   "outputs": [
    {
     "name": "stdout",
     "output_type": "stream",
     "text": [
      "2078.777551651001\n",
      "38.39 MB\n"
     ]
    }
   ],
   "source": [
    "year=20\n",
    "\n",
    "df = train_X_dict[year+2000]\n",
    "label = train_y_dict[year+2000]['b/m']\n",
    "\n",
    "exec(f\"model{year} = joblib.load('./ex2_model/model{year-1}.pkl')\")\n",
    "exec(f'model{year}, train_time = make_model(model{year}, df, label)')\n",
    "exec(f'time_list.append((20{year}, train_time))')\n",
    "\n",
    "exec(f\"joblib.dump(model{year}, './ex2_model/model{year}.pkl')\")\n",
    "exec(f\"f_size = convert_size(os.path.getsize('./ex2_model/model{year}.pkl'))\")\n",
    "exec(f'size_list.append((20{year}, f_size))')\n",
    "\n",
    "print(train_time) \n",
    "print(f_size)"
   ]
  },
  {
   "cell_type": "code",
   "execution_count": 23,
   "id": "46ed4a53",
   "metadata": {
    "ExecuteTime": {
     "end_time": "2023-02-28T16:13:16.571820Z",
     "start_time": "2023-02-28T16:13:11.861721Z"
    },
    "scrolled": false
   },
   "outputs": [],
   "source": [
    "score_list=[eval(f'model{year}').score(test_X_dict[i], test_y_dict[i]['b/m']) for i in range(2014,2021)]\n",
    "f1_list = [f1_score(test_y_dict[i]['b/m'], eval(f'model{year}').predict(test_X_dict[i])) for i in range(2014,2021)]\n",
    "score_dict[year+2000] = score_list\n",
    "f1_dict[year+2000] = f1_list"
   ]
  },
  {
   "cell_type": "markdown",
   "id": "27039c11",
   "metadata": {},
   "source": [
    "# 결과"
   ]
  },
  {
   "cell_type": "code",
   "execution_count": 24,
   "id": "91af0297",
   "metadata": {
    "ExecuteTime": {
     "end_time": "2023-02-28T16:13:16.581810Z",
     "start_time": "2023-02-28T16:13:16.574769Z"
    }
   },
   "outputs": [],
   "source": [
    "if not os.path.isdir('./visual2'):\n",
    "    os.mkdir('./visual2')"
   ]
  },
  {
   "cell_type": "code",
   "execution_count": 25,
   "id": "a288c59a",
   "metadata": {
    "ExecuteTime": {
     "end_time": "2023-02-28T16:13:19.094368Z",
     "start_time": "2023-02-28T16:13:16.584881Z"
    }
   },
   "outputs": [
    {
     "data": {
      "image/png": "[encoded data removed]",
      "text/plain": [
       "<Figure size 640x480 with 1 Axes>"
      ]
     },
     "metadata": {},
     "output_type": "display_data"
    },
    {
     "data": {
      "image/png": "[encoded data removed]",
      "text/plain": [
       "<Figure size 640x480 with 1 Axes>"
      ]
     },
     "metadata": {},
     "output_type": "display_data"
    },
    {
     "data": {
      "image/png": "[encoded data removed]",
      "text/plain": [
       "<Figure size 640x480 with 1 Axes>"
      ]
     },
     "metadata": {},
     "output_type": "display_data"
    },
    {
     "data": {
      "image/png": "[encoded data removed]",
      "text/plain": [
       "<Figure size 640x480 with 1 Axes>"
      ]
     },
     "metadata": {},
     "output_type": "display_data"
    },
    {
     "data": {
      "image/png": "[encoded data removed]",
      "text/plain": [
       "<Figure size 640x480 with 1 Axes>"
      ]
     },
     "metadata": {},
     "output_type": "display_data"
    },
    {
     "data": {
      "image/png": "[encoded data removed]",
      "text/plain": [
       "<Figure size 640x480 with 1 Axes>"
      ]
     },
     "metadata": {},
     "output_type": "display_data"
    },
    {
     "data": {
      "image/png": "[encoded data removed]",
      "text/plain": [
       "<Figure size 640x480 with 1 Axes>"
      ]
     },
     "metadata": {},
     "output_type": "display_data"
    }
   ],
   "source": [
    "years = range(2014,2021)\n",
    "x = np.arange(len(years))\n",
    "\n",
    "for i in range(2014,2021):\n",
    "    plt.bar(x-0.2 , score_dict[i], label=\"acc\", width=0.4, color='cornflowerblue')\n",
    "    plt.bar(x+0.2 , f1_dict[i], label=\"f1\", width=0.4, color='sandybrown')\n",
    "    plt.axvline(i-2013.5, 0, 1, color='lightgray', linestyle='--', linewidth=2)\n",
    "    if i ==2014:\n",
    "        plt.title(f'ex2_train 2014')\n",
    "    else:\n",
    "        plt.title(f'ex2_train 2014~{i}')\n",
    "    plt.xticks(x, years)\n",
    "    plt.ylim(0.5,1)\n",
    "    plt.legend()\n",
    "    plt.savefig(f\"./visual2/ex2_{i}_acc_f1.png\")\n",
    "    plt.show()"
   ]
  },
  {
   "cell_type": "code",
   "execution_count": 26,
   "id": "c51fdf9c",
   "metadata": {
    "ExecuteTime": {
     "end_time": "2023-02-28T16:13:19.122630Z",
     "start_time": "2023-02-28T16:13:19.099092Z"
    }
   },
   "outputs": [
    {
     "data": {
      "text/html": [
       "<div>\n",
       "<style scoped>\n",
       "    .dataframe tbody tr th:only-of-type {\n",
       "        vertical-align: middle;\n",
       "    }\n",
       "\n",
       "    .dataframe tbody tr th {\n",
       "        vertical-align: top;\n",
       "    }\n",
       "\n",
       "    .dataframe thead th {\n",
       "        text-align: right;\n",
       "    }\n",
       "</style>\n",
       "<table border=\"1\" class=\"dataframe\">\n",
       "  <thead>\n",
       "    <tr style=\"text-align: right;\">\n",
       "      <th></th>\n",
       "      <th>year</th>\n",
       "      <th>train_time</th>\n",
       "      <th>model_file_size</th>\n",
       "      <th>accuracy</th>\n",
       "      <th>f1 score</th>\n",
       "    </tr>\n",
       "  </thead>\n",
       "  <tbody>\n",
       "    <tr>\n",
       "      <th>0</th>\n",
       "      <td>2014</td>\n",
       "      <td>2656.193256</td>\n",
       "      <td>7.86 MB</td>\n",
       "      <td>0.819833</td>\n",
       "      <td>0.833311</td>\n",
       "    </tr>\n",
       "    <tr>\n",
       "      <th>1</th>\n",
       "      <td>2015</td>\n",
       "      <td>2870.215893</td>\n",
       "      <td>16.29 MB</td>\n",
       "      <td>0.849125</td>\n",
       "      <td>0.865700</td>\n",
       "    </tr>\n",
       "    <tr>\n",
       "      <th>2</th>\n",
       "      <td>2016</td>\n",
       "      <td>2936.114550</td>\n",
       "      <td>22.92 MB</td>\n",
       "      <td>0.863417</td>\n",
       "      <td>0.888783</td>\n",
       "    </tr>\n",
       "    <tr>\n",
       "      <th>3</th>\n",
       "      <td>2017</td>\n",
       "      <td>2249.761343</td>\n",
       "      <td>27.52 MB</td>\n",
       "      <td>0.866167</td>\n",
       "      <td>0.891122</td>\n",
       "    </tr>\n",
       "    <tr>\n",
       "      <th>4</th>\n",
       "      <td>2018</td>\n",
       "      <td>4301.076651</td>\n",
       "      <td>31.94 MB</td>\n",
       "      <td>0.873417</td>\n",
       "      <td>0.899657</td>\n",
       "    </tr>\n",
       "    <tr>\n",
       "      <th>5</th>\n",
       "      <td>2019</td>\n",
       "      <td>2255.065203</td>\n",
       "      <td>35.27 MB</td>\n",
       "      <td>0.873125</td>\n",
       "      <td>0.892756</td>\n",
       "    </tr>\n",
       "    <tr>\n",
       "      <th>6</th>\n",
       "      <td>2020</td>\n",
       "      <td>2078.777552</td>\n",
       "      <td>38.39 MB</td>\n",
       "      <td>0.865042</td>\n",
       "      <td>0.867997</td>\n",
       "    </tr>\n",
       "  </tbody>\n",
       "</table>\n",
       "</div>"
      ],
      "text/plain": [
       "   year   train_time model_file_size  accuracy  f1 score\n",
       "0  2014  2656.193256         7.86 MB  0.819833  0.833311\n",
       "1  2015  2870.215893        16.29 MB  0.849125  0.865700\n",
       "2  2016  2936.114550        22.92 MB  0.863417  0.888783\n",
       "3  2017  2249.761343        27.52 MB  0.866167  0.891122\n",
       "4  2018  4301.076651        31.94 MB  0.873417  0.899657\n",
       "5  2019  2255.065203        35.27 MB  0.873125  0.892756\n",
       "6  2020  2078.777552        38.39 MB  0.865042  0.867997"
      ]
     },
     "execution_count": 26,
     "metadata": {},
     "output_type": "execute_result"
    }
   ],
   "source": [
    "df = pd.concat([\n",
    "    pd.DataFrame(time_list), \n",
    "    pd.DataFrame(size_list)[1], \n",
    "    pd.DataFrame([AUT(score_dict[i]) for i in range(2014,2021)]),\n",
    "    pd.DataFrame([AUT(f1_dict[i]) for i in range(2014,2021)]),\n",
    "], axis=1)\n",
    "\n",
    "df.columns=['year','train_time','model_file_size','accuracy','f1 score']\n",
    "df"
   ]
  },
  {
   "cell_type": "code",
   "execution_count": 27,
   "id": "c1879cbd",
   "metadata": {
    "ExecuteTime": {
     "end_time": "2023-02-28T16:13:19.138189Z",
     "start_time": "2023-02-28T16:13:19.125580Z"
    }
   },
   "outputs": [],
   "source": [
    "df.to_csv('./ex2_result.csv')"
   ]
  },
  {
   "cell_type": "code",
   "execution_count": 28,
   "id": "be9a9f5d",
   "metadata": {
    "ExecuteTime": {
     "end_time": "2023-02-28T16:13:19.150988Z",
     "start_time": "2023-02-28T16:13:19.144686Z"
    }
   },
   "outputs": [
    {
     "name": "stdout",
     "output_type": "stream",
     "text": [
      "7 7 7 7\n"
     ]
    }
   ],
   "source": [
    "print(len(time_list), len(size_list), len(score_dict), len(f1_dict))"
   ]
  },
  {
   "cell_type": "code",
   "execution_count": 30,
   "id": "56808e31",
   "metadata": {},
   "outputs": [
    {
     "data": {
      "text/plain": [
       "[0.948, 0.9145, 0.943, 0.9675, 0.954, 0.662, 0.6475]"
      ]
     },
     "execution_count": 30,
     "metadata": {},
     "output_type": "execute_result"
    }
   ],
   "source": [
    "score_dict[2019]"
   ]
  }
 ],
 "metadata": {
  "kernelspec": {
   "display_name": "Python 3 (ipykernel)",
   "language": "python",
   "name": "python3"
  },
  "language_info": {
   "codemirror_mode": {
    "name": "ipython",
    "version": 3
   },
   "file_extension": ".py",
   "mimetype": "text/x-python",
   "name": "python",
   "nbconvert_exporter": "python",
   "pygments_lexer": "ipython3",
   "version": "3.10.6"
  },
  "toc": {
   "base_numbering": 1,
   "nav_menu": {},
   "number_sections": true,
   "sideBar": true,
   "skip_h1_title": false,
   "title_cell": "Table of Contents",
   "title_sidebar": "Contents",
   "toc_cell": false,
   "toc_position": {
    "height": "calc(100% - 180px)",
    "left": "10px",
    "top": "150px",
    "width": "257.6px"
   },
   "toc_section_display": true,
   "toc_window_display": true
  }
 },
 "nbformat": 4,
 "nbformat_minor": 5
}
