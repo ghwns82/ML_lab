{
 "cells": [
  {
   "cell_type": "markdown",
   "id": "545a21cd",
   "metadata": {},
   "source": [
    "# 개요\n",
    "\n",
    "Random Forest를 사용하여 이호준이 제안하는 방식으로 재학습에 걸리는 시간과 성능을 체크한다.\n",
    "\n",
    "* 특징정보 : api, api_lv\n",
    "* 수집한 apk : 2014~2020"
   ]
  },
  {
   "cell_type": "code",
   "execution_count": 4,
   "id": "e2eb2ac7",
   "metadata": {
    "ExecuteTime": {
     "end_time": "2023-02-28T16:12:15.380316Z",
     "start_time": "2023-02-28T16:12:13.926353Z"
    }
   },
   "outputs": [],
   "source": [
    "from tqdm import tqdm\n",
    "import numpy as np\n",
    "import os\n",
    "import pandas as pd\n",
    "from itertools import product\n",
    "import time\n",
    "import warnings\n",
    "import joblib\n",
    "import shutil\n",
    "\n",
    "\n",
    "from sklearn.ensemble import RandomForestClassifier, VotingClassifier\n",
    "from sklearn.model_selection import train_test_split\n",
    "from sklearn.metrics import f1_score, accuracy_score\n",
    "from sklearn.metrics import confusion_matrix, ConfusionMatrixDisplay\n",
    "\n",
    "import matplotlib.pyplot as plt"
   ]
  },
  {
   "cell_type": "code",
   "execution_count": 5,
   "id": "faad8662",
   "metadata": {
    "ExecuteTime": {
     "end_time": "2023-02-28T16:12:15.391635Z",
     "start_time": "2023-02-28T16:12:15.384506Z"
    }
   },
   "outputs": [],
   "source": [
    "warnings.filterwarnings(action='ignore')"
   ]
  },
  {
   "cell_type": "markdown",
   "id": "2e566614",
   "metadata": {},
   "source": [
    "# 전처리"
   ]
  },
  {
   "cell_type": "code",
   "execution_count": 6,
   "id": "c34705d8",
   "metadata": {
    "ExecuteTime": {
     "end_time": "2023-02-28T16:12:32.551696Z",
     "start_time": "2023-02-28T16:12:16.173943Z"
    }
   },
   "outputs": [],
   "source": [
    "outlier_value = 50\n",
    "\n",
    "train_X_dict, train_y_dict, test_X_dict, test_y_dict = dict(),dict(),dict(),dict()\n",
    "train_X_dict2, test_X_dict2, = dict(),dict()\n",
    "\n",
    "for i, year in enumerate(range(2014,2021)):\n",
    "    df1 = pd.read_csv(f'./csv_5000/csv_5000/{year}_benign_api.csv', index_col=0)\n",
    "    df2 = pd.read_csv(f'./csv_5000/csv_5000/{year}_malware_api.csv', index_col=0)\n",
    "    df1['year']=str(year-2000)\n",
    "    df1['b/m']=0\n",
    "    df2['year']=str(year-2000)\n",
    "    df2['b/m']=1\n",
    "    \n",
    "    train_X_dict[year] = pd.concat([df1.iloc[1000:,:-2],df2.iloc[1000:,:-2]])\n",
    "    train_y_dict[year] = pd.concat([df1.iloc[1000:,-2:],df2.iloc[1000:,-2:]])\n",
    "    test_X_dict[year] = pd.concat([df1.iloc[:1000,:-2],df2.iloc[:1000,:-2]])\n",
    "    test_y_dict[year] = pd.concat([df1.iloc[:1000,-2:],df2.iloc[:1000,-2:]])\n",
    "    \n",
    "    \n",
    "    df3 = pd.read_csv(f'./ex_csv/csv/{year}_benign_lv.csv', index_col=0).loc[df1.index].replace(0,34)\n",
    "    df4 = pd.read_csv(f'./ex_csv/csv/{year}_malware_lv.csv', index_col=0).loc[df2.index].replace(0,34)\n",
    "    df3.loc[(df3['platformbuildversioncode'] > 33), 'platformbuildversioncode'] =outlier_value\n",
    "    df4.loc[(df4['platformbuildversioncode'] > 33), 'platformbuildversioncode'] =outlier_value\n",
    "    df3.loc[(df3['target'] > 33), 'target'] =outlier_value\n",
    "    df4.loc[(df4['target'] > 33), 'target'] =outlier_value\n",
    "    df3.loc[(df3['min'] > 33), 'min'] =outlier_value\n",
    "    df4.loc[(df4['min'] > 33), 'min'] =outlier_value\n",
    "    df3.loc[(df3['compile'] > 33), 'compile'] =outlier_value\n",
    "    df4.loc[(df4['compile'] > 33), 'compile'] =outlier_value\n",
    "       \n",
    "    \n",
    "    \n",
    "    df3.drop('max', axis=1, inplace=True)\n",
    "    df4.drop('max', axis=1, inplace=True)\n",
    "    \n",
    "    train_X_dict2[year] = pd.concat([df3.iloc[1000:,:],df4.iloc[1000:,:]])\n",
    "    test_X_dict2[year] = pd.concat([df3.iloc[:1000,:],df4.iloc[:1000,:]])"
   ]
  },
  {
   "cell_type": "code",
   "execution_count": 7,
   "id": "1992a863",
   "metadata": {
    "ExecuteTime": {
     "end_time": "2023-02-28T16:12:32.561509Z",
     "start_time": "2023-02-28T16:12:32.555468Z"
    }
   },
   "outputs": [],
   "source": [
    "def make_model(df_x, df_y, max_depth=0):\n",
    "    if max_depth:\n",
    "        model = RandomForestClassifier(random_state=42, max_depth=max_depth)\n",
    "    else:\n",
    "        model = RandomForestClassifier(random_state=42)\n",
    "    start = time.time()\n",
    "    model.fit(df_x, df_y)\n",
    "    end = time.time()\n",
    "    return model, (end-start)*1000"
   ]
  },
  {
   "cell_type": "code",
   "execution_count": 8,
   "id": "e03e7744",
   "metadata": {
    "ExecuteTime": {
     "end_time": "2023-02-28T16:12:32.593108Z",
     "start_time": "2023-02-28T16:12:32.566075Z"
    }
   },
   "outputs": [],
   "source": [
    "def convert_size(size_bytes):\n",
    "    import math\n",
    "    if size_bytes == 0:\n",
    "        return \"0B\"\n",
    "    size_name = (\"B\", \"KB\", \"MB\", \"GB\", \"TB\", \"PB\", \"EB\", \"ZB\", \"YB\")\n",
    "    i = int(math.floor(math.log(size_bytes, 1024)))\n",
    "    p = math.pow(1024, i)\n",
    "    s = round(size_bytes / p, 2)\n",
    "    return \"%s %s\" % (s, size_name[i])"
   ]
  },
  {
   "cell_type": "code",
   "execution_count": 9,
   "id": "c3dced5a",
   "metadata": {
    "ExecuteTime": {
     "end_time": "2023-02-28T16:12:32.602657Z",
     "start_time": "2023-02-28T16:12:32.597434Z"
    }
   },
   "outputs": [],
   "source": [
    "def AUT(list_):\n",
    "    return sum([(list_[i] + list_[i+1])/2 for i, elm in enumerate(list_[:-1])])/(len(list_)-1) "
   ]
  },
  {
   "cell_type": "markdown",
   "id": "6f902ac3",
   "metadata": {},
   "source": [
    "# Sustainability 실험"
   ]
  },
  {
   "cell_type": "code",
   "execution_count": 10,
   "id": "fb62b36f",
   "metadata": {
    "ExecuteTime": {
     "end_time": "2023-02-28T16:12:32.615454Z",
     "start_time": "2023-02-28T16:12:32.605958Z"
    }
   },
   "outputs": [],
   "source": [
    "dir_path = './ex4'\n",
    "\n",
    "if os.path.exists(dir_path):\n",
    "    shutil.rmtree(dir_path)\n",
    "\n",
    "if not os.path.isdir(dir_path):\n",
    "    os.mkdir(dir_path)"
   ]
  },
  {
   "cell_type": "code",
   "execution_count": 11,
   "id": "711a695d",
   "metadata": {
    "ExecuteTime": {
     "end_time": "2023-02-28T16:12:32.623764Z",
     "start_time": "2023-02-28T16:12:32.618778Z"
    }
   },
   "outputs": [],
   "source": [
    "time_list=[]\n",
    "time_list2=[]\n",
    "time_list3=[]\n",
    "\n",
    "size_list=[0]\n",
    "size_list2=[]\n",
    "size_list3=[]\n",
    "\n",
    "score_dict = dict()\n",
    "f1_dict = dict()"
   ]
  },
  {
   "cell_type": "markdown",
   "id": "34eb2000",
   "metadata": {},
   "source": [
    "## 모든 연도 학습"
   ]
  },
  {
   "cell_type": "code",
   "execution_count": 12,
   "id": "128607b0",
   "metadata": {
    "ExecuteTime": {
     "end_time": "2023-02-28T16:12:56.328287Z",
     "start_time": "2023-02-28T16:12:32.627662Z"
    }
   },
   "outputs": [],
   "source": [
    "for year in range(2014,2021):\n",
    "    exec(f\"bmodel{year-2000}, train_time = make_model(train_X_dict[year], train_y_dict[year]['b/m'])\")\n",
    "    exec(f\"joblib.dump(bmodel{year-2000}, './{dir_path}/bmodel{year-2000}.pkl')\")\n",
    "    \n",
    "    exec(f'time_list.append([{year}, train_time])')\n",
    "    \n",
    "    exec(f\"f_size = convert_size(sum([os.path.getsize('./{dir_path}/'+file) for file in os.listdir('./{dir_path}/')]))\")\n",
    "    exec(f'size_list.append([{year}, f_size])')"
   ]
  },
  {
   "cell_type": "code",
   "execution_count": 13,
   "id": "65fb499c",
   "metadata": {
    "ExecuteTime": {
     "end_time": "2023-02-28T16:12:56.337048Z",
     "start_time": "2023-02-28T16:12:56.331520Z"
    }
   },
   "outputs": [],
   "source": [
    "size_list.remove(0)"
   ]
  },
  {
   "cell_type": "markdown",
   "id": "a6f2f8c9",
   "metadata": {},
   "source": [
    "## 연도별 학습"
   ]
  },
  {
   "cell_type": "code",
   "execution_count": 14,
   "id": "f2f510a5",
   "metadata": {
    "ExecuteTime": {
     "end_time": "2023-02-28T16:13:03.036424Z",
     "start_time": "2023-02-28T16:12:56.342217Z"
    }
   },
   "outputs": [],
   "source": [
    "for i,year in enumerate(range(2014,2021)):\n",
    "    df = pd.concat([train_X_dict2[j] for j in range(2014,year+1)])\n",
    "    label = pd.concat([train_y_dict[j]['year'] for j in range(2014,year+1)])\n",
    "    exec(f'ymodel{year-2000}, train_time = make_model(df, label, 5)')\n",
    "    exec(f'time_list2.append([{year}, train_time])')\n",
    "    exec(f'time_list3.append([{year}, train_time + time_list[{i}][1]])')\n",
    "    \n",
    "    \n",
    "    exec(f\"joblib.dump(ymodel{year-2000}, './{dir_path}/ymodel{year-2000}.pkl')\")\n",
    "    exec(f\"f_size = convert_size(os.path.getsize('./{dir_path}/ymodel{year-2000}.pkl'))\")\n",
    "    exec(f'size_list2.append([{year}, f_size])')\n",
    "    \n",
    "    s, fs = float(size_list[i][1].split()[0]), float(f_size.split()[0])\n",
    "    if 'KB' in f_size:\n",
    "        fs /= 1024\n",
    "    f_size_all = str(round(s+fs, 2))+\" MB\"\n",
    "    \n",
    "    exec(f'size_list3.append([{year}, str(round(s+fs, 2))+\" MB\"])')"
   ]
  },
  {
   "cell_type": "markdown",
   "id": "7ca2f99c",
   "metadata": {},
   "source": [
    "## 성능 테스트"
   ]
  },
  {
   "cell_type": "code",
   "execution_count": 15,
   "id": "31f70771",
   "metadata": {
    "ExecuteTime": {
     "end_time": "2023-02-28T16:13:03.046522Z",
     "start_time": "2023-02-28T16:13:03.041858Z"
    }
   },
   "outputs": [],
   "source": [
    "ymodel_list = [ymodel14, ymodel15, ymodel16, ymodel17, ymodel18, ymodel19, ymodel20]\n",
    "bmodel_list = [bmodel14, bmodel15, bmodel16, bmodel17, bmodel18, bmodel19, bmodel20]"
   ]
  },
  {
   "cell_type": "code",
   "execution_count": 16,
   "id": "fcabd5c8",
   "metadata": {
    "ExecuteTime": {
     "end_time": "2023-02-28T16:13:03.056740Z",
     "start_time": "2023-02-28T16:13:03.049940Z"
    }
   },
   "outputs": [],
   "source": [
    "def model_pred(model_list, test_df, pred_weight_table):\n",
    "    a = [model.predict_proba(test_df) for model in model_list]\n",
    "    y = pred_weight_table \n",
    "    for apk_index in range(len(test_df)):\n",
    "        for year_index in range(len(model_list)):\n",
    "            a[year_index][apk_index] *= y[apk_index][year_index]\n",
    "            \n",
    "    return np.argmax(np.sum(a, axis=0), axis=1)"
   ]
  },
  {
   "cell_type": "code",
   "execution_count": 17,
   "id": "d232f49a",
   "metadata": {
    "ExecuteTime": {
     "end_time": "2023-02-28T16:13:18.444679Z",
     "start_time": "2023-02-28T16:13:03.061492Z"
    }
   },
   "outputs": [],
   "source": [
    "for train_year in range(14,21):\n",
    "    score_list=[]\n",
    "    f1_list=[]\n",
    "    for test_year in range(2014,2021):\n",
    "        final_pred=eval(f'model_pred(bmodel_list[:train_year-13], test_X_dict[test_year] ,ymodel{train_year}.predict_proba(test_X_dict2[test_year]))')\n",
    "        score_list.append(accuracy_score(test_y_dict[test_year]['b/m'], final_pred))\n",
    "        f1_list.append(f1_score(test_y_dict[test_year]['b/m'], final_pred))\n",
    "    score_dict[train_year+2000] = score_list\n",
    "    f1_dict[train_year+2000] = f1_list"
   ]
  },
  {
   "cell_type": "markdown",
   "id": "27039c11",
   "metadata": {},
   "source": [
    "# 결과"
   ]
  },
  {
   "cell_type": "code",
   "execution_count": 18,
   "id": "91af0297",
   "metadata": {
    "ExecuteTime": {
     "end_time": "2023-02-28T16:13:18.454725Z",
     "start_time": "2023-02-28T16:13:18.447869Z"
    }
   },
   "outputs": [],
   "source": [
    "if not os.path.isdir('./visual4'):\n",
    "    os.mkdir('./visual4')"
   ]
  },
  {
   "cell_type": "code",
   "execution_count": 19,
   "id": "a288c59a",
   "metadata": {
    "ExecuteTime": {
     "end_time": "2023-02-28T16:13:20.789346Z",
     "start_time": "2023-02-28T16:13:18.458366Z"
    }
   },
   "outputs": [
    {
     "data": {
      "image/png": "[encoded data removed]",
      "text/plain": [
       "<Figure size 640x480 with 1 Axes>"
      ]
     },
     "metadata": {},
     "output_type": "display_data"
    },
    {
     "data": {
      "image/png": "[encoded data removed]",
      "text/plain": [
       "<Figure size 640x480 with 1 Axes>"
      ]
     },
     "metadata": {},
     "output_type": "display_data"
    },
    {
     "data": {
      "image/png": "[encoded data removed]",
      "text/plain": [
       "<Figure size 640x480 with 1 Axes>"
      ]
     },
     "metadata": {},
     "output_type": "display_data"
    },
    {
     "data": {
      "image/png": "[encoded data removed]",
      "text/plain": [
       "<Figure size 640x480 with 1 Axes>"
      ]
     },
     "metadata": {},
     "output_type": "display_data"
    },
    {
     "data": {
      "image/png": "[encoded data removed]",
      "text/plain": [
       "<Figure size 640x480 with 1 Axes>"
      ]
     },
     "metadata": {},
     "output_type": "display_data"
    },
    {
     "data": {
      "image/png": "[encoded data removed]",
      "text/plain": [
       "<Figure size 640x480 with 1 Axes>"
      ]
     },
     "metadata": {},
     "output_type": "display_data"
    },
    {
     "data": {
      "image/png": "[encoded data removed]",
      "text/plain": [
       "<Figure size 640x480 with 1 Axes>"
      ]
     },
     "metadata": {},
     "output_type": "display_data"
    }
   ],
   "source": [
    "years = range(2014,2021)\n",
    "x = np.arange(len(years))\n",
    "\n",
    "for i in range(2014,2021):\n",
    "    plt.bar(x-0.2 , score_dict[i], label=\"acc\", width=0.4, color='cornflowerblue')\n",
    "    plt.bar(x+0.2 , f1_dict[i], label=\"f1\", width=0.4, color='sandybrown')\n",
    "    plt.axvline(i-2013.5, 0, 1, color='lightgray', linestyle='--', linewidth=2)\n",
    "    if i ==2014:\n",
    "        plt.title(f'ex4_train 2014')\n",
    "    else:\n",
    "        plt.title(f'ex4_train 2014~{i}')\n",
    "    plt.xticks(x, years)\n",
    "    plt.ylim(0.5,1)\n",
    "    plt.legend()\n",
    "    plt.savefig(f\"./visual4/ex4_{i}_acc_f1.png\")\n",
    "    plt.show()"
   ]
  },
  {
   "cell_type": "code",
   "execution_count": 20,
   "id": "0dd11aef",
   "metadata": {
    "ExecuteTime": {
     "end_time": "2023-02-28T16:13:20.801501Z",
     "start_time": "2023-02-28T16:13:20.792774Z"
    }
   },
   "outputs": [
    {
     "data": {
      "text/plain": [
       "[[2014, '7.9 MB'],\n",
       " [2015, '16.69 MB'],\n",
       " [2016, '23.68 MB'],\n",
       " [2017, '28.4 MB'],\n",
       " [2018, '32.99 MB'],\n",
       " [2019, '36.47 MB'],\n",
       " [2020, '39.76 MB']]"
      ]
     },
     "execution_count": 20,
     "metadata": {},
     "output_type": "execute_result"
    }
   ],
   "source": [
    "size_list3"
   ]
  },
  {
   "cell_type": "code",
   "execution_count": 21,
   "id": "66d4f6c8",
   "metadata": {
    "ExecuteTime": {
     "end_time": "2023-02-28T16:13:20.829479Z",
     "start_time": "2023-02-28T16:13:20.804577Z"
    }
   },
   "outputs": [
    {
     "data": {
      "text/html": [
       "<div>\n",
       "<style scoped>\n",
       "    .dataframe tbody tr th:only-of-type {\n",
       "        vertical-align: middle;\n",
       "    }\n",
       "\n",
       "    .dataframe tbody tr th {\n",
       "        vertical-align: top;\n",
       "    }\n",
       "\n",
       "    .dataframe thead th {\n",
       "        text-align: right;\n",
       "    }\n",
       "</style>\n",
       "<table border=\"1\" class=\"dataframe\">\n",
       "  <thead>\n",
       "    <tr style=\"text-align: right;\">\n",
       "      <th></th>\n",
       "      <th>year</th>\n",
       "      <th>train_time</th>\n",
       "      <th>model_file_size</th>\n",
       "      <th>accuracy</th>\n",
       "      <th>f1 score</th>\n",
       "    </tr>\n",
       "  </thead>\n",
       "  <tbody>\n",
       "    <tr>\n",
       "      <th>0</th>\n",
       "      <td>2014</td>\n",
       "      <td>1770.807028</td>\n",
       "      <td>7.9 MB</td>\n",
       "      <td>0.819833</td>\n",
       "      <td>0.833311</td>\n",
       "    </tr>\n",
       "    <tr>\n",
       "      <th>1</th>\n",
       "      <td>2015</td>\n",
       "      <td>1983.523846</td>\n",
       "      <td>16.69 MB</td>\n",
       "      <td>0.836250</td>\n",
       "      <td>0.854640</td>\n",
       "    </tr>\n",
       "    <tr>\n",
       "      <th>2</th>\n",
       "      <td>2016</td>\n",
       "      <td>2048.264742</td>\n",
       "      <td>23.68 MB</td>\n",
       "      <td>0.861292</td>\n",
       "      <td>0.890150</td>\n",
       "    </tr>\n",
       "    <tr>\n",
       "      <th>3</th>\n",
       "      <td>2017</td>\n",
       "      <td>1944.128513</td>\n",
       "      <td>28.4 MB</td>\n",
       "      <td>0.877917</td>\n",
       "      <td>0.903058</td>\n",
       "    </tr>\n",
       "    <tr>\n",
       "      <th>4</th>\n",
       "      <td>2018</td>\n",
       "      <td>3175.280333</td>\n",
       "      <td>32.99 MB</td>\n",
       "      <td>0.870667</td>\n",
       "      <td>0.900740</td>\n",
       "    </tr>\n",
       "    <tr>\n",
       "      <th>5</th>\n",
       "      <td>2019</td>\n",
       "      <td>2248.210907</td>\n",
       "      <td>36.47 MB</td>\n",
       "      <td>0.964417</td>\n",
       "      <td>0.963785</td>\n",
       "    </tr>\n",
       "    <tr>\n",
       "      <th>6</th>\n",
       "      <td>2020</td>\n",
       "      <td>2470.983028</td>\n",
       "      <td>39.76 MB</td>\n",
       "      <td>0.964250</td>\n",
       "      <td>0.963492</td>\n",
       "    </tr>\n",
       "  </tbody>\n",
       "</table>\n",
       "</div>"
      ],
      "text/plain": [
       "   year   train_time model_file_size  accuracy  f1 score\n",
       "0  2014  1770.807028          7.9 MB  0.819833  0.833311\n",
       "1  2015  1983.523846        16.69 MB  0.836250  0.854640\n",
       "2  2016  2048.264742        23.68 MB  0.861292  0.890150\n",
       "3  2017  1944.128513         28.4 MB  0.877917  0.903058\n",
       "4  2018  3175.280333        32.99 MB  0.870667  0.900740\n",
       "5  2019  2248.210907        36.47 MB  0.964417  0.963785\n",
       "6  2020  2470.983028        39.76 MB  0.964250  0.963492"
      ]
     },
     "execution_count": 21,
     "metadata": {},
     "output_type": "execute_result"
    }
   ],
   "source": [
    "df = pd.concat([\n",
    "    pd.DataFrame(time_list3), \n",
    "    pd.DataFrame(size_list3)[1], \n",
    "    pd.DataFrame([AUT(score_dict[i]) for i in range(2014,2021)]),\n",
    "    pd.DataFrame([AUT(f1_dict[i]) for i in range(2014,2021)]),\n",
    "], axis=1)\n",
    "\n",
    "df.columns=['year','train_time','model_file_size','accuracy','f1 score']\n",
    "df"
   ]
  },
  {
   "cell_type": "code",
   "execution_count": 22,
   "id": "c51fdf9c",
   "metadata": {
    "ExecuteTime": {
     "end_time": "2023-02-28T16:13:20.857216Z",
     "start_time": "2023-02-28T16:13:20.832595Z"
    }
   },
   "outputs": [
    {
     "data": {
      "text/html": [
       "<div>\n",
       "<style scoped>\n",
       "    .dataframe tbody tr th:only-of-type {\n",
       "        vertical-align: middle;\n",
       "    }\n",
       "\n",
       "    .dataframe tbody tr th {\n",
       "        vertical-align: top;\n",
       "    }\n",
       "\n",
       "    .dataframe thead th {\n",
       "        text-align: right;\n",
       "    }\n",
       "</style>\n",
       "<table border=\"1\" class=\"dataframe\">\n",
       "  <thead>\n",
       "    <tr style=\"text-align: right;\">\n",
       "      <th></th>\n",
       "      <th>year</th>\n",
       "      <th>year_train_time</th>\n",
       "      <th>b/m_train_time</th>\n",
       "      <th>all_train_time</th>\n",
       "      <th>year model_file_size</th>\n",
       "      <th>b/m model_file_size</th>\n",
       "      <th>all model_file_size</th>\n",
       "      <th>accuracy</th>\n",
       "      <th>f1 score</th>\n",
       "    </tr>\n",
       "  </thead>\n",
       "  <tbody>\n",
       "    <tr>\n",
       "      <th>0</th>\n",
       "      <td>2014</td>\n",
       "      <td>102.278948</td>\n",
       "      <td>1668.528080</td>\n",
       "      <td>1770.807028</td>\n",
       "      <td>45.59 KB</td>\n",
       "      <td>7.86 MB</td>\n",
       "      <td>7.9 MB</td>\n",
       "      <td>0.819833</td>\n",
       "      <td>0.833311</td>\n",
       "    </tr>\n",
       "    <tr>\n",
       "      <th>1</th>\n",
       "      <td>2015</td>\n",
       "      <td>272.593975</td>\n",
       "      <td>1710.929871</td>\n",
       "      <td>1983.523846</td>\n",
       "      <td>447.24 KB</td>\n",
       "      <td>16.25 MB</td>\n",
       "      <td>16.69 MB</td>\n",
       "      <td>0.836250</td>\n",
       "      <td>0.854640</td>\n",
       "    </tr>\n",
       "    <tr>\n",
       "      <th>2</th>\n",
       "      <td>2016</td>\n",
       "      <td>357.078075</td>\n",
       "      <td>1691.186666</td>\n",
       "      <td>2048.264742</td>\n",
       "      <td>524.99 KB</td>\n",
       "      <td>23.17 MB</td>\n",
       "      <td>23.68 MB</td>\n",
       "      <td>0.861292</td>\n",
       "      <td>0.890150</td>\n",
       "    </tr>\n",
       "    <tr>\n",
       "      <th>3</th>\n",
       "      <td>2017</td>\n",
       "      <td>454.142809</td>\n",
       "      <td>1489.985704</td>\n",
       "      <td>1944.128513</td>\n",
       "      <td>578.48 KB</td>\n",
       "      <td>27.84 MB</td>\n",
       "      <td>28.4 MB</td>\n",
       "      <td>0.877917</td>\n",
       "      <td>0.903058</td>\n",
       "    </tr>\n",
       "    <tr>\n",
       "      <th>4</th>\n",
       "      <td>2018</td>\n",
       "      <td>598.846674</td>\n",
       "      <td>2576.433659</td>\n",
       "      <td>3175.280333</td>\n",
       "      <td>617.58 KB</td>\n",
       "      <td>32.39 MB</td>\n",
       "      <td>32.99 MB</td>\n",
       "      <td>0.870667</td>\n",
       "      <td>0.900740</td>\n",
       "    </tr>\n",
       "    <tr>\n",
       "      <th>5</th>\n",
       "      <td>2019</td>\n",
       "      <td>687.688351</td>\n",
       "      <td>1560.522556</td>\n",
       "      <td>2248.210907</td>\n",
       "      <td>666.96 KB</td>\n",
       "      <td>35.82 MB</td>\n",
       "      <td>36.47 MB</td>\n",
       "      <td>0.964417</td>\n",
       "      <td>0.963785</td>\n",
       "    </tr>\n",
       "    <tr>\n",
       "      <th>6</th>\n",
       "      <td>2020</td>\n",
       "      <td>789.910316</td>\n",
       "      <td>1681.072712</td>\n",
       "      <td>2470.983028</td>\n",
       "      <td>715.88 KB</td>\n",
       "      <td>39.06 MB</td>\n",
       "      <td>39.76 MB</td>\n",
       "      <td>0.964250</td>\n",
       "      <td>0.963492</td>\n",
       "    </tr>\n",
       "  </tbody>\n",
       "</table>\n",
       "</div>"
      ],
      "text/plain": [
       "   year  year_train_time  b/m_train_time  all_train_time year model_file_size  \\\n",
       "0  2014       102.278948     1668.528080     1770.807028             45.59 KB   \n",
       "1  2015       272.593975     1710.929871     1983.523846            447.24 KB   \n",
       "2  2016       357.078075     1691.186666     2048.264742            524.99 KB   \n",
       "3  2017       454.142809     1489.985704     1944.128513            578.48 KB   \n",
       "4  2018       598.846674     2576.433659     3175.280333            617.58 KB   \n",
       "5  2019       687.688351     1560.522556     2248.210907            666.96 KB   \n",
       "6  2020       789.910316     1681.072712     2470.983028            715.88 KB   \n",
       "\n",
       "  b/m model_file_size all model_file_size  accuracy  f1 score  \n",
       "0             7.86 MB              7.9 MB  0.819833  0.833311  \n",
       "1            16.25 MB            16.69 MB  0.836250  0.854640  \n",
       "2            23.17 MB            23.68 MB  0.861292  0.890150  \n",
       "3            27.84 MB             28.4 MB  0.877917  0.903058  \n",
       "4            32.39 MB            32.99 MB  0.870667  0.900740  \n",
       "5            35.82 MB            36.47 MB  0.964417  0.963785  \n",
       "6            39.06 MB            39.76 MB  0.964250  0.963492  "
      ]
     },
     "execution_count": 22,
     "metadata": {},
     "output_type": "execute_result"
    }
   ],
   "source": [
    "df = pd.concat([\n",
    "    pd.DataFrame(time_list2), \n",
    "    pd.DataFrame(time_list)[1], \n",
    "    pd.DataFrame(time_list3)[1], \n",
    "    pd.DataFrame(size_list2)[1],\n",
    "    pd.DataFrame(size_list)[1],\n",
    "    pd.DataFrame(size_list3)[1],\n",
    "    pd.DataFrame([AUT(score_dict[i]) for i in range(2014,2021)]),\n",
    "    pd.DataFrame([AUT(f1_dict[i]) for i in range(2014,2021)]),\n",
    "], axis=1)\n",
    "\n",
    "df.columns=['year','year_train_time','b/m_train_time','all_train_time',\n",
    "            'year model_file_size', 'b/m model_file_size', 'all model_file_size', \n",
    "            'accuracy','f1 score']\n",
    "df"
   ]
  },
  {
   "cell_type": "code",
   "execution_count": 23,
   "id": "284a6cea",
   "metadata": {
    "ExecuteTime": {
     "end_time": "2023-02-28T16:13:20.878465Z",
     "start_time": "2023-02-28T16:13:20.860568Z"
    }
   },
   "outputs": [],
   "source": [
    "df.to_csv(f'./ex4_result.csv')"
   ]
  },
  {
   "cell_type": "code",
   "execution_count": 24,
   "id": "fb902779",
   "metadata": {
    "ExecuteTime": {
     "end_time": "2023-02-28T16:13:20.887430Z",
     "start_time": "2023-02-28T16:13:20.881756Z"
    }
   },
   "outputs": [
    {
     "name": "stdout",
     "output_type": "stream",
     "text": [
      "7 7 7 7\n"
     ]
    }
   ],
   "source": [
    "print(len(time_list), len(size_list), len(score_dict), len(f1_dict))"
   ]
  },
  {
   "cell_type": "code",
   "execution_count": 25,
   "id": "9fd7ef6c",
   "metadata": {},
   "outputs": [
    {
     "data": {
      "text/plain": [
       "[0.975, 0.9745, 0.971, 0.959, 0.9455, 0.97, 0.958]"
      ]
     },
     "execution_count": 25,
     "metadata": {},
     "output_type": "execute_result"
    }
   ],
   "source": [
    "score_dict[2019]"
   ]
  },
  {
   "cell_type": "markdown",
   "id": "ea590f43",
   "metadata": {},
   "source": [
    "# 추가실험"
   ]
  },
  {
   "cell_type": "markdown",
   "id": "b8ca378d",
   "metadata": {},
   "source": [
    "하 진짜 ㅠㅠㅠㅠㅠㅠ 개시러댏뱆ㄷㅎ"
   ]
  },
  {
   "cell_type": "markdown",
   "id": "d426a6fc",
   "metadata": {},
   "source": [
    "## 표 1"
   ]
  },
  {
   "cell_type": "code",
   "execution_count": 66,
   "id": "71e37dff",
   "metadata": {},
   "outputs": [],
   "source": [
    "bmodel_list = [bmodel14, bmodel15, bmodel16, bmodel17, bmodel18, bmodel19, bmodel20]"
   ]
  },
  {
   "cell_type": "code",
   "execution_count": 67,
   "id": "6d29e138",
   "metadata": {},
   "outputs": [
    {
     "name": "stdout",
     "output_type": "stream",
     "text": [
      "[0.9785, 0.9465, 0.914, 0.7925, 0.751, 0.529, 0.52]\n",
      "[0.927, 0.977, 0.9565, 0.7845, 0.76, 0.566, 0.547]\n",
      "[0.903, 0.952, 0.9775, 0.871, 0.859, 0.6395, 0.6065]\n",
      "[0.8205, 0.821, 0.948, 0.987, 0.9655, 0.7925, 0.7425]\n",
      "[0.896, 0.895, 0.942, 0.9565, 0.967, 0.8655, 0.738]\n",
      "[0.586, 0.6135, 0.5875, 0.638, 0.594, 0.977, 0.9055]\n",
      "[0.5945, 0.586, 0.5695, 0.6135, 0.5625, 0.958, 0.977]\n"
     ]
    }
   ],
   "source": [
    "b=[]\n",
    "for k,df in test_X_dict.items():\n",
    "    a=[]\n",
    "    for i, bm in enumerate(bmodel_list):\n",
    "        a.append(bm.score(df, test_y_dict[k]['b/m']))\n",
    "    print(a)\n",
    "    b.append(a)\n",
    "df = pd.DataFrame(b)"
   ]
  },
  {
   "cell_type": "code",
   "execution_count": 68,
   "id": "d5cca7f7",
   "metadata": {},
   "outputs": [],
   "source": [
    "df.index=[f'test{i}' for i in range(2014,2021)]\n",
    "df.columns=['14','15','16','17','18','19','20']"
   ]
  },
  {
   "cell_type": "code",
   "execution_count": 69,
   "id": "fb279642",
   "metadata": {},
   "outputs": [
    {
     "data": {
      "text/html": [
       "<div>\n",
       "<style scoped>\n",
       "    .dataframe tbody tr th:only-of-type {\n",
       "        vertical-align: middle;\n",
       "    }\n",
       "\n",
       "    .dataframe tbody tr th {\n",
       "        vertical-align: top;\n",
       "    }\n",
       "\n",
       "    .dataframe thead th {\n",
       "        text-align: right;\n",
       "    }\n",
       "</style>\n",
       "<table border=\"1\" class=\"dataframe\">\n",
       "  <thead>\n",
       "    <tr style=\"text-align: right;\">\n",
       "      <th></th>\n",
       "      <th>14</th>\n",
       "      <th>15</th>\n",
       "      <th>16</th>\n",
       "      <th>17</th>\n",
       "      <th>18</th>\n",
       "      <th>19</th>\n",
       "      <th>20</th>\n",
       "    </tr>\n",
       "  </thead>\n",
       "  <tbody>\n",
       "    <tr>\n",
       "      <th>test2014</th>\n",
       "      <td>0.9785</td>\n",
       "      <td>0.9465</td>\n",
       "      <td>0.9140</td>\n",
       "      <td>0.7925</td>\n",
       "      <td>0.7510</td>\n",
       "      <td>0.5290</td>\n",
       "      <td>0.5200</td>\n",
       "    </tr>\n",
       "    <tr>\n",
       "      <th>test2015</th>\n",
       "      <td>0.9270</td>\n",
       "      <td>0.9770</td>\n",
       "      <td>0.9565</td>\n",
       "      <td>0.7845</td>\n",
       "      <td>0.7600</td>\n",
       "      <td>0.5660</td>\n",
       "      <td>0.5470</td>\n",
       "    </tr>\n",
       "    <tr>\n",
       "      <th>test2016</th>\n",
       "      <td>0.9030</td>\n",
       "      <td>0.9520</td>\n",
       "      <td>0.9775</td>\n",
       "      <td>0.8710</td>\n",
       "      <td>0.8590</td>\n",
       "      <td>0.6395</td>\n",
       "      <td>0.6065</td>\n",
       "    </tr>\n",
       "    <tr>\n",
       "      <th>test2017</th>\n",
       "      <td>0.8205</td>\n",
       "      <td>0.8210</td>\n",
       "      <td>0.9480</td>\n",
       "      <td>0.9870</td>\n",
       "      <td>0.9655</td>\n",
       "      <td>0.7925</td>\n",
       "      <td>0.7425</td>\n",
       "    </tr>\n",
       "    <tr>\n",
       "      <th>test2018</th>\n",
       "      <td>0.8960</td>\n",
       "      <td>0.8950</td>\n",
       "      <td>0.9420</td>\n",
       "      <td>0.9565</td>\n",
       "      <td>0.9670</td>\n",
       "      <td>0.8655</td>\n",
       "      <td>0.7380</td>\n",
       "    </tr>\n",
       "    <tr>\n",
       "      <th>test2019</th>\n",
       "      <td>0.5860</td>\n",
       "      <td>0.6135</td>\n",
       "      <td>0.5875</td>\n",
       "      <td>0.6380</td>\n",
       "      <td>0.5940</td>\n",
       "      <td>0.9770</td>\n",
       "      <td>0.9055</td>\n",
       "    </tr>\n",
       "    <tr>\n",
       "      <th>test2020</th>\n",
       "      <td>0.5945</td>\n",
       "      <td>0.5860</td>\n",
       "      <td>0.5695</td>\n",
       "      <td>0.6135</td>\n",
       "      <td>0.5625</td>\n",
       "      <td>0.9580</td>\n",
       "      <td>0.9770</td>\n",
       "    </tr>\n",
       "  </tbody>\n",
       "</table>\n",
       "</div>"
      ],
      "text/plain": [
       "              14      15      16      17      18      19      20\n",
       "test2014  0.9785  0.9465  0.9140  0.7925  0.7510  0.5290  0.5200\n",
       "test2015  0.9270  0.9770  0.9565  0.7845  0.7600  0.5660  0.5470\n",
       "test2016  0.9030  0.9520  0.9775  0.8710  0.8590  0.6395  0.6065\n",
       "test2017  0.8205  0.8210  0.9480  0.9870  0.9655  0.7925  0.7425\n",
       "test2018  0.8960  0.8950  0.9420  0.9565  0.9670  0.8655  0.7380\n",
       "test2019  0.5860  0.6135  0.5875  0.6380  0.5940  0.9770  0.9055\n",
       "test2020  0.5945  0.5860  0.5695  0.6135  0.5625  0.9580  0.9770"
      ]
     },
     "execution_count": 69,
     "metadata": {},
     "output_type": "execute_result"
    }
   ],
   "source": [
    "df"
   ]
  },
  {
   "cell_type": "code",
   "execution_count": 139,
   "id": "eaa65956",
   "metadata": {},
   "outputs": [],
   "source": [
    "# # a=pd.DataFrame([1,1,1,1,1,1,1], index=['14','15','16','17','18','19','20'])\n",
    "# aa=pd.DataFrame(index=['14','15','16','17','18','19','20'])\n",
    "# for i in range(2014,2021):\n",
    "#     b=pd.Series(ymodel20.predict(test_X_dict2[i])).value_counts()/2000\n",
    "# #     print(b)\n",
    "#     aa['test'+str(i)]=b\n",
    "# aa=aa.T.fillna(0)b\n",
    "# aa"
   ]
  },
  {
   "cell_type": "code",
   "execution_count": 140,
   "id": "27f237cd",
   "metadata": {},
   "outputs": [],
   "source": [
    "# (df*aa).sum(axis=1)"
   ]
  },
  {
   "cell_type": "code",
   "execution_count": null,
   "id": "175f7857",
   "metadata": {},
   "outputs": [],
   "source": []
  },
  {
   "cell_type": "markdown",
   "id": "92633f49",
   "metadata": {},
   "source": [
    "# 표2"
   ]
  },
  {
   "cell_type": "code",
   "execution_count": 141,
   "id": "63cd53b5",
   "metadata": {},
   "outputs": [],
   "source": [
    "dict_index=dict()\n",
    "for test_year in range(2014,2021):\n",
    "    dict_index[test_year]=dict()\n",
    "    for pred_year in range(14,21):\n",
    "        dict_index[test_year][str(pred_year)]=[]\n",
    "    for i,v in enumerate(ymodel20.predict(test_X_dict2[test_year])):\n",
    "        dict_index[test_year][v].append(i)"
   ]
  },
  {
   "cell_type": "code",
   "execution_count": 116,
   "id": "f5be07d5",
   "metadata": {},
   "outputs": [],
   "source": [
    "dict_pred_score=dict()\n",
    "for test_year in range(2014,2021):\n",
    "    dict_pred_score[test_year]=dict()\n",
    "    for pred_year in range(14,21):\n",
    "        i_list=dict_index[test_year][str(pred_year)]\n",
    "        X = test_X_dict[test_year].iloc[i_list]\n",
    "        y = test_y_dict[test_year]['b/m'].iloc[i_list]\n",
    "        if len(X):\n",
    "            dict_pred_score[test_year][str(pred_year)]=eval(f'bmodel{pred_year}').score(X,y)\n",
    "        else:\n",
    "            dict_pred_score[test_year][str(pred_year)]=0"
   ]
  },
  {
   "cell_type": "code",
   "execution_count": 142,
   "id": "f1e232b3",
   "metadata": {},
   "outputs": [],
   "source": [
    "p1 = pd.DataFrame(columns=range(2014,2021), index=range(14,21))\n",
    "p2 = pd.DataFrame(columns=range(2014,2021), index=range(14,21))\n",
    "for test_year in range(2014,2021):\n",
    "    for pred_year in range(14,21):\n",
    "        p1[test_year][pred_year]=len(dict_index[test_year][str(pred_year)])\n",
    "        p2[test_year][pred_year]=dict_pred_score[test_year][str(pred_year)]\n",
    "p1,p2 = p1.T, p2.T"
   ]
  },
  {
   "cell_type": "code",
   "execution_count": 143,
   "id": "2d692800",
   "metadata": {},
   "outputs": [
    {
     "data": {
      "text/html": [
       "<div>\n",
       "<style scoped>\n",
       "    .dataframe tbody tr th:only-of-type {\n",
       "        vertical-align: middle;\n",
       "    }\n",
       "\n",
       "    .dataframe tbody tr th {\n",
       "        vertical-align: top;\n",
       "    }\n",
       "\n",
       "    .dataframe thead th {\n",
       "        text-align: right;\n",
       "    }\n",
       "</style>\n",
       "<table border=\"1\" class=\"dataframe\">\n",
       "  <thead>\n",
       "    <tr style=\"text-align: right;\">\n",
       "      <th></th>\n",
       "      <th>14</th>\n",
       "      <th>15</th>\n",
       "      <th>16</th>\n",
       "      <th>17</th>\n",
       "      <th>18</th>\n",
       "      <th>19</th>\n",
       "      <th>20</th>\n",
       "    </tr>\n",
       "  </thead>\n",
       "  <tbody>\n",
       "    <tr>\n",
       "      <th>2014</th>\n",
       "      <td>1959</td>\n",
       "      <td>32</td>\n",
       "      <td>4</td>\n",
       "      <td>3</td>\n",
       "      <td>2</td>\n",
       "      <td>0</td>\n",
       "      <td>0</td>\n",
       "    </tr>\n",
       "    <tr>\n",
       "      <th>2015</th>\n",
       "      <td>1015</td>\n",
       "      <td>519</td>\n",
       "      <td>318</td>\n",
       "      <td>124</td>\n",
       "      <td>23</td>\n",
       "      <td>1</td>\n",
       "      <td>0</td>\n",
       "    </tr>\n",
       "    <tr>\n",
       "      <th>2016</th>\n",
       "      <td>452</td>\n",
       "      <td>318</td>\n",
       "      <td>447</td>\n",
       "      <td>765</td>\n",
       "      <td>18</td>\n",
       "      <td>0</td>\n",
       "      <td>0</td>\n",
       "    </tr>\n",
       "    <tr>\n",
       "      <th>2017</th>\n",
       "      <td>167</td>\n",
       "      <td>218</td>\n",
       "      <td>376</td>\n",
       "      <td>1099</td>\n",
       "      <td>132</td>\n",
       "      <td>8</td>\n",
       "      <td>0</td>\n",
       "    </tr>\n",
       "    <tr>\n",
       "      <th>2018</th>\n",
       "      <td>77</td>\n",
       "      <td>99</td>\n",
       "      <td>189</td>\n",
       "      <td>489</td>\n",
       "      <td>698</td>\n",
       "      <td>396</td>\n",
       "      <td>52</td>\n",
       "    </tr>\n",
       "    <tr>\n",
       "      <th>2019</th>\n",
       "      <td>24</td>\n",
       "      <td>7</td>\n",
       "      <td>18</td>\n",
       "      <td>41</td>\n",
       "      <td>402</td>\n",
       "      <td>888</td>\n",
       "      <td>620</td>\n",
       "    </tr>\n",
       "    <tr>\n",
       "      <th>2020</th>\n",
       "      <td>0</td>\n",
       "      <td>0</td>\n",
       "      <td>1</td>\n",
       "      <td>1</td>\n",
       "      <td>20</td>\n",
       "      <td>439</td>\n",
       "      <td>1539</td>\n",
       "    </tr>\n",
       "  </tbody>\n",
       "</table>\n",
       "</div>"
      ],
      "text/plain": [
       "        14   15   16    17   18   19    20\n",
       "2014  1959   32    4     3    2    0     0\n",
       "2015  1015  519  318   124   23    1     0\n",
       "2016   452  318  447   765   18    0     0\n",
       "2017   167  218  376  1099  132    8     0\n",
       "2018    77   99  189   489  698  396    52\n",
       "2019    24    7   18    41  402  888   620\n",
       "2020     0    0    1     1   20  439  1539"
      ]
     },
     "execution_count": 143,
     "metadata": {},
     "output_type": "execute_result"
    }
   ],
   "source": [
    "p1"
   ]
  },
  {
   "cell_type": "code",
   "execution_count": 132,
   "id": "2130c247",
   "metadata": {},
   "outputs": [
    {
     "data": {
      "text/plain": [
       "0.5106428571428571"
      ]
     },
     "execution_count": 132,
     "metadata": {},
     "output_type": "execute_result"
    }
   ],
   "source": [
    "(0.9795+0.2595+0.2235+0.5495+0.349+0.444+0.7695)/7"
   ]
  },
  {
   "cell_type": "code",
   "execution_count": 150,
   "id": "42d46ec9",
   "metadata": {},
   "outputs": [
    {
     "data": {
      "text/html": [
       "<div>\n",
       "<style scoped>\n",
       "    .dataframe tbody tr th:only-of-type {\n",
       "        vertical-align: middle;\n",
       "    }\n",
       "\n",
       "    .dataframe tbody tr th {\n",
       "        vertical-align: top;\n",
       "    }\n",
       "\n",
       "    .dataframe thead th {\n",
       "        text-align: right;\n",
       "    }\n",
       "</style>\n",
       "<table border=\"1\" class=\"dataframe\">\n",
       "  <thead>\n",
       "    <tr style=\"text-align: right;\">\n",
       "      <th></th>\n",
       "      <th>14</th>\n",
       "      <th>15</th>\n",
       "      <th>16</th>\n",
       "      <th>17</th>\n",
       "      <th>18</th>\n",
       "      <th>19</th>\n",
       "      <th>20</th>\n",
       "    </tr>\n",
       "  </thead>\n",
       "  <tbody>\n",
       "    <tr>\n",
       "      <th>2014</th>\n",
       "      <td>0.97805</td>\n",
       "      <td>0.9375</td>\n",
       "      <td>0.75</td>\n",
       "      <td>0.666667</td>\n",
       "      <td>1.0</td>\n",
       "      <td>0</td>\n",
       "      <td>0</td>\n",
       "    </tr>\n",
       "    <tr>\n",
       "      <th>2015</th>\n",
       "      <td>0.889655</td>\n",
       "      <td>0.971098</td>\n",
       "      <td>0.962264</td>\n",
       "      <td>0.967742</td>\n",
       "      <td>0.956522</td>\n",
       "      <td>1.0</td>\n",
       "      <td>0</td>\n",
       "    </tr>\n",
       "    <tr>\n",
       "      <th>2016</th>\n",
       "      <td>0.734513</td>\n",
       "      <td>0.959119</td>\n",
       "      <td>0.986577</td>\n",
       "      <td>0.96732</td>\n",
       "      <td>0.944444</td>\n",
       "      <td>0</td>\n",
       "      <td>0</td>\n",
       "    </tr>\n",
       "    <tr>\n",
       "      <th>2017</th>\n",
       "      <td>0.538922</td>\n",
       "      <td>0.885321</td>\n",
       "      <td>0.93617</td>\n",
       "      <td>0.987261</td>\n",
       "      <td>0.984848</td>\n",
       "      <td>1.0</td>\n",
       "      <td>0</td>\n",
       "    </tr>\n",
       "    <tr>\n",
       "      <th>2018</th>\n",
       "      <td>0.818182</td>\n",
       "      <td>0.909091</td>\n",
       "      <td>0.820106</td>\n",
       "      <td>0.948875</td>\n",
       "      <td>0.967049</td>\n",
       "      <td>0.931818</td>\n",
       "      <td>0.884615</td>\n",
       "    </tr>\n",
       "    <tr>\n",
       "      <th>2019</th>\n",
       "      <td>0.833333</td>\n",
       "      <td>0.857143</td>\n",
       "      <td>1.0</td>\n",
       "      <td>0.926829</td>\n",
       "      <td>0.539801</td>\n",
       "      <td>0.97973</td>\n",
       "      <td>0.924194</td>\n",
       "    </tr>\n",
       "    <tr>\n",
       "      <th>2020</th>\n",
       "      <td>0</td>\n",
       "      <td>0</td>\n",
       "      <td>1.0</td>\n",
       "      <td>0.0</td>\n",
       "      <td>0.85</td>\n",
       "      <td>0.986333</td>\n",
       "      <td>0.97271</td>\n",
       "    </tr>\n",
       "  </tbody>\n",
       "</table>\n",
       "</div>"
      ],
      "text/plain": [
       "            14        15        16        17        18        19        20\n",
       "2014   0.97805    0.9375      0.75  0.666667       1.0         0         0\n",
       "2015  0.889655  0.971098  0.962264  0.967742  0.956522       1.0         0\n",
       "2016  0.734513  0.959119  0.986577   0.96732  0.944444         0         0\n",
       "2017  0.538922  0.885321   0.93617  0.987261  0.984848       1.0         0\n",
       "2018  0.818182  0.909091  0.820106  0.948875  0.967049  0.931818  0.884615\n",
       "2019  0.833333  0.857143       1.0  0.926829  0.539801   0.97973  0.924194\n",
       "2020         0         0       1.0       0.0      0.85  0.986333   0.97271"
      ]
     },
     "execution_count": 150,
     "metadata": {},
     "output_type": "execute_result"
    }
   ],
   "source": [
    "p2"
   ]
  },
  {
   "cell_type": "code",
   "execution_count": 149,
   "id": "adebfff1",
   "metadata": {},
   "outputs": [
    {
     "data": {
      "text/html": [
       "<div>\n",
       "<style scoped>\n",
       "    .dataframe tbody tr th:only-of-type {\n",
       "        vertical-align: middle;\n",
       "    }\n",
       "\n",
       "    .dataframe tbody tr th {\n",
       "        vertical-align: top;\n",
       "    }\n",
       "\n",
       "    .dataframe thead th {\n",
       "        text-align: right;\n",
       "    }\n",
       "</style>\n",
       "<table border=\"1\" class=\"dataframe\">\n",
       "  <thead>\n",
       "    <tr style=\"text-align: right;\">\n",
       "      <th></th>\n",
       "      <th>14</th>\n",
       "      <th>15</th>\n",
       "      <th>16</th>\n",
       "      <th>17</th>\n",
       "      <th>18</th>\n",
       "      <th>19</th>\n",
       "      <th>20</th>\n",
       "      <th>0</th>\n",
       "    </tr>\n",
       "  </thead>\n",
       "  <tbody>\n",
       "    <tr>\n",
       "      <th>2014</th>\n",
       "      <td>1916.0</td>\n",
       "      <td>30.0</td>\n",
       "      <td>3.0</td>\n",
       "      <td>2.0</td>\n",
       "      <td>2.0</td>\n",
       "      <td>0</td>\n",
       "      <td>0</td>\n",
       "      <td>1953.0</td>\n",
       "    </tr>\n",
       "    <tr>\n",
       "      <th>2015</th>\n",
       "      <td>903.0</td>\n",
       "      <td>504.0</td>\n",
       "      <td>306.0</td>\n",
       "      <td>120.0</td>\n",
       "      <td>22.0</td>\n",
       "      <td>1.0</td>\n",
       "      <td>0</td>\n",
       "      <td>1856.0</td>\n",
       "    </tr>\n",
       "    <tr>\n",
       "      <th>2016</th>\n",
       "      <td>332.0</td>\n",
       "      <td>305.0</td>\n",
       "      <td>441.0</td>\n",
       "      <td>740.0</td>\n",
       "      <td>17.0</td>\n",
       "      <td>0</td>\n",
       "      <td>0</td>\n",
       "      <td>1835.0</td>\n",
       "    </tr>\n",
       "    <tr>\n",
       "      <th>2017</th>\n",
       "      <td>90.0</td>\n",
       "      <td>193.0</td>\n",
       "      <td>352.0</td>\n",
       "      <td>1085.0</td>\n",
       "      <td>130.0</td>\n",
       "      <td>8.0</td>\n",
       "      <td>0</td>\n",
       "      <td>1858.0</td>\n",
       "    </tr>\n",
       "    <tr>\n",
       "      <th>2018</th>\n",
       "      <td>63.0</td>\n",
       "      <td>90.0</td>\n",
       "      <td>155.0</td>\n",
       "      <td>464.0</td>\n",
       "      <td>675.0</td>\n",
       "      <td>369.0</td>\n",
       "      <td>46.0</td>\n",
       "      <td>1862.0</td>\n",
       "    </tr>\n",
       "    <tr>\n",
       "      <th>2019</th>\n",
       "      <td>20.0</td>\n",
       "      <td>6.0</td>\n",
       "      <td>18.0</td>\n",
       "      <td>38.0</td>\n",
       "      <td>217.0</td>\n",
       "      <td>870.0</td>\n",
       "      <td>573.0</td>\n",
       "      <td>1742.0</td>\n",
       "    </tr>\n",
       "    <tr>\n",
       "      <th>2020</th>\n",
       "      <td>0</td>\n",
       "      <td>0</td>\n",
       "      <td>1.0</td>\n",
       "      <td>0.0</td>\n",
       "      <td>17.0</td>\n",
       "      <td>433.0</td>\n",
       "      <td>1497.0</td>\n",
       "      <td>1948.0</td>\n",
       "    </tr>\n",
       "  </tbody>\n",
       "</table>\n",
       "</div>"
      ],
      "text/plain": [
       "          14     15     16      17     18     19      20      0 \n",
       "2014  1916.0   30.0    3.0     2.0    2.0      0       0  1953.0\n",
       "2015   903.0  504.0  306.0   120.0   22.0    1.0       0  1856.0\n",
       "2016   332.0  305.0  441.0   740.0   17.0      0       0  1835.0\n",
       "2017    90.0  193.0  352.0  1085.0  130.0    8.0       0  1858.0\n",
       "2018    63.0   90.0  155.0   464.0  675.0  369.0    46.0  1862.0\n",
       "2019    20.0    6.0   18.0    38.0  217.0  870.0   573.0  1742.0\n",
       "2020       0      0    1.0     0.0   17.0  433.0  1497.0  1948.0"
      ]
     },
     "execution_count": 149,
     "metadata": {},
     "output_type": "execute_result"
    }
   ],
   "source": [
    "pd.concat([(p1*p2), pd.DataFrame((p1*p2).sum(axis=1))], axis=1)"
   ]
  },
  {
   "cell_type": "code",
   "execution_count": null,
   "id": "90a118ae",
   "metadata": {},
   "outputs": [],
   "source": []
  },
  {
   "cell_type": "code",
   "execution_count": null,
   "id": "45f962e5",
   "metadata": {},
   "outputs": [],
   "source": []
  },
  {
   "cell_type": "code",
   "execution_count": null,
   "id": "60e049f7",
   "metadata": {},
   "outputs": [],
   "source": []
  },
  {
   "cell_type": "code",
   "execution_count": null,
   "id": "2f318824",
   "metadata": {},
   "outputs": [],
   "source": []
  },
  {
   "cell_type": "code",
   "execution_count": null,
   "id": "cd4c875d",
   "metadata": {},
   "outputs": [],
   "source": []
  },
  {
   "cell_type": "code",
   "execution_count": null,
   "id": "47ccbc1d",
   "metadata": {},
   "outputs": [],
   "source": []
  },
  {
   "cell_type": "markdown",
   "id": "d602533d",
   "metadata": {},
   "source": [
    "## 볼필요 없음"
   ]
  },
  {
   "cell_type": "code",
   "execution_count": 63,
   "id": "aba33214",
   "metadata": {},
   "outputs": [
    {
     "name": "stdout",
     "output_type": "stream",
     "text": [
      "0.9785000000000004\n",
      "0.9942910729999999\n",
      "0.9945438953372203\n",
      "0.9979386116062081\n",
      "0.993306390157009\n",
      "0.9769999999999999\n",
      "0.9770000000000002\n"
     ]
    }
   ],
   "source": [
    "for k in range(7):\n",
    "    cnt=0\n",
    "    for j in product(*[(i,1-i) for i in df.iloc[k]]):\n",
    "        if sum(np.array(j)*aa.iloc[k])>=0.5:\n",
    "            cnt+=j[0]*j[1]*j[2]*j[3]*j[4]*j[5]*j[6]\n",
    "    print(cnt)"
   ]
  },
  {
   "cell_type": "code",
   "execution_count": null,
   "id": "35d06e9b",
   "metadata": {},
   "outputs": [],
   "source": []
  },
  {
   "cell_type": "code",
   "execution_count": 624,
   "id": "3863632b",
   "metadata": {},
   "outputs": [],
   "source": [
    "# aa=aa.T\n",
    "aa.index, aa.columns =range(14,21), range(7,14)\n",
    "df.index, df.columns= range(14,21), range(7,14)"
   ]
  },
  {
   "cell_type": "code",
   "execution_count": 625,
   "id": "ce93091f",
   "metadata": {},
   "outputs": [
    {
     "data": {
      "text/html": [
       "<div>\n",
       "<style scoped>\n",
       "    .dataframe tbody tr th:only-of-type {\n",
       "        vertical-align: middle;\n",
       "    }\n",
       "\n",
       "    .dataframe tbody tr th {\n",
       "        vertical-align: top;\n",
       "    }\n",
       "\n",
       "    .dataframe thead th {\n",
       "        text-align: right;\n",
       "    }\n",
       "</style>\n",
       "<table border=\"1\" class=\"dataframe\">\n",
       "  <thead>\n",
       "    <tr style=\"text-align: right;\">\n",
       "      <th></th>\n",
       "      <th>7</th>\n",
       "      <th>8</th>\n",
       "      <th>9</th>\n",
       "      <th>10</th>\n",
       "      <th>11</th>\n",
       "      <th>12</th>\n",
       "      <th>13</th>\n",
       "    </tr>\n",
       "  </thead>\n",
       "  <tbody>\n",
       "    <tr>\n",
       "      <th>14</th>\n",
       "      <td>0.491730</td>\n",
       "      <td>0.256926</td>\n",
       "      <td>0.117733</td>\n",
       "      <td>0.043795</td>\n",
       "      <td>0.023049</td>\n",
       "      <td>0.004932</td>\n",
       "      <td>0.001005</td>\n",
       "    </tr>\n",
       "    <tr>\n",
       "      <th>15</th>\n",
       "      <td>0.249397</td>\n",
       "      <td>0.270690</td>\n",
       "      <td>0.193902</td>\n",
       "      <td>0.118623</td>\n",
       "      <td>0.060838</td>\n",
       "      <td>0.009309</td>\n",
       "      <td>0.001901</td>\n",
       "    </tr>\n",
       "    <tr>\n",
       "      <th>16</th>\n",
       "      <td>0.111627</td>\n",
       "      <td>0.191317</td>\n",
       "      <td>0.258193</td>\n",
       "      <td>0.221334</td>\n",
       "      <td>0.113273</td>\n",
       "      <td>0.013595</td>\n",
       "      <td>0.002452</td>\n",
       "    </tr>\n",
       "    <tr>\n",
       "      <th>17</th>\n",
       "      <td>0.045457</td>\n",
       "      <td>0.122465</td>\n",
       "      <td>0.237052</td>\n",
       "      <td>0.311792</td>\n",
       "      <td>0.181262</td>\n",
       "      <td>0.027906</td>\n",
       "      <td>0.004848</td>\n",
       "    </tr>\n",
       "    <tr>\n",
       "      <th>18</th>\n",
       "      <td>0.026681</td>\n",
       "      <td>0.070780</td>\n",
       "      <td>0.121291</td>\n",
       "      <td>0.174113</td>\n",
       "      <td>0.275999</td>\n",
       "      <td>0.186029</td>\n",
       "      <td>0.059034</td>\n",
       "    </tr>\n",
       "    <tr>\n",
       "      <th>19</th>\n",
       "      <td>0.005975</td>\n",
       "      <td>0.009498</td>\n",
       "      <td>0.011849</td>\n",
       "      <td>0.022544</td>\n",
       "      <td>0.123731</td>\n",
       "      <td>0.390915</td>\n",
       "      <td>0.281068</td>\n",
       "    </tr>\n",
       "    <tr>\n",
       "      <th>20</th>\n",
       "      <td>0.001315</td>\n",
       "      <td>0.002333</td>\n",
       "      <td>0.002425</td>\n",
       "      <td>0.004701</td>\n",
       "      <td>0.041664</td>\n",
       "      <td>0.290415</td>\n",
       "      <td>0.590761</td>\n",
       "    </tr>\n",
       "  </tbody>\n",
       "</table>\n",
       "</div>"
      ],
      "text/plain": [
       "          7         8         9         10        11        12        13\n",
       "14  0.491730  0.256926  0.117733  0.043795  0.023049  0.004932  0.001005\n",
       "15  0.249397  0.270690  0.193902  0.118623  0.060838  0.009309  0.001901\n",
       "16  0.111627  0.191317  0.258193  0.221334  0.113273  0.013595  0.002452\n",
       "17  0.045457  0.122465  0.237052  0.311792  0.181262  0.027906  0.004848\n",
       "18  0.026681  0.070780  0.121291  0.174113  0.275999  0.186029  0.059034\n",
       "19  0.005975  0.009498  0.011849  0.022544  0.123731  0.390915  0.281068\n",
       "20  0.001315  0.002333  0.002425  0.004701  0.041664  0.290415  0.590761"
      ]
     },
     "execution_count": 625,
     "metadata": {},
     "output_type": "execute_result"
    }
   ],
   "source": [
    "c = aa*df\n",
    "c"
   ]
  },
  {
   "cell_type": "code",
   "execution_count": 617,
   "id": "b886cca3",
   "metadata": {},
   "outputs": [
    {
     "data": {
      "text/plain": [
       "14    0.977353\n",
       "15    0.933729\n",
       "16    0.914806\n",
       "17    0.945474\n",
       "18    0.929722\n",
       "19    0.861433\n",
       "20    0.968299\n",
       "dtype: float64"
      ]
     },
     "execution_count": 617,
     "metadata": {},
     "output_type": "execute_result"
    }
   ],
   "source": [
    "c.sum(axis=1)"
   ]
  },
  {
   "cell_type": "code",
   "execution_count": 618,
   "id": "74719713",
   "metadata": {},
   "outputs": [
    {
     "data": {
      "text/plain": [
       "[0.9755, 0.9745, 0.9705, 0.958, 0.9375, 0.969, 0.9765]"
      ]
     },
     "execution_count": 618,
     "metadata": {},
     "output_type": "execute_result"
    }
   ],
   "source": [
    "score_dict[2020]"
   ]
  },
  {
   "cell_type": "code",
   "execution_count": 619,
   "id": "9b98a5d1",
   "metadata": {},
   "outputs": [
    {
     "data": {
      "text/plain": [
       "0.926331625"
      ]
     },
     "execution_count": 619,
     "metadata": {},
     "output_type": "execute_result"
    }
   ],
   "source": [
    "AUT(list(c.sum(axis=1)))"
   ]
  },
  {
   "cell_type": "code",
   "execution_count": null,
   "id": "5dd9bb36",
   "metadata": {},
   "outputs": [],
   "source": []
  },
  {
   "cell_type": "code",
   "execution_count": null,
   "id": "85e130f0",
   "metadata": {},
   "outputs": [],
   "source": []
  },
  {
   "cell_type": "code",
   "execution_count": null,
   "id": "a9ac3ddc",
   "metadata": {},
   "outputs": [],
   "source": []
  },
  {
   "cell_type": "code",
   "execution_count": null,
   "id": "5dcc2d3a",
   "metadata": {},
   "outputs": [],
   "source": []
  },
  {
   "cell_type": "markdown",
   "id": "7c40dfc6",
   "metadata": {},
   "source": [
    "# appendix"
   ]
  },
  {
   "cell_type": "markdown",
   "id": "59b7df98",
   "metadata": {},
   "source": [
    "## 트리출력"
   ]
  },
  {
   "cell_type": "code",
   "execution_count": 22,
   "id": "23d4ed2f",
   "metadata": {
    "ExecuteTime": {
     "end_time": "2023-02-28T15:46:29.546537Z",
     "start_time": "2023-02-28T15:46:29.374474Z"
    }
   },
   "outputs": [
    {
     "ename": "FileNotFoundError",
     "evalue": "[Errno 2] No such file or directory: './ex4_apilv_depth_model/ymodel20.pkl'",
     "output_type": "error",
     "traceback": [
      "\u001b[0;31m---------------------------------------------------------------------------\u001b[0m",
      "\u001b[0;31mFileNotFoundError\u001b[0m                         Traceback (most recent call last)",
      "Cell \u001b[0;32mIn[22], line 1\u001b[0m\n\u001b[0;32m----> 1\u001b[0m m \u001b[38;5;241m=\u001b[39m \u001b[43mjoblib\u001b[49m\u001b[38;5;241;43m.\u001b[39;49m\u001b[43mload\u001b[49m\u001b[43m(\u001b[49m\u001b[38;5;124;43m'\u001b[39;49m\u001b[38;5;124;43m./ex4_apilv_depth_model/ymodel20.pkl\u001b[39;49m\u001b[38;5;124;43m'\u001b[39;49m\u001b[43m)\u001b[49m\n\u001b[1;32m      2\u001b[0m \u001b[38;5;66;03m# _ = tree.plot_tree(m.__dict__['estimators_'][0], \u001b[39;00m\n\u001b[1;32m      3\u001b[0m \u001b[38;5;66;03m#                   filled=True)\u001b[39;00m\n",
      "File \u001b[0;32m~/.local/lib/python3.10/site-packages/joblib/numpy_pickle.py:650\u001b[0m, in \u001b[0;36mload\u001b[0;34m(filename, mmap_mode)\u001b[0m\n\u001b[1;32m    648\u001b[0m         obj \u001b[38;5;241m=\u001b[39m _unpickle(fobj)\n\u001b[1;32m    649\u001b[0m \u001b[38;5;28;01melse\u001b[39;00m:\n\u001b[0;32m--> 650\u001b[0m     \u001b[38;5;28;01mwith\u001b[39;00m \u001b[38;5;28;43mopen\u001b[39;49m\u001b[43m(\u001b[49m\u001b[43mfilename\u001b[49m\u001b[43m,\u001b[49m\u001b[43m \u001b[49m\u001b[38;5;124;43m'\u001b[39;49m\u001b[38;5;124;43mrb\u001b[39;49m\u001b[38;5;124;43m'\u001b[39;49m\u001b[43m)\u001b[49m \u001b[38;5;28;01mas\u001b[39;00m f:\n\u001b[1;32m    651\u001b[0m         \u001b[38;5;28;01mwith\u001b[39;00m _read_fileobject(f, filename, mmap_mode) \u001b[38;5;28;01mas\u001b[39;00m fobj:\n\u001b[1;32m    652\u001b[0m             \u001b[38;5;28;01mif\u001b[39;00m \u001b[38;5;28misinstance\u001b[39m(fobj, \u001b[38;5;28mstr\u001b[39m):\n\u001b[1;32m    653\u001b[0m                 \u001b[38;5;66;03m# if the returned file object is a string, this means we\u001b[39;00m\n\u001b[1;32m    654\u001b[0m                 \u001b[38;5;66;03m# try to load a pickle file generated with an version of\u001b[39;00m\n\u001b[1;32m    655\u001b[0m                 \u001b[38;5;66;03m# Joblib so we load it with joblib compatibility function.\u001b[39;00m\n",
      "\u001b[0;31mFileNotFoundError\u001b[0m: [Errno 2] No such file or directory: './ex4_apilv_depth_model/ymodel20.pkl'"
     ]
    }
   ],
   "source": [
    "m = joblib.load('./ex4/ymodel20.pkl')\n",
    "# _ = tree.plot_tree(m.__dict__['estimators_'][0], \n",
    "#                   filled=True)"
   ]
  },
  {
   "cell_type": "code",
   "execution_count": null,
   "id": "e62bd50f",
   "metadata": {
    "ExecuteTime": {
     "end_time": "2023-02-28T15:46:33.119949Z",
     "start_time": "2023-02-28T15:46:33.113682Z"
    }
   },
   "outputs": [],
   "source": [
    "import graphviz\n"
   ]
  },
  {
   "cell_type": "code",
   "execution_count": null,
   "id": "920e6251",
   "metadata": {
    "ExecuteTime": {
     "end_time": "2023-02-28T15:46:37.165334Z",
     "start_time": "2023-02-28T15:46:37.132610Z"
    }
   },
   "outputs": [],
   "source": [
    "treedot=tree.export_graphviz(m.__dict__['estimators_'][0], feature_names=['x1','x2','x3','x4'],filled=True)"
   ]
  },
  {
   "cell_type": "code",
   "execution_count": null,
   "id": "19698ec0",
   "metadata": {
    "ExecuteTime": {
     "end_time": "2023-02-28T15:46:38.970163Z",
     "start_time": "2023-02-28T15:46:38.963969Z"
    }
   },
   "outputs": [],
   "source": [
    "g=graphviz.Source(treedot, filename='./b.png')"
   ]
  },
  {
   "cell_type": "code",
   "execution_count": null,
   "id": "15da7329",
   "metadata": {
    "ExecuteTime": {
     "end_time": "2023-02-28T15:46:41.663624Z",
     "start_time": "2023-02-28T15:46:40.765012Z"
    }
   },
   "outputs": [],
   "source": [
    "g.render('./b', format='png')"
   ]
  },
  {
   "cell_type": "code",
   "execution_count": null,
   "id": "fbe6961c",
   "metadata": {
    "ExecuteTime": {
     "end_time": "2023-02-28T15:47:20.594377Z",
     "start_time": "2023-02-28T15:47:20.556325Z"
    },
    "scrolled": false
   },
   "outputs": [],
   "source": [
    "g"
   ]
  },
  {
   "cell_type": "code",
   "execution_count": null,
   "id": "2ec89e24",
   "metadata": {
    "ExecuteTime": {
     "end_time": "2023-02-28T15:52:12.809739Z",
     "start_time": "2023-02-28T15:52:07.983049Z"
    }
   },
   "outputs": [],
   "source": [
    "fig = plt.figure(figsize=(15, 8))\n",
    "tree.plot_tree(m.__dict__['estimators_'][0], feature_names=['x1','x2','x3','x4'],filled=True)\n",
    "plt.savefig('./a.png')"
   ]
  },
  {
   "cell_type": "code",
   "execution_count": null,
   "id": "f6965e88",
   "metadata": {},
   "outputs": [],
   "source": []
  },
  {
   "cell_type": "code",
   "execution_count": null,
   "id": "54986997",
   "metadata": {
    "ExecuteTime": {
     "end_time": "2023-02-28T15:52:39.547083Z",
     "start_time": "2023-02-28T15:52:39.533236Z"
    },
    "scrolled": true
   },
   "outputs": [],
   "source": [
    "print(tree.export_text(m.__dict__['estimators_'][0]))"
   ]
  },
  {
   "cell_type": "code",
   "execution_count": null,
   "id": "15e8f735",
   "metadata": {},
   "outputs": [],
   "source": []
  },
  {
   "cell_type": "code",
   "execution_count": null,
   "id": "4ea38969",
   "metadata": {},
   "outputs": [],
   "source": []
  },
  {
   "cell_type": "code",
   "execution_count": null,
   "id": "f5e7c456",
   "metadata": {},
   "outputs": [],
   "source": []
  },
  {
   "cell_type": "code",
   "execution_count": null,
   "id": "002f7c93",
   "metadata": {},
   "outputs": [],
   "source": []
  },
  {
   "cell_type": "code",
   "execution_count": null,
   "id": "984a564e",
   "metadata": {},
   "outputs": [],
   "source": []
  },
  {
   "cell_type": "markdown",
   "id": "7572131a",
   "metadata": {},
   "source": [
    "## api lv에 따라 연도구별하는 것을 프로그램으로 작성하는 것이 어려운 이유"
   ]
  },
  {
   "cell_type": "markdown",
   "id": "f511e48d",
   "metadata": {},
   "source": [
    "1. 균일하게 퍼져있는 탓에 범위로 구별하긴 어려움\n",
    "== 프로그램으로 어케짬 ㅠㅠ\n",
    "\n",
    "2. 이상치가 존재함, 그래서 이상치를 없애버렷음"
   ]
  },
  {
   "cell_type": "code",
   "execution_count": null,
   "id": "dea9decc",
   "metadata": {
    "ExecuteTime": {
     "end_time": "2023-02-26T23:59:15.337596Z",
     "start_time": "2023-02-26T23:59:15.322976Z"
    }
   },
   "outputs": [],
   "source": [
    "label = pd.concat([train_y_dict[j]['year'] for j in range(2014,2021)])\n",
    "df = pd.concat([train_X_dict2[j] for j in range(2014,2021)])"
   ]
  },
  {
   "cell_type": "code",
   "execution_count": null,
   "id": "30233c39",
   "metadata": {
    "ExecuteTime": {
     "end_time": "2023-02-27T00:02:53.207366Z",
     "start_time": "2023-02-27T00:02:53.178298Z"
    }
   },
   "outputs": [],
   "source": [
    "df['label'] = label"
   ]
  },
  {
   "cell_type": "code",
   "execution_count": null,
   "id": "18ca8100",
   "metadata": {
    "ExecuteTime": {
     "end_time": "2023-02-26T23:59:16.232898Z",
     "start_time": "2023-02-26T23:59:15.722148Z"
    }
   },
   "outputs": [],
   "source": [
    "plt.scatter(df['min'], label)"
   ]
  },
  {
   "cell_type": "code",
   "execution_count": null,
   "id": "29da8c4d",
   "metadata": {
    "ExecuteTime": {
     "end_time": "2023-02-26T23:59:16.934758Z",
     "start_time": "2023-02-26T23:59:16.456502Z"
    }
   },
   "outputs": [],
   "source": [
    "plt.scatter(df['target'], label)"
   ]
  },
  {
   "cell_type": "code",
   "execution_count": null,
   "id": "71a7c8dc",
   "metadata": {
    "ExecuteTime": {
     "end_time": "2023-02-26T23:59:18.107335Z",
     "start_time": "2023-02-26T23:59:17.548710Z"
    }
   },
   "outputs": [],
   "source": [
    "plt.scatter(df['platformbuildversioncode'], label)"
   ]
  },
  {
   "cell_type": "code",
   "execution_count": null,
   "id": "2df39b7f",
   "metadata": {
    "ExecuteTime": {
     "end_time": "2023-02-27T00:05:25.413919Z",
     "start_time": "2023-02-27T00:05:25.225699Z"
    }
   },
   "outputs": [],
   "source": [
    "df[df['label']=='14']['target'].plot(kind = 'box')"
   ]
  },
  {
   "cell_type": "code",
   "execution_count": null,
   "id": "7a7a66e9",
   "metadata": {
    "ExecuteTime": {
     "end_time": "2023-02-27T00:06:00.128116Z",
     "start_time": "2023-02-27T00:05:59.947888Z"
    }
   },
   "outputs": [],
   "source": [
    "df[df['label']=='19']['target'].plot(kind = 'box')"
   ]
  }
 ],
 "metadata": {
  "kernelspec": {
   "display_name": "Python 3 (ipykernel)",
   "language": "python",
   "name": "python3"
  },
  "language_info": {
   "codemirror_mode": {
    "name": "ipython",
    "version": 3
   },
   "file_extension": ".py",
   "mimetype": "text/x-python",
   "name": "python",
   "nbconvert_exporter": "python",
   "pygments_lexer": "ipython3",
   "version": "3.10.6"
  },
  "toc": {
   "base_numbering": 1,
   "nav_menu": {},
   "number_sections": true,
   "sideBar": true,
   "skip_h1_title": false,
   "title_cell": "Table of Contents",
   "title_sidebar": "Contents",
   "toc_cell": false,
   "toc_position": {
    "height": "calc(100% - 180px)",
    "left": "10px",
    "top": "150px",
    "width": "257.6px"
   },
   "toc_section_display": true,
   "toc_window_display": true
  }
 },
 "nbformat": 4,
 "nbformat_minor": 5
}
