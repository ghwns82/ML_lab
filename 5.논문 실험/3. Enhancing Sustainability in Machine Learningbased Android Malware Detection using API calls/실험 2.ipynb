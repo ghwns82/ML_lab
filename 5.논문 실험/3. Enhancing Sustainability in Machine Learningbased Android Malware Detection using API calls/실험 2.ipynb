{
 "cells": [
  {
   "cell_type": "code",
   "execution_count": 1,
   "id": "8a7c3b77",
   "metadata": {
    "ExecuteTime": {
     "end_time": "2022-07-22T01:40:29.785610Z",
     "start_time": "2022-07-22T01:40:28.693633Z"
    }
   },
   "outputs": [],
   "source": [
    "import os\n",
    "import csv\n",
    "\n",
    "import pandas as pd\n",
    "import numpy as np\n",
    "\n",
    "from sklearn.ensemble import RandomForestClassifier\n",
    "from sklearn.model_selection import train_test_split\n",
    "from sklearn.metrics import f1_score\n",
    "from sklearn.metrics import confusion_matrix, ConfusionMatrixDisplay\n",
    "\n",
    "from itertools import product\n",
    "import joblib\n",
    "import matplotlib.pyplot as plt"
   ]
  },
  {
   "cell_type": "code",
   "execution_count": 2,
   "id": "83f10fbf",
   "metadata": {
    "ExecuteTime": {
     "end_time": "2022-07-22T01:40:29.800041Z",
     "start_time": "2022-07-22T01:40:29.798202Z"
    }
   },
   "outputs": [],
   "source": [
    "years = list(range(2014,2021))\n",
    "apk_types = ['benign','malware']"
   ]
  },
  {
   "cell_type": "code",
   "execution_count": 3,
   "id": "0b55d551",
   "metadata": {
    "ExecuteTime": {
     "end_time": "2022-07-22T01:40:29.816193Z",
     "start_time": "2022-07-22T01:40:29.814044Z"
    }
   },
   "outputs": [],
   "source": [
    "# if not os.path.isdir('./csv'):\n",
    "#     os.mkdir('./csv')\n",
    "    \n",
    "# train_ben_n = 39000\n",
    "# train_mal_n = 10000\n",
    "\n",
    "# for year in [2014,2015]:\n",
    "#     df_ben = pd.read_csv(f'../nas/api/{apk_types[0]}_{year}.csv', index_col=0)\n",
    "#     df_mal = pd.read_csv(f'../nas/api/{apk_types[1]}_{year}.csv', index_col=0)\n",
    "    \n",
    "#     df_ben = df_ben.sample(n=train_ben_n)\n",
    "#     df_mal = df_mal.sample(n=train_mal_n)\n",
    "    \n",
    "#     df_ben.to_csv(f'./csv/{apk_types[0]}_{year}.csv')\n",
    "#     df_mal.to_csv(f'./csv/{apk_types[1]}_{year}.csv')\n",
    "    \n",
    "#     print(year, 'done', train_ben_n, train_mal_n)\n",
    "\n",
    "# for year in years[2:]:\n",
    "#     df_ben = pd.read_csv(f'../nas/api/{apk_types[0]}_{year}.csv', index_col=0)\n",
    "#     df_mal = pd.read_csv(f'../nas/api/{apk_types[1]}_{year}.csv', index_col=0)\n",
    "    \n",
    "#     min_ = min(df_ben.shape[0], df_mal.shape[0])\n",
    "#     df_ben = df_ben.sample(n=min_)\n",
    "#     df_mal = df_mal.sample(n=min_)\n",
    "    \n",
    "#     df_ben.to_csv(f'./csv/{apk_types[0]}_{year}.csv')\n",
    "#     df_mal.to_csv(f'./csv/{apk_types[1]}_{year}.csv')\n",
    "#     print(year, 'done', df_ben.shape[0], df_mal.shape[0])"
   ]
  },
  {
   "cell_type": "code",
   "execution_count": 4,
   "id": "ce967cdb",
   "metadata": {
    "ExecuteTime": {
     "end_time": "2022-07-22T01:40:45.069560Z",
     "start_time": "2022-07-22T01:40:29.831277Z"
    }
   },
   "outputs": [],
   "source": [
    "file_list = os.listdir('./csv/')\n",
    "file_list_ben = file_list[:len(file_list)//2]\n",
    "file_list_mal = file_list[len(file_list)//2:]\n",
    "\n",
    "ben_df_dict = dict()\n",
    "mal_df_dict = dict()\n",
    "for i, year in enumerate(years):\n",
    "    ben_df_dict[year] = pd.read_csv(f'./csv/{file_list_ben[i]}', index_col=0)\n",
    "    mal_df_dict[year] = pd.read_csv(f'./csv/{file_list_mal[i]}', index_col=0)\n",
    "    ben_df_dict[year].drop(['year','month','day'], axis=1, inplace = True)\n",
    "    mal_df_dict[year].drop(['year','month','day'], axis=1, inplace = True)"
   ]
  },
  {
   "cell_type": "code",
   "execution_count": 5,
   "id": "68f648f4",
   "metadata": {
    "ExecuteTime": {
     "end_time": "2022-07-22T01:40:45.262421Z",
     "start_time": "2022-07-22T01:40:45.259550Z"
    }
   },
   "outputs": [
    {
     "name": "stdout",
     "output_type": "stream",
     "text": [
      "(9900, 1849) (9100, 1849)\n",
      "(9900, 1849) (9100, 1849)\n",
      "(9900, 1849) (9100, 1849)\n",
      "(9900, 1849) (9100, 1849)\n",
      "(9900, 1849) (9100, 1849)\n",
      "(9900, 1849) (9100, 1849)\n",
      "(9900, 1849) (9100, 1849)\n"
     ]
    }
   ],
   "source": [
    "for year in years:\n",
    "    print(ben_df_dict[year].shape, mal_df_dict[year].shape)"
   ]
  },
  {
   "cell_type": "code",
   "execution_count": 6,
   "id": "87db918b",
   "metadata": {
    "ExecuteTime": {
     "end_time": "2022-07-22T01:40:47.598759Z",
     "start_time": "2022-07-22T01:40:45.460901Z"
    }
   },
   "outputs": [],
   "source": [
    "train_ben_df_list = [ben_df.iloc[:-900,1:] for year, ben_df in sorted(ben_df_dict.items())]\n",
    "train_mal_df_list = [mal_df.iloc[:-100,1:] for year, mal_df in sorted(mal_df_dict.items())]"
   ]
  },
  {
   "cell_type": "code",
   "execution_count": 7,
   "id": "d9491e78",
   "metadata": {
    "ExecuteTime": {
     "end_time": "2022-07-22T01:40:47.928879Z",
     "start_time": "2022-07-22T01:40:47.926408Z"
    }
   },
   "outputs": [],
   "source": [
    "train_label_per = ben_df_dict[year].iloc[:-900].shape[0]*[1] + mal_df_dict[year].iloc[:-100].shape[0]*[0]"
   ]
  },
  {
   "cell_type": "code",
   "execution_count": null,
   "id": "27b48f51",
   "metadata": {},
   "outputs": [],
   "source": []
  },
  {
   "cell_type": "code",
   "execution_count": 13,
   "id": "19fe3e09",
   "metadata": {
    "ExecuteTime": {
     "end_time": "2022-07-22T01:41:57.047424Z",
     "start_time": "2022-07-22T01:41:57.035810Z"
    }
   },
   "outputs": [],
   "source": [
    "import matplotlib.font_manager as fm\n",
    "import matplotlib as mpl\n",
    "fm.fontManager.addfont('/home/Times_New_Roman.ttf')"
   ]
  },
  {
   "cell_type": "code",
   "execution_count": 14,
   "id": "3c4b84f1",
   "metadata": {
    "ExecuteTime": {
     "end_time": "2022-07-22T01:41:58.716127Z",
     "start_time": "2022-07-22T01:41:58.711869Z"
    }
   },
   "outputs": [
    {
     "data": {
      "text/plain": [
       "[FontEntry(fname='/home/ghwns82/.local/lib/python3.8/site-packages/matplotlib/mpl-data/fonts/ttf/STIXSizFourSymReg.ttf', name='STIXSizeFourSym', style='normal', variant='normal', weight=400, stretch='normal', size='scalable'),\n",
       " FontEntry(fname='/home/ghwns82/.local/lib/python3.8/site-packages/matplotlib/mpl-data/fonts/ttf/DejaVuSansMono-Bold.ttf', name='DejaVu Sans Mono', style='normal', variant='normal', weight=700, stretch='normal', size='scalable'),\n",
       " FontEntry(fname='/home/ghwns82/.local/lib/python3.8/site-packages/matplotlib/mpl-data/fonts/ttf/STIXSizThreeSymBol.ttf', name='STIXSizeThreeSym', style='normal', variant='normal', weight=700, stretch='normal', size='scalable'),\n",
       " FontEntry(fname='/home/ghwns82/.local/lib/python3.8/site-packages/matplotlib/mpl-data/fonts/ttf/DejaVuSansMono-Oblique.ttf', name='DejaVu Sans Mono', style='oblique', variant='normal', weight=400, stretch='normal', size='scalable'),\n",
       " FontEntry(fname='/home/ghwns82/.local/lib/python3.8/site-packages/matplotlib/mpl-data/fonts/ttf/DejaVuSerif-Bold.ttf', name='DejaVu Serif', style='normal', variant='normal', weight=700, stretch='normal', size='scalable'),\n",
       " FontEntry(fname='/home/ghwns82/.local/lib/python3.8/site-packages/matplotlib/mpl-data/fonts/ttf/STIXGeneralItalic.ttf', name='STIXGeneral', style='italic', variant='normal', weight=400, stretch='normal', size='scalable'),\n",
       " FontEntry(fname='/home/ghwns82/.local/lib/python3.8/site-packages/matplotlib/mpl-data/fonts/ttf/STIXSizTwoSymReg.ttf', name='STIXSizeTwoSym', style='normal', variant='normal', weight=400, stretch='normal', size='scalable'),\n",
       " FontEntry(fname='/home/ghwns82/.local/lib/python3.8/site-packages/matplotlib/mpl-data/fonts/ttf/STIXGeneral.ttf', name='STIXGeneral', style='normal', variant='normal', weight=400, stretch='normal', size='scalable'),\n",
       " FontEntry(fname='/home/ghwns82/.local/lib/python3.8/site-packages/matplotlib/mpl-data/fonts/ttf/STIXSizTwoSymBol.ttf', name='STIXSizeTwoSym', style='normal', variant='normal', weight=700, stretch='normal', size='scalable'),\n",
       " FontEntry(fname='/home/ghwns82/.local/lib/python3.8/site-packages/matplotlib/mpl-data/fonts/ttf/STIXGeneralBol.ttf', name='STIXGeneral', style='normal', variant='normal', weight=700, stretch='normal', size='scalable'),\n",
       " FontEntry(fname='/home/ghwns82/.local/lib/python3.8/site-packages/matplotlib/mpl-data/fonts/ttf/STIXNonUniBol.ttf', name='STIXNonUnicode', style='normal', variant='normal', weight=700, stretch='normal', size='scalable'),\n",
       " FontEntry(fname='/home/ghwns82/.local/lib/python3.8/site-packages/matplotlib/mpl-data/fonts/ttf/STIXNonUniIta.ttf', name='STIXNonUnicode', style='italic', variant='normal', weight=400, stretch='normal', size='scalable'),\n",
       " FontEntry(fname='/home/ghwns82/.local/lib/python3.8/site-packages/matplotlib/mpl-data/fonts/ttf/DejaVuSans-Bold.ttf', name='DejaVu Sans', style='normal', variant='normal', weight=700, stretch='normal', size='scalable'),\n",
       " FontEntry(fname='/home/ghwns82/.local/lib/python3.8/site-packages/matplotlib/mpl-data/fonts/ttf/cmr10.ttf', name='cmr10', style='normal', variant='normal', weight=400, stretch='normal', size='scalable'),\n",
       " FontEntry(fname='/home/ghwns82/.local/lib/python3.8/site-packages/matplotlib/mpl-data/fonts/ttf/DejaVuSans-Oblique.ttf', name='DejaVu Sans', style='oblique', variant='normal', weight=400, stretch='normal', size='scalable'),\n",
       " FontEntry(fname='/home/ghwns82/.local/lib/python3.8/site-packages/matplotlib/mpl-data/fonts/ttf/DejaVuSerif.ttf', name='DejaVu Serif', style='normal', variant='normal', weight=400, stretch='normal', size='scalable'),\n",
       " FontEntry(fname='/home/ghwns82/.local/lib/python3.8/site-packages/matplotlib/mpl-data/fonts/ttf/cmsy10.ttf', name='cmsy10', style='normal', variant='normal', weight=400, stretch='normal', size='scalable'),\n",
       " FontEntry(fname='/home/ghwns82/.local/lib/python3.8/site-packages/matplotlib/mpl-data/fonts/ttf/DejaVuSansMono-BoldOblique.ttf', name='DejaVu Sans Mono', style='oblique', variant='normal', weight=700, stretch='normal', size='scalable'),\n",
       " FontEntry(fname='/home/ghwns82/.local/lib/python3.8/site-packages/matplotlib/mpl-data/fonts/ttf/STIXSizThreeSymReg.ttf', name='STIXSizeThreeSym', style='normal', variant='normal', weight=400, stretch='normal', size='scalable'),\n",
       " FontEntry(fname='/home/ghwns82/.local/lib/python3.8/site-packages/matplotlib/mpl-data/fonts/ttf/cmex10.ttf', name='cmex10', style='normal', variant='normal', weight=400, stretch='normal', size='scalable'),\n",
       " FontEntry(fname='/home/ghwns82/.local/lib/python3.8/site-packages/matplotlib/mpl-data/fonts/ttf/STIXSizOneSymReg.ttf', name='STIXSizeOneSym', style='normal', variant='normal', weight=400, stretch='normal', size='scalable'),\n",
       " FontEntry(fname='/home/ghwns82/.local/lib/python3.8/site-packages/matplotlib/mpl-data/fonts/ttf/STIXSizFourSymBol.ttf', name='STIXSizeFourSym', style='normal', variant='normal', weight=700, stretch='normal', size='scalable'),\n",
       " FontEntry(fname='/home/ghwns82/.local/lib/python3.8/site-packages/matplotlib/mpl-data/fonts/ttf/STIXSizFiveSymReg.ttf', name='STIXSizeFiveSym', style='normal', variant='normal', weight=400, stretch='normal', size='scalable'),\n",
       " FontEntry(fname='/home/ghwns82/.local/lib/python3.8/site-packages/matplotlib/mpl-data/fonts/ttf/cmss10.ttf', name='cmss10', style='normal', variant='normal', weight=400, stretch='normal', size='scalable'),\n",
       " FontEntry(fname='/home/ghwns82/.local/lib/python3.8/site-packages/matplotlib/mpl-data/fonts/ttf/STIXSizOneSymBol.ttf', name='STIXSizeOneSym', style='normal', variant='normal', weight=700, stretch='normal', size='scalable'),\n",
       " FontEntry(fname='/home/ghwns82/.local/lib/python3.8/site-packages/matplotlib/mpl-data/fonts/ttf/STIXNonUni.ttf', name='STIXNonUnicode', style='normal', variant='normal', weight=400, stretch='normal', size='scalable'),\n",
       " FontEntry(fname='/home/ghwns82/.local/lib/python3.8/site-packages/matplotlib/mpl-data/fonts/ttf/DejaVuSerif-Italic.ttf', name='DejaVu Serif', style='italic', variant='normal', weight=400, stretch='normal', size='scalable'),\n",
       " FontEntry(fname='/home/ghwns82/.local/lib/python3.8/site-packages/matplotlib/mpl-data/fonts/ttf/DejaVuSansDisplay.ttf', name='DejaVu Sans Display', style='normal', variant='normal', weight=400, stretch='normal', size='scalable'),\n",
       " FontEntry(fname='/home/ghwns82/.local/lib/python3.8/site-packages/matplotlib/mpl-data/fonts/ttf/cmmi10.ttf', name='cmmi10', style='normal', variant='normal', weight=400, stretch='normal', size='scalable'),\n",
       " FontEntry(fname='/home/ghwns82/.local/lib/python3.8/site-packages/matplotlib/mpl-data/fonts/ttf/cmb10.ttf', name='cmb10', style='normal', variant='normal', weight=400, stretch='normal', size='scalable'),\n",
       " FontEntry(fname='/home/ghwns82/.local/lib/python3.8/site-packages/matplotlib/mpl-data/fonts/ttf/STIXNonUniBolIta.ttf', name='STIXNonUnicode', style='italic', variant='normal', weight=700, stretch='normal', size='scalable'),\n",
       " FontEntry(fname='/home/ghwns82/.local/lib/python3.8/site-packages/matplotlib/mpl-data/fonts/ttf/DejaVuSansMono.ttf', name='DejaVu Sans Mono', style='normal', variant='normal', weight=400, stretch='normal', size='scalable'),\n",
       " FontEntry(fname='/home/ghwns82/.local/lib/python3.8/site-packages/matplotlib/mpl-data/fonts/ttf/DejaVuSerifDisplay.ttf', name='DejaVu Serif Display', style='normal', variant='normal', weight=400, stretch='normal', size='scalable'),\n",
       " FontEntry(fname='/home/ghwns82/.local/lib/python3.8/site-packages/matplotlib/mpl-data/fonts/ttf/STIXGeneralBolIta.ttf', name='STIXGeneral', style='italic', variant='normal', weight=700, stretch='normal', size='scalable'),\n",
       " FontEntry(fname='/home/ghwns82/.local/lib/python3.8/site-packages/matplotlib/mpl-data/fonts/ttf/DejaVuSerif-BoldItalic.ttf', name='DejaVu Serif', style='italic', variant='normal', weight=700, stretch='normal', size='scalable'),\n",
       " FontEntry(fname='/home/ghwns82/.local/lib/python3.8/site-packages/matplotlib/mpl-data/fonts/ttf/DejaVuSans-BoldOblique.ttf', name='DejaVu Sans', style='oblique', variant='normal', weight=700, stretch='normal', size='scalable'),\n",
       " FontEntry(fname='/home/ghwns82/.local/lib/python3.8/site-packages/matplotlib/mpl-data/fonts/ttf/cmtt10.ttf', name='cmtt10', style='normal', variant='normal', weight=400, stretch='normal', size='scalable'),\n",
       " FontEntry(fname='/home/ghwns82/.local/lib/python3.8/site-packages/matplotlib/mpl-data/fonts/ttf/DejaVuSans.ttf', name='DejaVu Sans', style='normal', variant='normal', weight=400, stretch='normal', size='scalable'),\n",
       " FontEntry(fname='/usr/share/fonts/truetype/liberation/LiberationSansNarrow-Bold.ttf', name='Liberation Sans Narrow', style='normal', variant='normal', weight=700, stretch='condensed', size='scalable'),\n",
       " FontEntry(fname='/usr/share/fonts/truetype/lyx/stmary10.ttf', name='stmary10', style='normal', variant='normal', weight=400, stretch='normal', size='scalable'),\n",
       " FontEntry(fname='/usr/share/fonts/truetype/lyx/msam10.ttf', name='msam10', style='normal', variant='normal', weight=400, stretch='normal', size='scalable'),\n",
       " FontEntry(fname='/usr/share/fonts/truetype/lyx/cmex10.ttf', name='cmex10', style='normal', variant='normal', weight=400, stretch='normal', size='scalable'),\n",
       " FontEntry(fname='/usr/share/fonts/truetype/lyx/msbm10.ttf', name='msbm10', style='normal', variant='normal', weight=400, stretch='normal', size='scalable'),\n",
       " FontEntry(fname='/usr/share/fonts/truetype/liberation/LiberationSerif-Regular.ttf', name='Liberation Serif', style='normal', variant='normal', weight=400, stretch='normal', size='scalable'),\n",
       " FontEntry(fname='/usr/share/fonts/truetype/lyx/rsfs10.ttf', name='rsfs10', style='italic', variant='normal', weight=400, stretch='normal', size='scalable'),\n",
       " FontEntry(fname='/usr/share/fonts/truetype/dejavu/DejaVuSans.ttf', name='DejaVu Sans', style='normal', variant='normal', weight=400, stretch='normal', size='scalable'),\n",
       " FontEntry(fname='/usr/share/fonts/truetype/ttf-bitstream-vera/VeraIt.ttf', name='Bitstream Vera Sans', style='oblique', variant='normal', weight=400, stretch='normal', size='scalable'),\n",
       " FontEntry(fname='/usr/share/fonts/truetype/ttf-bitstream-vera/VeraMoIt.ttf', name='Bitstream Vera Sans Mono', style='oblique', variant='normal', weight=400, stretch='normal', size='scalable'),\n",
       " FontEntry(fname='/usr/share/fonts/truetype/dejavu/DejaVuSansMono.ttf', name='DejaVu Sans Mono', style='normal', variant='normal', weight=400, stretch='normal', size='scalable'),\n",
       " FontEntry(fname='/usr/share/fonts/truetype/liberation/LiberationMono-BoldItalic.ttf', name='Liberation Mono', style='italic', variant='normal', weight=700, stretch='normal', size='scalable'),\n",
       " FontEntry(fname='/usr/share/fonts/truetype/lyx/cmsy10.ttf', name='cmsy10', style='normal', variant='normal', weight=400, stretch='normal', size='scalable'),\n",
       " FontEntry(fname='/usr/share/fonts/truetype/ttf-bitstream-vera/VeraSe.ttf', name='Bitstream Vera Serif', style='normal', variant='normal', weight=400, stretch='normal', size='scalable'),\n",
       " FontEntry(fname='/usr/share/fonts/truetype/lyx/cmr10.ttf', name='cmr10', style='normal', variant='normal', weight=400, stretch='normal', size='scalable'),\n",
       " FontEntry(fname='/usr/share/fonts/truetype/liberation/LiberationSansNarrow-BoldItalic.ttf', name='Liberation Sans Narrow', style='italic', variant='normal', weight=700, stretch='condensed', size='scalable'),\n",
       " FontEntry(fname='/usr/share/fonts/truetype/ttf-bitstream-vera/VeraBd.ttf', name='Bitstream Vera Sans', style='normal', variant='normal', weight=700, stretch='normal', size='scalable'),\n",
       " FontEntry(fname='/usr/share/fonts/truetype/dejavu/DejaVuSans-Bold.ttf', name='DejaVu Sans', style='normal', variant='normal', weight=700, stretch='normal', size='scalable'),\n",
       " FontEntry(fname='/usr/share/fonts/truetype/liberation/LiberationSans-BoldItalic.ttf', name='Liberation Sans', style='italic', variant='normal', weight=700, stretch='normal', size='scalable'),\n",
       " FontEntry(fname='/usr/share/fonts/truetype/liberation/LiberationSans-Regular.ttf', name='Liberation Sans', style='normal', variant='normal', weight=400, stretch='normal', size='scalable'),\n",
       " FontEntry(fname='/usr/share/fonts/truetype/dejavu/DejaVuSerif.ttf', name='DejaVu Serif', style='normal', variant='normal', weight=400, stretch='normal', size='scalable'),\n",
       " FontEntry(fname='/usr/share/fonts/truetype/dejavu/DejaVuSerif-Bold.ttf', name='DejaVu Serif', style='normal', variant='normal', weight=700, stretch='normal', size='scalable'),\n",
       " FontEntry(fname='/usr/share/fonts/truetype/ttf-bitstream-vera/VeraMoBI.ttf', name='Bitstream Vera Sans Mono', style='oblique', variant='normal', weight=700, stretch='normal', size='scalable'),\n",
       " FontEntry(fname='/usr/share/fonts/truetype/liberation/LiberationSans-Italic.ttf', name='Liberation Sans', style='italic', variant='normal', weight=400, stretch='normal', size='scalable'),\n",
       " FontEntry(fname='/usr/share/fonts/truetype/liberation/LiberationMono-Italic.ttf', name='Liberation Mono', style='italic', variant='normal', weight=400, stretch='normal', size='scalable'),\n",
       " FontEntry(fname='/usr/share/fonts/truetype/liberation/LiberationSerif-BoldItalic.ttf', name='Liberation Serif', style='italic', variant='normal', weight=700, stretch='normal', size='scalable'),\n",
       " FontEntry(fname='/usr/share/fonts/truetype/liberation/LiberationSerif-Bold.ttf', name='Liberation Serif', style='normal', variant='normal', weight=700, stretch='normal', size='scalable'),\n",
       " FontEntry(fname='/usr/share/fonts/truetype/lyx/cmmi10.ttf', name='cmmi10', style='normal', variant='normal', weight=400, stretch='normal', size='scalable'),\n",
       " FontEntry(fname='/usr/share/fonts/truetype/liberation/LiberationSans-Bold.ttf', name='Liberation Sans', style='normal', variant='normal', weight=700, stretch='normal', size='scalable'),\n",
       " FontEntry(fname='/usr/share/fonts/truetype/lyx/esint10.ttf', name='esint10', style='normal', variant='normal', weight=400, stretch='normal', size='scalable'),\n",
       " FontEntry(fname='/usr/share/fonts/truetype/liberation/LiberationSerif-Italic.ttf', name='Liberation Serif', style='italic', variant='normal', weight=400, stretch='normal', size='scalable'),\n",
       " FontEntry(fname='/usr/share/fonts/truetype/liberation/LiberationMono-Regular.ttf', name='Liberation Mono', style='normal', variant='normal', weight=400, stretch='normal', size='scalable'),\n",
       " FontEntry(fname='/usr/share/fonts/truetype/ttf-bitstream-vera/VeraMoBd.ttf', name='Bitstream Vera Sans Mono', style='normal', variant='normal', weight=700, stretch='normal', size='scalable'),\n",
       " FontEntry(fname='/usr/share/fonts/truetype/ttf-bitstream-vera/VeraBI.ttf', name='Bitstream Vera Sans', style='oblique', variant='normal', weight=700, stretch='normal', size='scalable'),\n",
       " FontEntry(fname='/usr/share/fonts/truetype/dejavu/DejaVuSansMono-Bold.ttf', name='DejaVu Sans Mono', style='normal', variant='normal', weight=700, stretch='normal', size='scalable'),\n",
       " FontEntry(fname='/usr/share/fonts/truetype/liberation/LiberationMono-Bold.ttf', name='Liberation Mono', style='normal', variant='normal', weight=700, stretch='normal', size='scalable'),\n",
       " FontEntry(fname='/usr/share/fonts/truetype/ttf-bitstream-vera/Vera.ttf', name='Bitstream Vera Sans', style='normal', variant='normal', weight=400, stretch='normal', size='scalable'),\n",
       " FontEntry(fname='/usr/share/fonts/truetype/ttf-bitstream-vera/VeraSeBd.ttf', name='Bitstream Vera Serif', style='normal', variant='normal', weight=700, stretch='normal', size='scalable'),\n",
       " FontEntry(fname='/usr/share/fonts/truetype/liberation/LiberationSansNarrow-Regular.ttf', name='Liberation Sans Narrow', style='normal', variant='normal', weight=400, stretch='condensed', size='scalable'),\n",
       " FontEntry(fname='/usr/share/fonts/truetype/lyx/wasy10.ttf', name='wasy10', style='normal', variant='normal', weight=400, stretch='normal', size='scalable'),\n",
       " FontEntry(fname='/usr/share/fonts/truetype/liberation/LiberationSansNarrow-Italic.ttf', name='Liberation Sans Narrow', style='italic', variant='normal', weight=400, stretch='condensed', size='scalable'),\n",
       " FontEntry(fname='/usr/share/fonts/truetype/lyx/eufm10.ttf', name='eufm10', style='normal', variant='normal', weight=400, stretch='normal', size='scalable'),\n",
       " FontEntry(fname='/usr/share/fonts/truetype/ttf-bitstream-vera/VeraMono.ttf', name='Bitstream Vera Sans Mono', style='normal', variant='normal', weight=400, stretch='normal', size='scalable'),\n",
       " FontEntry(fname='/home/Times_New_Roman.ttf', name='Times New Roman', style='normal', variant='normal', weight=400, stretch='normal', size='scalable')]"
      ]
     },
     "execution_count": 14,
     "metadata": {},
     "output_type": "execute_result"
    }
   ],
   "source": [
    "fm.fontManager.ttflist"
   ]
  },
  {
   "cell_type": "code",
   "execution_count": 15,
   "id": "08fb6063",
   "metadata": {
    "ExecuteTime": {
     "end_time": "2022-07-22T01:42:20.737904Z",
     "start_time": "2022-07-22T01:42:20.735428Z"
    }
   },
   "outputs": [],
   "source": [
    "plt.rcParams['font.family']='Times New Roman'\n",
    "mpl.rcParams['font.family'] = 'Times New Roman'\n",
    "TimesNewRoman = fm.FontProperties(fname='/mnt/c/time/times.ttf')"
   ]
  },
  {
   "cell_type": "code",
   "execution_count": 16,
   "id": "e689cdbd",
   "metadata": {
    "ExecuteTime": {
     "end_time": "2022-07-22T01:42:42.065260Z",
     "start_time": "2022-07-22T01:42:42.061253Z"
    }
   },
   "outputs": [],
   "source": [
    "font = {'family' : 'Times New Roman',\n",
    "    'weight' : 'bold',\n",
    "    'size'   : 12}\n",
    "plt.rc('font', **font)"
   ]
  },
  {
   "cell_type": "code",
   "execution_count": null,
   "id": "404a822b",
   "metadata": {},
   "outputs": [],
   "source": []
  },
  {
   "cell_type": "code",
   "execution_count": null,
   "id": "b4326784",
   "metadata": {},
   "outputs": [],
   "source": []
  },
  {
   "cell_type": "markdown",
   "id": "f49ed162",
   "metadata": {},
   "source": [
    "# 전체학습"
   ]
  },
  {
   "cell_type": "code",
   "execution_count": 8,
   "id": "ba0fe817",
   "metadata": {
    "ExecuteTime": {
     "end_time": "2022-07-22T01:40:58.055794Z",
     "start_time": "2022-07-22T01:40:48.246927Z"
    }
   },
   "outputs": [],
   "source": [
    "train_df = pd.concat([*train_ben_df_list, *train_mal_df_list])\n",
    "\n",
    "train_label=sum([ben_df.shape[0] for ben_df in train_ben_df_list]) *[1] + sum([mal_df.shape[0] for mal_df in train_mal_df_list])*[0]"
   ]
  },
  {
   "cell_type": "code",
   "execution_count": 9,
   "id": "120c7ff8",
   "metadata": {
    "ExecuteTime": {
     "end_time": "2022-07-22T01:40:58.753161Z",
     "start_time": "2022-07-22T01:40:58.746292Z"
    }
   },
   "outputs": [
    {
     "data": {
      "text/plain": [
       "(126000, 1848)"
      ]
     },
     "execution_count": 9,
     "metadata": {},
     "output_type": "execute_result"
    }
   ],
   "source": [
    "train_df.shape"
   ]
  },
  {
   "cell_type": "code",
   "execution_count": 17,
   "id": "4355688c",
   "metadata": {
    "ExecuteTime": {
     "end_time": "2022-07-22T01:43:50.863614Z",
     "start_time": "2022-07-22T01:42:46.745378Z"
    }
   },
   "outputs": [],
   "source": [
    "model1=RandomForestClassifier(random_state=42).fit(train_df, train_label)"
   ]
  },
  {
   "cell_type": "code",
   "execution_count": 18,
   "id": "71c85e13",
   "metadata": {
    "ExecuteTime": {
     "end_time": "2022-07-22T01:43:51.970067Z",
     "start_time": "2022-07-22T01:43:51.258066Z"
    }
   },
   "outputs": [],
   "source": [
    "score_list1=[]\n",
    "f1_list1=[]\n",
    "confusion_list1=[]\n",
    "for i, year in enumerate(years):\n",
    "    ben_df = ben_df_dict[year].iloc[-900:,1:]\n",
    "    mal_df = mal_df_dict[year].iloc[-100:,1:]\n",
    "    test_df = pd.concat([ben_df, mal_df])\n",
    "    test_label = len(ben_df)*[1]+ len(mal_df)*[0]\n",
    "    score_list1.append(model1.score(test_df, test_label))\n",
    "    y_pred = model1.predict(test_df)\n",
    "    f1_list1.append(f1_score(test_label, y_pred))\n",
    "    confusion_list1.append(confusion_matrix(test_label, y_pred))"
   ]
  },
  {
   "cell_type": "code",
   "execution_count": 19,
   "id": "ba17ab0a",
   "metadata": {
    "ExecuteTime": {
     "end_time": "2022-07-22T01:43:52.868511Z",
     "start_time": "2022-07-22T01:43:52.859227Z"
    }
   },
   "outputs": [],
   "source": [
    "def AUT(list_):\n",
    "    return sum([(list_[i] + list_[i+1])/2 for i, elm in enumerate(list_[:-1])])/(len(list_)-1)  \n",
    "def mean(list_):\n",
    "    return sum(list_)/len(list_)  "
   ]
  },
  {
   "cell_type": "code",
   "execution_count": 20,
   "id": "ecb7b452",
   "metadata": {
    "ExecuteTime": {
     "end_time": "2022-07-22T01:43:53.721304Z",
     "start_time": "2022-07-22T01:43:53.712305Z"
    }
   },
   "outputs": [
    {
     "data": {
      "text/plain": [
       "(0.9775833333333334, 0.977)"
      ]
     },
     "execution_count": 20,
     "metadata": {},
     "output_type": "execute_result"
    }
   ],
   "source": [
    "AUT(score_list1), mean(score_list1)"
   ]
  },
  {
   "cell_type": "code",
   "execution_count": 21,
   "id": "44772ce8",
   "metadata": {
    "ExecuteTime": {
     "end_time": "2022-07-22T01:43:54.571725Z",
     "start_time": "2022-07-22T01:43:54.560759Z"
    },
    "scrolled": true
   },
   "outputs": [
    {
     "data": {
      "text/plain": [
       "(0.9873816893319404, 0.9870521414455092)"
      ]
     },
     "execution_count": 21,
     "metadata": {},
     "output_type": "execute_result"
    }
   ],
   "source": [
    "AUT(f1_list1), mean(f1_list1)"
   ]
  },
  {
   "cell_type": "code",
   "execution_count": 22,
   "id": "0c5e34b0",
   "metadata": {
    "ExecuteTime": {
     "end_time": "2022-07-22T01:43:55.405784Z",
     "start_time": "2022-07-22T01:43:55.390153Z"
    }
   },
   "outputs": [
    {
     "data": {
      "text/html": [
       "<div>\n",
       "<style scoped>\n",
       "    .dataframe tbody tr th:only-of-type {\n",
       "        vertical-align: middle;\n",
       "    }\n",
       "\n",
       "    .dataframe tbody tr th {\n",
       "        vertical-align: top;\n",
       "    }\n",
       "\n",
       "    .dataframe thead th {\n",
       "        text-align: right;\n",
       "    }\n",
       "</style>\n",
       "<table border=\"1\" class=\"dataframe\">\n",
       "  <thead>\n",
       "    <tr style=\"text-align: right;\">\n",
       "      <th></th>\n",
       "      <th>year</th>\n",
       "      <th>accuracy</th>\n",
       "      <th>f1 score</th>\n",
       "    </tr>\n",
       "  </thead>\n",
       "  <tbody>\n",
       "    <tr>\n",
       "      <th>0</th>\n",
       "      <td>2014</td>\n",
       "      <td>0.974</td>\n",
       "      <td>0.985344</td>\n",
       "    </tr>\n",
       "    <tr>\n",
       "      <th>1</th>\n",
       "      <td>2015</td>\n",
       "      <td>0.985</td>\n",
       "      <td>0.991597</td>\n",
       "    </tr>\n",
       "    <tr>\n",
       "      <th>2</th>\n",
       "      <td>2016</td>\n",
       "      <td>0.985</td>\n",
       "      <td>0.991615</td>\n",
       "    </tr>\n",
       "    <tr>\n",
       "      <th>3</th>\n",
       "      <td>2017</td>\n",
       "      <td>0.993</td>\n",
       "      <td>0.996109</td>\n",
       "    </tr>\n",
       "    <tr>\n",
       "      <th>4</th>\n",
       "      <td>2018</td>\n",
       "      <td>0.962</td>\n",
       "      <td>0.978507</td>\n",
       "    </tr>\n",
       "    <tr>\n",
       "      <th>5</th>\n",
       "      <td>2019</td>\n",
       "      <td>0.967</td>\n",
       "      <td>0.981387</td>\n",
       "    </tr>\n",
       "    <tr>\n",
       "      <th>6</th>\n",
       "      <td>2020</td>\n",
       "      <td>0.973</td>\n",
       "      <td>0.984806</td>\n",
       "    </tr>\n",
       "  </tbody>\n",
       "</table>\n",
       "</div>"
      ],
      "text/plain": [
       "   year accuracy  f1 score\n",
       "0  2014    0.974  0.985344\n",
       "1  2015    0.985  0.991597\n",
       "2  2016    0.985  0.991615\n",
       "3  2017    0.993  0.996109\n",
       "4  2018    0.962  0.978507\n",
       "5  2019    0.967  0.981387\n",
       "6  2020    0.973  0.984806"
      ]
     },
     "execution_count": 22,
     "metadata": {},
     "output_type": "execute_result"
    }
   ],
   "source": [
    "df=pd.DataFrame([list(map(str, years)), score_list1, f1_list1]).T\n",
    "df.columns=['year','accuracy','f1 score']\n",
    "df"
   ]
  },
  {
   "cell_type": "code",
   "execution_count": 23,
   "id": "1edc7c3a",
   "metadata": {
    "ExecuteTime": {
     "end_time": "2022-07-22T01:43:56.463819Z",
     "start_time": "2022-07-22T01:43:56.220576Z"
    }
   },
   "outputs": [
    {
     "data": {
      "image/png": "[encoded data removed]",
      "text/plain": [
       "<Figure size 432x288 with 1 Axes>"
      ]
     },
     "metadata": {
      "needs_background": "light"
     },
     "output_type": "display_data"
    }
   ],
   "source": [
    "if not os.path.isdir('./visual'):\n",
    "    os.mkdir('./visual')\n",
    "\n",
    "x = np.arange(len(years))\n",
    "plt.bar(x , score_list1, label=\"acc\", width=0.3, color='b')\n",
    "plt.bar(x+0.3 , f1_list1, label=\"f1\", width=0.3, color='r')\n",
    "\n",
    "# for i, year in enumerate(years[2:]):\n",
    "    \n",
    "    \n",
    "plt.xticks(x, years)\n",
    "\n",
    "\n",
    "plt.title('<model 1> acc and f1')\n",
    "plt.legend()\n",
    "plt.savefig(f\"./visual/model1_acc_f1.png\")\n",
    "plt.show()"
   ]
  },
  {
   "cell_type": "code",
   "execution_count": 24,
   "id": "4c347095",
   "metadata": {
    "ExecuteTime": {
     "end_time": "2022-07-22T01:43:57.323753Z",
     "start_time": "2022-07-22T01:43:57.314133Z"
    }
   },
   "outputs": [],
   "source": [
    "# plt.rc('font', size=28)"
   ]
  },
  {
   "cell_type": "code",
   "execution_count": 27,
   "id": "11d11743",
   "metadata": {
    "ExecuteTime": {
     "end_time": "2022-07-22T01:44:47.344714Z",
     "start_time": "2022-07-22T01:44:46.166916Z"
    },
    "scrolled": true
   },
   "outputs": [
    {
     "data": {
      "image/png": "[encoded data removed]",
      "text/plain": [
       "<Figure size 144x144 with 1 Axes>"
      ]
     },
     "metadata": {
      "needs_background": "light"
     },
     "output_type": "display_data"
    },
    {
     "data": {
      "image/png": "[encoded data removed]",
      "text/plain": [
       "<Figure size 144x144 with 1 Axes>"
      ]
     },
     "metadata": {
      "needs_background": "light"
     },
     "output_type": "display_data"
    },
    {
     "data": {
      "image/png": "[encoded data removed]",
      "text/plain": [
       "<Figure size 144x144 with 1 Axes>"
      ]
     },
     "metadata": {
      "needs_background": "light"
     },
     "output_type": "display_data"
    },
    {
     "data": {
      "image/png": "[encoded data removed]",
      "text/plain": [
       "<Figure size 144x144 with 1 Axes>"
      ]
     },
     "metadata": {
      "needs_background": "light"
     },
     "output_type": "display_data"
    },
    {
     "data": {
      "image/png": "[encoded data removed]",
      "text/plain": [
       "<Figure size 144x144 with 1 Axes>"
      ]
     },
     "metadata": {
      "needs_background": "light"
     },
     "output_type": "display_data"
    },
    {
     "data": {
      "image/png": "[encoded data removed]",
      "text/plain": [
       "<Figure size 144x144 with 1 Axes>"
      ]
     },
     "metadata": {
      "needs_background": "light"
     },
     "output_type": "display_data"
    },
    {
     "data": {
      "image/png": "[encoded data removed]",
      "text/plain": [
       "<Figure size 144x144 with 1 Axes>"
      ]
     },
     "metadata": {
      "needs_background": "light"
     },
     "output_type": "display_data"
    }
   ],
   "source": [
    "for i, cm in enumerate(confusion_list1):\n",
    "    disp = ConfusionMatrixDisplay(cm, display_labels=['mal','ben'])\n",
    "    fig,ax=plt.subplots(figsize=(2,2))\n",
    "    disp.plot(cmap='Greys', colorbar=False, ax=ax)\n",
    "    plt.title(f'{years[i]}')\n",
    "    plt.savefig(f\"./visual/model1_Confusion_matrix_{years[i]}.png\" ,bbox_inches='tight', dpi=500)"
   ]
  },
  {
   "cell_type": "code",
   "execution_count": null,
   "id": "8fc92f0b",
   "metadata": {},
   "outputs": [],
   "source": []
  },
  {
   "cell_type": "markdown",
   "id": "32535285",
   "metadata": {},
   "source": [
    "# 일반 학습"
   ]
  },
  {
   "cell_type": "code",
   "execution_count": 28,
   "id": "d1d9599c",
   "metadata": {
    "ExecuteTime": {
     "end_time": "2022-07-22T01:45:32.754095Z",
     "start_time": "2022-07-22T01:44:52.988356Z"
    }
   },
   "outputs": [],
   "source": [
    "model2=RandomForestClassifier(random_state=42)\n",
    "for i in range(len(train_ben_df_list)):\n",
    "    train_df_per = pd.concat([train_ben_df_list[i], train_mal_df_list[i]])\n",
    "    model2.fit(train_df_per, train_label_per)"
   ]
  },
  {
   "cell_type": "code",
   "execution_count": 29,
   "id": "1afa1a68",
   "metadata": {
    "ExecuteTime": {
     "end_time": "2022-07-22T01:45:33.749401Z",
     "start_time": "2022-07-22T01:45:33.321571Z"
    }
   },
   "outputs": [],
   "source": [
    "score_list2=[]\n",
    "f1_list2=[]\n",
    "confusion_list2=[]\n",
    "for i, year in enumerate(years):\n",
    "    ben_df = ben_df_dict[year].iloc[-900:,1:]\n",
    "    mal_df = mal_df_dict[year].iloc[-100:,1:]\n",
    "    test_df = pd.concat([ben_df, mal_df])\n",
    "    test_label = len(ben_df)*[1]+ len(mal_df)*[0]\n",
    "    score_list2.append(model2.score(test_df, test_label))\n",
    "    y_pred = model2.predict(test_df)\n",
    "    f1_list2.append(f1_score(test_label, y_pred))\n",
    "    confusion_list2.append(confusion_matrix(test_label, y_pred))"
   ]
  },
  {
   "cell_type": "code",
   "execution_count": 30,
   "id": "2732f305",
   "metadata": {
    "ExecuteTime": {
     "end_time": "2022-07-22T01:45:34.435485Z",
     "start_time": "2022-07-22T01:45:34.428465Z"
    }
   },
   "outputs": [
    {
     "data": {
      "text/html": [
       "<div>\n",
       "<style scoped>\n",
       "    .dataframe tbody tr th:only-of-type {\n",
       "        vertical-align: middle;\n",
       "    }\n",
       "\n",
       "    .dataframe tbody tr th {\n",
       "        vertical-align: top;\n",
       "    }\n",
       "\n",
       "    .dataframe thead th {\n",
       "        text-align: right;\n",
       "    }\n",
       "</style>\n",
       "<table border=\"1\" class=\"dataframe\">\n",
       "  <thead>\n",
       "    <tr style=\"text-align: right;\">\n",
       "      <th></th>\n",
       "      <th>year</th>\n",
       "      <th>accuracy</th>\n",
       "      <th>f1 score</th>\n",
       "    </tr>\n",
       "  </thead>\n",
       "  <tbody>\n",
       "    <tr>\n",
       "      <th>0</th>\n",
       "      <td>2014</td>\n",
       "      <td>0.902</td>\n",
       "      <td>0.948258</td>\n",
       "    </tr>\n",
       "    <tr>\n",
       "      <th>1</th>\n",
       "      <td>2015</td>\n",
       "      <td>0.898</td>\n",
       "      <td>0.946089</td>\n",
       "    </tr>\n",
       "    <tr>\n",
       "      <th>2</th>\n",
       "      <td>2016</td>\n",
       "      <td>0.914</td>\n",
       "      <td>0.954109</td>\n",
       "    </tr>\n",
       "    <tr>\n",
       "      <th>3</th>\n",
       "      <td>2017</td>\n",
       "      <td>0.946</td>\n",
       "      <td>0.970874</td>\n",
       "    </tr>\n",
       "    <tr>\n",
       "      <th>4</th>\n",
       "      <td>2018</td>\n",
       "      <td>0.942</td>\n",
       "      <td>0.968026</td>\n",
       "    </tr>\n",
       "    <tr>\n",
       "      <th>5</th>\n",
       "      <td>2019</td>\n",
       "      <td>0.972</td>\n",
       "      <td>0.984615</td>\n",
       "    </tr>\n",
       "    <tr>\n",
       "      <th>6</th>\n",
       "      <td>2020</td>\n",
       "      <td>0.983</td>\n",
       "      <td>0.990497</td>\n",
       "    </tr>\n",
       "  </tbody>\n",
       "</table>\n",
       "</div>"
      ],
      "text/plain": [
       "   year accuracy  f1 score\n",
       "0  2014    0.902  0.948258\n",
       "1  2015    0.898  0.946089\n",
       "2  2016    0.914  0.954109\n",
       "3  2017    0.946  0.970874\n",
       "4  2018    0.942  0.968026\n",
       "5  2019    0.972  0.984615\n",
       "6  2020    0.983  0.990497"
      ]
     },
     "execution_count": 30,
     "metadata": {},
     "output_type": "execute_result"
    }
   ],
   "source": [
    "df=pd.DataFrame([list(map(str, years)), score_list2, f1_list2]).T\n",
    "df.columns=['year','accuracy','f1 score']\n",
    "df"
   ]
  },
  {
   "cell_type": "code",
   "execution_count": 31,
   "id": "abf40606",
   "metadata": {
    "ExecuteTime": {
     "end_time": "2022-07-22T01:45:34.949163Z",
     "start_time": "2022-07-22T01:45:34.945959Z"
    }
   },
   "outputs": [
    {
     "data": {
      "text/plain": [
       "(0.93575, 0.9367142857142856)"
      ]
     },
     "execution_count": 31,
     "metadata": {},
     "output_type": "execute_result"
    }
   ],
   "source": [
    "AUT(score_list2), mean(score_list2)"
   ]
  },
  {
   "cell_type": "code",
   "execution_count": 32,
   "id": "0aa0937d",
   "metadata": {
    "ExecuteTime": {
     "end_time": "2022-07-22T01:45:35.490488Z",
     "start_time": "2022-07-22T01:45:35.486993Z"
    },
    "scrolled": true
   },
   "outputs": [
    {
     "data": {
      "text/plain": [
       "(0.9655151425097358, 0.9660669178928664)"
      ]
     },
     "execution_count": 32,
     "metadata": {},
     "output_type": "execute_result"
    }
   ],
   "source": [
    "AUT(f1_list2), mean(f1_list2)"
   ]
  },
  {
   "cell_type": "code",
   "execution_count": 33,
   "id": "aa9170ef",
   "metadata": {
    "ExecuteTime": {
     "end_time": "2022-07-22T01:45:36.126768Z",
     "start_time": "2022-07-22T01:45:35.984320Z"
    }
   },
   "outputs": [
    {
     "data": {
      "image/png": "[encoded data removed]",
      "text/plain": [
       "<Figure size 432x288 with 1 Axes>"
      ]
     },
     "metadata": {
      "needs_background": "light"
     },
     "output_type": "display_data"
    }
   ],
   "source": [
    "if not os.path.isdir('./visual'):\n",
    "    os.mkdir('./visual')\n",
    "\n",
    "x = np.arange(len(years))\n",
    "plt.bar(x , score_list2, label=\"acc\", width=0.3, color='b')\n",
    "plt.bar(x+0.3 , f1_list2, label=\"f1\", width=0.3, color='r')\n",
    "\n",
    "# for i, year in enumerate(years[2:]):\n",
    "    \n",
    "    \n",
    "plt.xticks(x, years)\n",
    "\n",
    "\n",
    "plt.title('<model 2> acc and f1')\n",
    "plt.legend()\n",
    "plt.savefig(f\"./visual/model2_acc_f1.png\")\n",
    "plt.show()"
   ]
  },
  {
   "cell_type": "code",
   "execution_count": 34,
   "id": "59835357",
   "metadata": {
    "ExecuteTime": {
     "end_time": "2022-07-22T01:45:39.976911Z",
     "start_time": "2022-07-22T01:45:36.657807Z"
    },
    "scrolled": true
   },
   "outputs": [
    {
     "data": {
      "image/png": "[encoded data removed]",
      "text/plain": [
       "<Figure size 432x288 with 1 Axes>"
      ]
     },
     "metadata": {
      "needs_background": "light"
     },
     "output_type": "display_data"
    },
    {
     "data": {
      "image/png": "[encoded data removed]",
      "text/plain": [
       "<Figure size 432x288 with 1 Axes>"
      ]
     },
     "metadata": {
      "needs_background": "light"
     },
     "output_type": "display_data"
    },
    {
     "data": {
      "image/png": "[encoded data removed]",
      "text/plain": [
       "<Figure size 432x288 with 1 Axes>"
      ]
     },
     "metadata": {
      "needs_background": "light"
     },
     "output_type": "display_data"
    },
    {
     "data": {
      "image/png": "[encoded data removed]",
      "text/plain": [
       "<Figure size 432x288 with 1 Axes>"
      ]
     },
     "metadata": {
      "needs_background": "light"
     },
     "output_type": "display_data"
    },
    {
     "data": {
      "image/png": "[encoded data removed]",
      "text/plain": [
       "<Figure size 432x288 with 1 Axes>"
      ]
     },
     "metadata": {
      "needs_background": "light"
     },
     "output_type": "display_data"
    },
    {
     "data": {
      "image/png": "[encoded data removed]",
      "text/plain": [
       "<Figure size 432x288 with 1 Axes>"
      ]
     },
     "metadata": {
      "needs_background": "light"
     },
     "output_type": "display_data"
    },
    {
     "data": {
      "image/png": "[encoded data removed]",
      "text/plain": [
       "<Figure size 432x288 with 1 Axes>"
      ]
     },
     "metadata": {
      "needs_background": "light"
     },
     "output_type": "display_data"
    }
   ],
   "source": [
    "for i, cm in enumerate(confusion_list2):\n",
    "    disp = ConfusionMatrixDisplay(cm, display_labels=['mal','ben'])\n",
    "    disp.plot(cmap='Greys', colorbar=False)\n",
    "    plt.title(f'Confusion matrix\\n of the {years[i]}')\n",
    "    plt.savefig(f\"./visual/model2_Confusion_matrix_{years[i]}.png\" ,bbox_inches='tight', dpi=500)"
   ]
  },
  {
   "cell_type": "markdown",
   "id": "9cf72855",
   "metadata": {},
   "source": [
    "# 점진적 학습"
   ]
  },
  {
   "cell_type": "code",
   "execution_count": 35,
   "id": "676d88f8",
   "metadata": {
    "ExecuteTime": {
     "end_time": "2022-07-22T01:46:19.953672Z",
     "start_time": "2022-07-22T01:45:40.874260Z"
    }
   },
   "outputs": [],
   "source": [
    "model3=RandomForestClassifier(random_state=42, warm_start=True)\n",
    "for i in range(len(train_ben_df_list)):\n",
    "    train_df_per = pd.concat([train_ben_df_list[i], train_mal_df_list[i]])\n",
    "    model3.fit(train_df_per, train_label_per)\n",
    "    model3.n_estimators += 100"
   ]
  },
  {
   "cell_type": "code",
   "execution_count": 36,
   "id": "c902c462",
   "metadata": {
    "ExecuteTime": {
     "end_time": "2022-07-22T01:46:22.517015Z",
     "start_time": "2022-07-22T01:46:20.542034Z"
    }
   },
   "outputs": [],
   "source": [
    "score_list3=[]\n",
    "f1_list3=[]\n",
    "confusion_list3=[]\n",
    "for i, year in enumerate(years):\n",
    "    ben_df = ben_df_dict[year].iloc[-900:,1:]\n",
    "    mal_df = mal_df_dict[year].iloc[-100:,1:]\n",
    "    test_df = pd.concat([ben_df, mal_df])\n",
    "    test_label = len(ben_df)*[1]+ len(mal_df)*[0]\n",
    "    score_list3.append(model3.score(test_df, test_label))\n",
    "    y_pred = model3.predict(test_df)\n",
    "    f1_list3.append(f1_score(test_label, y_pred))\n",
    "    confusion_list3.append(confusion_matrix(test_label, y_pred))"
   ]
  },
  {
   "cell_type": "code",
   "execution_count": 37,
   "id": "b3950ad1",
   "metadata": {
    "ExecuteTime": {
     "end_time": "2022-07-22T01:46:23.689316Z",
     "start_time": "2022-07-22T01:46:23.676759Z"
    }
   },
   "outputs": [
    {
     "data": {
      "text/html": [
       "<div>\n",
       "<style scoped>\n",
       "    .dataframe tbody tr th:only-of-type {\n",
       "        vertical-align: middle;\n",
       "    }\n",
       "\n",
       "    .dataframe tbody tr th {\n",
       "        vertical-align: top;\n",
       "    }\n",
       "\n",
       "    .dataframe thead th {\n",
       "        text-align: right;\n",
       "    }\n",
       "</style>\n",
       "<table border=\"1\" class=\"dataframe\">\n",
       "  <thead>\n",
       "    <tr style=\"text-align: right;\">\n",
       "      <th></th>\n",
       "      <th>year</th>\n",
       "      <th>accuracy</th>\n",
       "      <th>f1 score</th>\n",
       "    </tr>\n",
       "  </thead>\n",
       "  <tbody>\n",
       "    <tr>\n",
       "      <th>0</th>\n",
       "      <td>2014</td>\n",
       "      <td>0.977</td>\n",
       "      <td>0.987328</td>\n",
       "    </tr>\n",
       "    <tr>\n",
       "      <th>1</th>\n",
       "      <td>2015</td>\n",
       "      <td>0.956</td>\n",
       "      <td>0.975877</td>\n",
       "    </tr>\n",
       "    <tr>\n",
       "      <th>2</th>\n",
       "      <td>2016</td>\n",
       "      <td>0.967</td>\n",
       "      <td>0.981818</td>\n",
       "    </tr>\n",
       "    <tr>\n",
       "      <th>3</th>\n",
       "      <td>2017</td>\n",
       "      <td>0.988</td>\n",
       "      <td>0.993377</td>\n",
       "    </tr>\n",
       "    <tr>\n",
       "      <th>4</th>\n",
       "      <td>2018</td>\n",
       "      <td>0.968</td>\n",
       "      <td>0.982022</td>\n",
       "    </tr>\n",
       "    <tr>\n",
       "      <th>5</th>\n",
       "      <td>2019</td>\n",
       "      <td>0.483</td>\n",
       "      <td>0.598291</td>\n",
       "    </tr>\n",
       "    <tr>\n",
       "      <th>6</th>\n",
       "      <td>2020</td>\n",
       "      <td>0.509</td>\n",
       "      <td>0.624905</td>\n",
       "    </tr>\n",
       "  </tbody>\n",
       "</table>\n",
       "</div>"
      ],
      "text/plain": [
       "   year accuracy  f1 score\n",
       "0  2014    0.977  0.987328\n",
       "1  2015    0.956  0.975877\n",
       "2  2016    0.967  0.981818\n",
       "3  2017    0.988  0.993377\n",
       "4  2018    0.968  0.982022\n",
       "5  2019    0.483  0.598291\n",
       "6  2020    0.509  0.624905"
      ]
     },
     "execution_count": 37,
     "metadata": {},
     "output_type": "execute_result"
    }
   ],
   "source": [
    "df=pd.DataFrame([list(map(str, years)), score_list3, f1_list3]).T\n",
    "df.columns=['year','accuracy','f1 score']\n",
    "df"
   ]
  },
  {
   "cell_type": "code",
   "execution_count": 38,
   "id": "a39e6460",
   "metadata": {
    "ExecuteTime": {
     "end_time": "2022-07-22T01:46:24.584065Z",
     "start_time": "2022-07-22T01:46:24.577798Z"
    }
   },
   "outputs": [
    {
     "data": {
      "text/plain": [
       "(0.8508333333333334, 0.8354285714285714)"
      ]
     },
     "execution_count": 38,
     "metadata": {},
     "output_type": "execute_result"
    }
   ],
   "source": [
    "AUT(score_list3), mean(score_list3)"
   ]
  },
  {
   "cell_type": "code",
   "execution_count": 39,
   "id": "4b714518",
   "metadata": {
    "ExecuteTime": {
     "end_time": "2022-07-22T01:46:25.483144Z",
     "start_time": "2022-07-22T01:46:25.473196Z"
    },
    "scrolled": true
   },
   "outputs": [
    {
     "data": {
      "text/plain": [
       "(0.8895836823199187, 0.8776597513419951)"
      ]
     },
     "execution_count": 39,
     "metadata": {},
     "output_type": "execute_result"
    }
   ],
   "source": [
    "AUT(f1_list3), mean(f1_list3)"
   ]
  },
  {
   "cell_type": "code",
   "execution_count": 40,
   "id": "5130e9b0",
   "metadata": {
    "ExecuteTime": {
     "end_time": "2022-07-22T01:46:26.568487Z",
     "start_time": "2022-07-22T01:46:26.360397Z"
    }
   },
   "outputs": [
    {
     "data": {
      "image/png": "[encoded data removed]",
      "text/plain": [
       "<Figure size 432x288 with 1 Axes>"
      ]
     },
     "metadata": {
      "needs_background": "light"
     },
     "output_type": "display_data"
    }
   ],
   "source": [
    "if not os.path.isdir('./visual'):\n",
    "    os.mkdir('./visual')\n",
    "\n",
    "x = np.arange(len(years))\n",
    "plt.bar(x , score_list3, label=\"acc\", width=0.3, color='b')\n",
    "plt.bar(x+0.3 , f1_list3, label=\"f1\", width=0.3, color='r')\n",
    "\n",
    "# for i, year in enumerate(years[2:]):\n",
    "    \n",
    "    \n",
    "plt.xticks(x, years)\n",
    "\n",
    "\n",
    "plt.title('<model 3> acc and f1')\n",
    "plt.legend()\n",
    "plt.savefig(f\"./visual/model3_acc_f1.png\")\n",
    "plt.show()"
   ]
  },
  {
   "cell_type": "code",
   "execution_count": 41,
   "id": "052a00b5",
   "metadata": {
    "ExecuteTime": {
     "end_time": "2022-07-22T01:46:28.853235Z",
     "start_time": "2022-07-22T01:46:27.442246Z"
    },
    "scrolled": true
   },
   "outputs": [
    {
     "data": {
      "image/png": "[encoded data removed]",
      "text/plain": [
       "<Figure size 144x144 with 1 Axes>"
      ]
     },
     "metadata": {
      "needs_background": "light"
     },
     "output_type": "display_data"
    },
    {
     "data": {
      "image/png": "[encoded data removed]",
      "text/plain": [
       "<Figure size 144x144 with 1 Axes>"
      ]
     },
     "metadata": {
      "needs_background": "light"
     },
     "output_type": "display_data"
    },
    {
     "data": {
      "image/png": "[encoded data removed]",
      "text/plain": [
       "<Figure size 144x144 with 1 Axes>"
      ]
     },
     "metadata": {
      "needs_background": "light"
     },
     "output_type": "display_data"
    },
    {
     "data": {
      "image/png": "[encoded data removed]",
      "text/plain": [
       "<Figure size 144x144 with 1 Axes>"
      ]
     },
     "metadata": {
      "needs_background": "light"
     },
     "output_type": "display_data"
    },
    {
     "data": {
      "image/png": "[encoded data removed]",
      "text/plain": [
       "<Figure size 144x144 with 1 Axes>"
      ]
     },
     "metadata": {
      "needs_background": "light"
     },
     "output_type": "display_data"
    },
    {
     "data": {
      "image/png": "[encoded data removed]",
      "text/plain": [
       "<Figure size 144x144 with 1 Axes>"
      ]
     },
     "metadata": {
      "needs_background": "light"
     },
     "output_type": "display_data"
    },
    {
     "data": {
      "image/png": "[encoded data removed]",
      "text/plain": [
       "<Figure size 144x144 with 1 Axes>"
      ]
     },
     "metadata": {
      "needs_background": "light"
     },
     "output_type": "display_data"
    }
   ],
   "source": [
    "font = {'family' : 'Times New Roman',\n",
    "    'weight' : 'bold',\n",
    "    'size'   : 12}\n",
    "plt.rc('font', **font)\n",
    "\n",
    "\n",
    "for i, cm in enumerate(confusion_list3):\n",
    "    disp = ConfusionMatrixDisplay(cm, display_labels=['mal','ben'])\n",
    "    fig,ax=plt.subplots(figsize=(2,2))\n",
    "    disp.plot(cmap='Greys', colorbar=False, ax=ax)\n",
    "    plt.title(f'{years[i]}')\n",
    "    plt.savefig(f\"./visual/model3_Confusion_matrix_{years[i]}.png\" ,bbox_inches='tight', dpi=500)"
   ]
  },
  {
   "cell_type": "markdown",
   "id": "c685b807",
   "metadata": {},
   "source": [
    "# 점진적 학습 2"
   ]
  },
  {
   "cell_type": "code",
   "execution_count": 32,
   "id": "2e0e3685",
   "metadata": {
    "ExecuteTime": {
     "end_time": "2022-07-13T04:57:28.515535Z",
     "start_time": "2022-07-13T04:57:28.511897Z"
    }
   },
   "outputs": [
    {
     "data": {
      "text/plain": [
       "14"
      ]
     },
     "execution_count": 32,
     "metadata": {},
     "output_type": "execute_result"
    }
   ],
   "source": [
    "100//7"
   ]
  },
  {
   "cell_type": "code",
   "execution_count": 33,
   "id": "8e3e3c90",
   "metadata": {
    "ExecuteTime": {
     "end_time": "2022-07-13T04:57:35.886254Z",
     "start_time": "2022-07-13T04:57:28.517090Z"
    }
   },
   "outputs": [],
   "source": [
    "model4=RandomForestClassifier(random_state=42, warm_start=True)\n",
    "model4.n_estimators = 100//7+2\n",
    "for i in range(len(train_ben_df_list)):\n",
    "    train_df_per = pd.concat([train_ben_df_list[i], train_mal_df_list[i]])\n",
    "    model4.fit(train_df_per, train_label_per)\n",
    "    model4.n_estimators += 100//7"
   ]
  },
  {
   "cell_type": "code",
   "execution_count": 34,
   "id": "f6976df6",
   "metadata": {
    "ExecuteTime": {
     "end_time": "2022-07-13T04:57:36.316915Z",
     "start_time": "2022-07-13T04:57:35.887244Z"
    }
   },
   "outputs": [],
   "source": [
    "score_list4=[]\n",
    "f1_list4=[]\n",
    "confusion_list4=[]\n",
    "for i, year in enumerate(years):\n",
    "    ben_df = ben_df_dict[year].iloc[-900:,1:]\n",
    "    mal_df = mal_df_dict[year].iloc[-100:,1:]\n",
    "    test_df = pd.concat([ben_df, mal_df])\n",
    "    test_label = len(ben_df)*[1]+ len(mal_df)*[0]\n",
    "    score_list4.append(model4.score(test_df, test_label))\n",
    "    y_pred = model4.predict(test_df)\n",
    "    f1_list4.append(f1_score(test_label, y_pred))\n",
    "    confusion_list4.append(confusion_matrix(test_label, y_pred))"
   ]
  },
  {
   "cell_type": "code",
   "execution_count": 35,
   "id": "9089c24f",
   "metadata": {
    "ExecuteTime": {
     "end_time": "2022-07-13T04:57:36.324600Z",
     "start_time": "2022-07-13T04:57:36.317932Z"
    }
   },
   "outputs": [
    {
     "data": {
      "text/html": [
       "<div>\n",
       "<style scoped>\n",
       "    .dataframe tbody tr th:only-of-type {\n",
       "        vertical-align: middle;\n",
       "    }\n",
       "\n",
       "    .dataframe tbody tr th {\n",
       "        vertical-align: top;\n",
       "    }\n",
       "\n",
       "    .dataframe thead th {\n",
       "        text-align: right;\n",
       "    }\n",
       "</style>\n",
       "<table border=\"1\" class=\"dataframe\">\n",
       "  <thead>\n",
       "    <tr style=\"text-align: right;\">\n",
       "      <th></th>\n",
       "      <th>year</th>\n",
       "      <th>accuracy</th>\n",
       "      <th>f1 score</th>\n",
       "    </tr>\n",
       "  </thead>\n",
       "  <tbody>\n",
       "    <tr>\n",
       "      <th>0</th>\n",
       "      <td>2014</td>\n",
       "      <td>0.977</td>\n",
       "      <td>0.987328</td>\n",
       "    </tr>\n",
       "    <tr>\n",
       "      <th>1</th>\n",
       "      <td>2015</td>\n",
       "      <td>0.966</td>\n",
       "      <td>0.981257</td>\n",
       "    </tr>\n",
       "    <tr>\n",
       "      <th>2</th>\n",
       "      <td>2016</td>\n",
       "      <td>0.974</td>\n",
       "      <td>0.985619</td>\n",
       "    </tr>\n",
       "    <tr>\n",
       "      <th>3</th>\n",
       "      <td>2017</td>\n",
       "      <td>0.992</td>\n",
       "      <td>0.995575</td>\n",
       "    </tr>\n",
       "    <tr>\n",
       "      <th>4</th>\n",
       "      <td>2018</td>\n",
       "      <td>0.967</td>\n",
       "      <td>0.981471</td>\n",
       "    </tr>\n",
       "    <tr>\n",
       "      <th>5</th>\n",
       "      <td>2019</td>\n",
       "      <td>0.508</td>\n",
       "      <td>0.624427</td>\n",
       "    </tr>\n",
       "    <tr>\n",
       "      <th>6</th>\n",
       "      <td>2020</td>\n",
       "      <td>0.542</td>\n",
       "      <td>0.658718</td>\n",
       "    </tr>\n",
       "  </tbody>\n",
       "</table>\n",
       "</div>"
      ],
      "text/plain": [
       "   year accuracy  f1 score\n",
       "0  2014    0.977  0.987328\n",
       "1  2015    0.966  0.981257\n",
       "2  2016    0.974  0.985619\n",
       "3  2017    0.992  0.995575\n",
       "4  2018    0.967  0.981471\n",
       "5  2019    0.508  0.624427\n",
       "6  2020    0.542  0.658718"
      ]
     },
     "execution_count": 35,
     "metadata": {},
     "output_type": "execute_result"
    }
   ],
   "source": [
    "df=pd.DataFrame([list(map(str, years)), score_list4, f1_list4]).T\n",
    "df.columns=['year','accuracy','f1 score']\n",
    "df"
   ]
  },
  {
   "cell_type": "code",
   "execution_count": 36,
   "id": "24caf18b",
   "metadata": {
    "ExecuteTime": {
     "end_time": "2022-07-13T04:57:36.329675Z",
     "start_time": "2022-07-13T04:57:36.326548Z"
    }
   },
   "outputs": [
    {
     "data": {
      "text/plain": [
       "(0.8610833333333333, 0.8465714285714284)"
      ]
     },
     "execution_count": 36,
     "metadata": {},
     "output_type": "execute_result"
    }
   ],
   "source": [
    "AUT(score_list4), mean(score_list4)"
   ]
  },
  {
   "cell_type": "code",
   "execution_count": 37,
   "id": "5aa2dd4b",
   "metadata": {
    "ExecuteTime": {
     "end_time": "2022-07-13T04:57:36.334669Z",
     "start_time": "2022-07-13T04:57:36.331030Z"
    },
    "scrolled": true
   },
   "outputs": [
    {
     "data": {
      "text/plain": [
       "(0.8985622038269674, 0.8877709000331819)"
      ]
     },
     "execution_count": 37,
     "metadata": {},
     "output_type": "execute_result"
    }
   ],
   "source": [
    "AUT(f1_list4), mean(f1_list4)"
   ]
  },
  {
   "cell_type": "code",
   "execution_count": 38,
   "id": "7a2dbc04",
   "metadata": {
    "ExecuteTime": {
     "end_time": "2022-07-13T04:57:36.479386Z",
     "start_time": "2022-07-13T04:57:36.335853Z"
    }
   },
   "outputs": [
    {
     "data": {
      "image/png": "[encoded data removed]",
      "text/plain": [
       "<Figure size 432x288 with 1 Axes>"
      ]
     },
     "metadata": {
      "needs_background": "light"
     },
     "output_type": "display_data"
    }
   ],
   "source": [
    "if not os.path.isdir('./visual'):\n",
    "    os.mkdir('./visual')\n",
    "\n",
    "x = np.arange(len(years))\n",
    "plt.bar(x , score_list3, label=\"acc\", width=0.3, color='b')\n",
    "plt.bar(x+0.3 , f1_list3, label=\"f1\", width=0.3, color='r')\n",
    "\n",
    "# for i, year in enumerate(years[2:]):\n",
    "    \n",
    "    \n",
    "plt.xticks(x, years)\n",
    "\n",
    "\n",
    "plt.title('<model 3> acc and f1')\n",
    "plt.legend()\n",
    "plt.savefig(f\"./visual/model3_acc_f1.png\")\n",
    "plt.show()"
   ]
  },
  {
   "cell_type": "code",
   "execution_count": 79,
   "id": "f7331bd8",
   "metadata": {
    "ExecuteTime": {
     "end_time": "2022-07-13T06:41:25.014750Z",
     "start_time": "2022-07-13T06:41:24.666291Z"
    },
    "scrolled": true
   },
   "outputs": [
    {
     "data": {
      "image/png": "[encoded data removed]",
      "text/plain": [
       "<Figure size 432x288 with 1 Axes>"
      ]
     },
     "metadata": {
      "needs_background": "light"
     },
     "output_type": "display_data"
    },
    {
     "data": {
      "image/png": "[encoded data removed]",
      "text/plain": [
       "<Figure size 432x288 with 1 Axes>"
      ]
     },
     "metadata": {
      "needs_background": "light"
     },
     "output_type": "display_data"
    },
    {
     "data": {
      "image/png": "[encoded data removed]",
      "text/plain": [
       "<Figure size 432x288 with 1 Axes>"
      ]
     },
     "metadata": {
      "needs_background": "light"
     },
     "output_type": "display_data"
    },
    {
     "data": {
      "image/png": "[encoded data removed]",
      "text/plain": [
       "<Figure size 432x288 with 1 Axes>"
      ]
     },
     "metadata": {
      "needs_background": "light"
     },
     "output_type": "display_data"
    },
    {
     "data": {
      "image/png": "[encoded data removed]",
      "text/plain": [
       "<Figure size 432x288 with 1 Axes>"
      ]
     },
     "metadata": {
      "needs_background": "light"
     },
     "output_type": "display_data"
    },
    {
     "data": {
      "image/png": "[encoded data removed]",
      "text/plain": [
       "<Figure size 432x288 with 1 Axes>"
      ]
     },
     "metadata": {
      "needs_background": "light"
     },
     "output_type": "display_data"
    },
    {
     "data": {
      "image/png": "[encoded data removed]",
      "text/plain": [
       "<Figure size 432x288 with 1 Axes>"
      ]
     },
     "metadata": {
      "needs_background": "light"
     },
     "output_type": "display_data"
    }
   ],
   "source": [
    "for i, cm in enumerate(confusion_list4):\n",
    "    disp = ConfusionMatrixDisplay(cm, display_labels=['mal','ben'])\n",
    "    disp.plot(cmap='Greys', colorbar=False)\n",
    "    plt.title(f'Confusion matrix of the {years[i]}')"
   ]
  },
  {
   "cell_type": "markdown",
   "id": "d4b46efa",
   "metadata": {},
   "source": [
    "# 결과"
   ]
  },
  {
   "cell_type": "code",
   "execution_count": 80,
   "id": "583cb44e",
   "metadata": {
    "ExecuteTime": {
     "end_time": "2022-07-13T11:30:53.838583Z",
     "start_time": "2022-07-13T11:30:53.836347Z"
    }
   },
   "outputs": [],
   "source": [
    "score_list = [\n",
    "0.9933,\n",
    "0.9933,\n",
    "0.9896,\n",
    "0.9625,\n",
    "0.9643,\n",
    "0.302,\n",
    "0.2466\n",
    "]"
   ]
  },
  {
   "cell_type": "code",
   "execution_count": 81,
   "id": "85d1f26f",
   "metadata": {
    "ExecuteTime": {
     "end_time": "2022-07-13T11:30:54.287168Z",
     "start_time": "2022-07-13T11:30:54.284531Z"
    }
   },
   "outputs": [],
   "source": [
    "f1_list=[\n",
    "0.9963,\n",
    "0.9963,\n",
    "0.9942,\n",
    "0.9796,\n",
    "0.9802,\n",
    "0.373,\n",
    "0.287\n",
    "]"
   ]
  },
  {
   "cell_type": "code",
   "execution_count": 82,
   "id": "bdb100f0",
   "metadata": {
    "ExecuteTime": {
     "end_time": "2022-07-13T11:30:59.022329Z",
     "start_time": "2022-07-13T11:30:59.018721Z"
    }
   },
   "outputs": [
    {
     "data": {
      "text/plain": [
       "(0.805275, 0.8274916666666666)"
      ]
     },
     "execution_count": 82,
     "metadata": {},
     "output_type": "execute_result"
    }
   ],
   "source": [
    "AUT(score_list), AUT(f1_list)"
   ]
  },
  {
   "cell_type": "code",
   "execution_count": 43,
   "id": "2c9d3ab7",
   "metadata": {
    "ExecuteTime": {
     "end_time": "2022-07-13T04:57:37.120871Z",
     "start_time": "2022-07-13T04:57:37.117914Z"
    }
   },
   "outputs": [
    {
     "data": {
      "text/plain": [
       "(0.7676700000000001, 0.7937299999999999)"
      ]
     },
     "execution_count": 43,
     "metadata": {},
     "output_type": "execute_result"
    }
   ],
   "source": [
    "AUT(score_list), AUT(f1_list)"
   ]
  },
  {
   "cell_type": "code",
   "execution_count": 44,
   "id": "399b9073",
   "metadata": {
    "ExecuteTime": {
     "end_time": "2022-07-13T04:57:37.124986Z",
     "start_time": "2022-07-13T04:57:37.122129Z"
    }
   },
   "outputs": [
    {
     "data": {
      "text/plain": [
       "(0.9775833333333334, 0.9873816893319404)"
      ]
     },
     "execution_count": 44,
     "metadata": {},
     "output_type": "execute_result"
    }
   ],
   "source": [
    "AUT(score_list1), AUT(f1_list1)"
   ]
  },
  {
   "cell_type": "code",
   "execution_count": 45,
   "id": "f1fa80f9",
   "metadata": {
    "ExecuteTime": {
     "end_time": "2022-07-13T04:57:37.129187Z",
     "start_time": "2022-07-13T04:57:37.126239Z"
    }
   },
   "outputs": [
    {
     "data": {
      "text/plain": [
       "(0.8508333333333334, 0.8354285714285714)"
      ]
     },
     "execution_count": 45,
     "metadata": {},
     "output_type": "execute_result"
    }
   ],
   "source": [
    "AUT(score_list3), mean(score_list3)"
   ]
  },
  {
   "cell_type": "code",
   "execution_count": 46,
   "id": "6dec71e6",
   "metadata": {
    "ExecuteTime": {
     "end_time": "2022-07-13T04:57:37.133475Z",
     "start_time": "2022-07-13T04:57:37.130583Z"
    }
   },
   "outputs": [
    {
     "data": {
      "text/plain": [
       "(0.8610833333333333, 0.8465714285714284)"
      ]
     },
     "execution_count": 46,
     "metadata": {},
     "output_type": "execute_result"
    }
   ],
   "source": [
    "AUT(score_list4), mean(score_list4)"
   ]
  },
  {
   "cell_type": "code",
   "execution_count": 47,
   "id": "b1dcdf85",
   "metadata": {
    "ExecuteTime": {
     "end_time": "2022-07-13T04:57:37.137550Z",
     "start_time": "2022-07-13T04:57:37.134660Z"
    }
   },
   "outputs": [
    {
     "data": {
      "text/plain": [
       "(0.9873816893319404, 0.9870521414455092)"
      ]
     },
     "execution_count": 47,
     "metadata": {},
     "output_type": "execute_result"
    }
   ],
   "source": [
    "AUT(f1_list1), mean(f1_list1)"
   ]
  },
  {
   "cell_type": "code",
   "execution_count": 48,
   "id": "c7ae1536",
   "metadata": {
    "ExecuteTime": {
     "end_time": "2022-07-13T04:57:37.141606Z",
     "start_time": "2022-07-13T04:57:37.138654Z"
    }
   },
   "outputs": [
    {
     "data": {
      "text/plain": [
       "(0.9655151425097358, 0.9660669178928664)"
      ]
     },
     "execution_count": 48,
     "metadata": {},
     "output_type": "execute_result"
    }
   ],
   "source": [
    "AUT(f1_list2), mean(f1_list2)"
   ]
  },
  {
   "cell_type": "code",
   "execution_count": 49,
   "id": "17cfa98e",
   "metadata": {
    "ExecuteTime": {
     "end_time": "2022-07-13T04:57:37.146011Z",
     "start_time": "2022-07-13T04:57:37.142934Z"
    }
   },
   "outputs": [
    {
     "data": {
      "text/plain": [
       "(0.8895836823199187, 0.8776597513419951)"
      ]
     },
     "execution_count": 49,
     "metadata": {},
     "output_type": "execute_result"
    }
   ],
   "source": [
    "AUT(f1_list3), mean(f1_list3)"
   ]
  },
  {
   "cell_type": "code",
   "execution_count": 50,
   "id": "43ba6248",
   "metadata": {
    "ExecuteTime": {
     "end_time": "2022-07-13T04:57:37.150319Z",
     "start_time": "2022-07-13T04:57:37.147322Z"
    },
    "scrolled": true
   },
   "outputs": [
    {
     "data": {
      "text/plain": [
       "(0.8985622038269674, 0.8877709000331819)"
      ]
     },
     "execution_count": 50,
     "metadata": {},
     "output_type": "execute_result"
    }
   ],
   "source": [
    "AUT(f1_list4), mean(f1_list4)"
   ]
  },
  {
   "cell_type": "code",
   "execution_count": 51,
   "id": "2f0d9dae",
   "metadata": {
    "ExecuteTime": {
     "end_time": "2022-07-13T04:57:37.154383Z",
     "start_time": "2022-07-13T04:57:37.151444Z"
    }
   },
   "outputs": [
    {
     "data": {
      "text/plain": [
       "(0.93575, 0.9655151425097358)"
      ]
     },
     "execution_count": 51,
     "metadata": {},
     "output_type": "execute_result"
    }
   ],
   "source": [
    "AUT(score_list2), AUT(f1_list2)"
   ]
  },
  {
   "cell_type": "code",
   "execution_count": 52,
   "id": "f93406bf",
   "metadata": {
    "ExecuteTime": {
     "end_time": "2022-07-13T04:57:37.158409Z",
     "start_time": "2022-07-13T04:57:37.155592Z"
    },
    "scrolled": true
   },
   "outputs": [
    {
     "data": {
      "text/plain": [
       "(0.8508333333333334, 0.8895836823199187)"
      ]
     },
     "execution_count": 52,
     "metadata": {},
     "output_type": "execute_result"
    }
   ],
   "source": [
    "AUT(score_list3), AUT(f1_list3)"
   ]
  },
  {
   "cell_type": "code",
   "execution_count": null,
   "id": "a4f79c8a",
   "metadata": {},
   "outputs": [],
   "source": []
  },
  {
   "cell_type": "code",
   "execution_count": 53,
   "id": "e4db132b",
   "metadata": {
    "ExecuteTime": {
     "end_time": "2022-07-13T04:57:37.162766Z",
     "start_time": "2022-07-13T04:57:37.159627Z"
    }
   },
   "outputs": [
    {
     "data": {
      "text/plain": [
       "(0.7676700000000001, 0.7937299999999999)"
      ]
     },
     "execution_count": 53,
     "metadata": {},
     "output_type": "execute_result"
    }
   ],
   "source": [
    "AUT(score_list), AUT(f1_list)"
   ]
  },
  {
   "cell_type": "code",
   "execution_count": 54,
   "id": "03ebd783",
   "metadata": {
    "ExecuteTime": {
     "end_time": "2022-07-13T04:57:37.166867Z",
     "start_time": "2022-07-13T04:57:37.164003Z"
    }
   },
   "outputs": [
    {
     "data": {
      "text/plain": [
       "(0.9775833333333334, 0.9873816893319404)"
      ]
     },
     "execution_count": 54,
     "metadata": {},
     "output_type": "execute_result"
    }
   ],
   "source": [
    "AUT(score_list1), AUT(f1_list1)"
   ]
  },
  {
   "cell_type": "code",
   "execution_count": 55,
   "id": "ccd48f7d",
   "metadata": {
    "ExecuteTime": {
     "end_time": "2022-07-13T04:57:37.170965Z",
     "start_time": "2022-07-13T04:57:37.168102Z"
    },
    "scrolled": true
   },
   "outputs": [
    {
     "data": {
      "text/plain": [
       "(0.93575, 0.9655151425097358)"
      ]
     },
     "execution_count": 55,
     "metadata": {},
     "output_type": "execute_result"
    }
   ],
   "source": [
    "AUT(score_list2), AUT(f1_list2)"
   ]
  },
  {
   "cell_type": "code",
   "execution_count": 56,
   "id": "758d7dcb",
   "metadata": {
    "ExecuteTime": {
     "end_time": "2022-07-13T04:57:37.175062Z",
     "start_time": "2022-07-13T04:57:37.172155Z"
    },
    "scrolled": true
   },
   "outputs": [
    {
     "data": {
      "text/plain": [
       "(0.8508333333333334, 0.8895836823199187)"
      ]
     },
     "execution_count": 56,
     "metadata": {},
     "output_type": "execute_result"
    }
   ],
   "source": [
    "AUT(score_list3), AUT(f1_list3)"
   ]
  }
 ],
 "metadata": {
  "kernelspec": {
   "display_name": "Python 3 (ipykernel)",
   "language": "python",
   "name": "python3"
  },
  "language_info": {
   "codemirror_mode": {
    "name": "ipython",
    "version": 3
   },
   "file_extension": ".py",
   "mimetype": "text/x-python",
   "name": "python",
   "nbconvert_exporter": "python",
   "pygments_lexer": "ipython3",
   "version": "3.10.6"
  },
  "toc": {
   "base_numbering": 1,
   "nav_menu": {},
   "number_sections": true,
   "sideBar": true,
   "skip_h1_title": false,
   "title_cell": "Table of Contents",
   "title_sidebar": "Contents",
   "toc_cell": false,
   "toc_position": {},
   "toc_section_display": true,
   "toc_window_display": false
  },
  "varInspector": {
   "cols": {
    "lenName": 16,
    "lenType": 16,
    "lenVar": 40
   },
   "kernels_config": {
    "python": {
     "delete_cmd_postfix": "",
     "delete_cmd_prefix": "del ",
     "library": "var_list.py",
     "varRefreshCmd": "print(var_dic_list())"
    },
    "r": {
     "delete_cmd_postfix": ") ",
     "delete_cmd_prefix": "rm(",
     "library": "var_list.r",
     "varRefreshCmd": "cat(var_dic_list()) "
    }
   },
   "types_to_exclude": [
    "module",
    "function",
    "builtin_function_or_method",
    "instance",
    "_Feature"
   ],
   "window_display": false
  }
 },
 "nbformat": 4,
 "nbformat_minor": 5
}
