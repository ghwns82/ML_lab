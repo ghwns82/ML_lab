{
 "cells": [
  {
   "cell_type": "code",
   "execution_count": 1,
   "id": "0a90c436",
   "metadata": {
    "ExecuteTime": {
     "end_time": "2023-02-24T20:18:06.703677Z",
     "start_time": "2023-02-24T20:18:05.309898Z"
    }
   },
   "outputs": [],
   "source": [
    "import numpy as np\n",
    "import pandas as pd\n",
    "from sklearn.ensemble import RandomForestClassifier\n",
    "from sklearn.model_selection import train_test_split\n",
    "from sklearn.metrics import f1_score\n",
    "\n",
    "import joblib\n",
    "import os\n",
    "import matplotlib.pyplot as plt"
   ]
  },
  {
   "cell_type": "markdown",
   "id": "12b28673",
   "metadata": {},
   "source": [
    "# 데이터 준비"
   ]
  },
  {
   "cell_type": "code",
   "execution_count": 2,
   "id": "49ac117f",
   "metadata": {
    "ExecuteTime": {
     "end_time": "2023-02-24T20:18:06.713363Z",
     "start_time": "2023-02-24T20:18:06.708044Z"
    }
   },
   "outputs": [],
   "source": [
    "years = list(range(2014,2022))\n",
    "apk_types = ['benign', 'malware']"
   ]
  },
  {
   "cell_type": "code",
   "execution_count": 3,
   "id": "f6514e54",
   "metadata": {
    "ExecuteTime": {
     "end_time": "2023-02-24T20:18:42.927894Z",
     "start_time": "2023-02-24T20:18:06.716327Z"
    }
   },
   "outputs": [],
   "source": [
    "df_ben_list = []\n",
    "df_mal_list = []\n",
    "\n",
    "for year in years:\n",
    "    df_ben_list.append(pd.read_csv(f'./csv/{apk_types[0]}_{year}.csv', index_col=0))\n",
    "    df_mal_list.append(pd.read_csv(f'./csv/{apk_types[1]}_{year}.csv', index_col=0))"
   ]
  },
  {
   "cell_type": "markdown",
   "id": "ac12e3a1",
   "metadata": {},
   "source": [
    "# 성능 보기"
   ]
  },
  {
   "cell_type": "code",
   "execution_count": 4,
   "id": "88ccc5e1",
   "metadata": {
    "ExecuteTime": {
     "end_time": "2023-02-24T20:18:43.106264Z",
     "start_time": "2023-02-24T20:18:42.933227Z"
    }
   },
   "outputs": [
    {
     "ename": "NameError",
     "evalue": "name 'j' is not defined",
     "output_type": "error",
     "traceback": [
      "\u001b[0;31m---------------------------------------------------------------------------\u001b[0m",
      "\u001b[0;31mNameError\u001b[0m                                 Traceback (most recent call last)",
      "Cell \u001b[0;32mIn[4], line 1\u001b[0m\n\u001b[0;32m----> 1\u001b[0m \u001b[43mj\u001b[49m, test_idx, df_ben_list[j]\u001b[38;5;241m.\u001b[39mshape\n",
      "\u001b[0;31mNameError\u001b[0m: name 'j' is not defined"
     ]
    }
   ],
   "source": [
    "j, test_idx, df_ben_list[j].shape"
   ]
  },
  {
   "cell_type": "code",
   "execution_count": null,
   "id": "eb877e9a",
   "metadata": {
    "ExecuteTime": {
     "end_time": "2023-02-24T20:18:43.109297Z",
     "start_time": "2023-02-24T20:18:43.109279Z"
    }
   },
   "outputs": [],
   "source": [
    "df_ben_list[j].iloc[test_idx:]"
   ]
  },
  {
   "cell_type": "code",
   "execution_count": null,
   "id": "fa8e1410",
   "metadata": {
    "ExecuteTime": {
     "end_time": "2023-02-24T20:18:43.111883Z",
     "start_time": "2023-02-24T20:18:43.111864Z"
    },
    "scrolled": true
   },
   "outputs": [],
   "source": [
    "acc_table=[]\n",
    "\n",
    "for i, year in enumerate(years):\n",
    "    model=joblib.load(f'./model/model_{year}.pk1')\n",
    "    \n",
    "    print('model :', year)\n",
    "    acc_list=[]\n",
    "    for j in range(len(years)):\n",
    "        len_ = len(df_ben_list[j])\n",
    "        if j==i:\n",
    "            test_idx = int(len_ * 0.8)\n",
    "        else:\n",
    "            test_idx=0\n",
    "        data = pd.concat([df_ben_list[j].iloc[test_idx:], df_mal_list[j].iloc[test_idx:]])\n",
    "        label = (len_-test_idx)*[1] + (len_-test_idx)*[0]\n",
    "        accuracy = model.score(data, label)\n",
    "        f1 = f1_score(label, model.predict(data))\n",
    "        \n",
    "        \n",
    "        print(years[j],\"\\'s acc : \", accuracy)\n",
    "        print(years[j],\"\\'s f1 : \", f1)\n",
    "        \n",
    "        acc_list.append(accuracy)\n",
    "    \n",
    "    print()\n",
    "    acc_table.append(acc_list)"
   ]
  },
  {
   "cell_type": "markdown",
   "id": "c7817941",
   "metadata": {},
   "source": [
    "# 도표 표현"
   ]
  },
  {
   "cell_type": "code",
   "execution_count": null,
   "id": "4d29dc70",
   "metadata": {
    "ExecuteTime": {
     "end_time": "2023-02-24T20:18:43.113716Z",
     "start_time": "2023-02-24T20:18:43.113697Z"
    },
    "scrolled": true
   },
   "outputs": [],
   "source": [
    "acc_table"
   ]
  },
  {
   "cell_type": "code",
   "execution_count": null,
   "id": "fb9b1053",
   "metadata": {
    "ExecuteTime": {
     "end_time": "2023-02-24T20:18:43.115303Z",
     "start_time": "2023-02-24T20:18:43.115285Z"
    },
    "scrolled": true
   },
   "outputs": [],
   "source": [
    "if not os.path.isdir('./visual'):\n",
    "    os.mkdir('./visual')\n",
    "\n",
    "\n",
    "    \n",
    "for i, year in enumerate(years):\n",
    "    x = np.arange(len(years))\n",
    "    bars = plt.bar(x, acc_table[i], label=\"acc\", width=0.5)\n",
    "    bars[i].set_hatch('//')\n",
    "    plt.xticks(x, years)\n",
    "    plt.ylim(0.5, 1)\n",
    "    plt.legend()\n",
    "    plt.title(f\"model : {years[i]}\")\n",
    "    plt.savefig(f\"./visual/{years[i]}_model.png\")\n",
    "    plt.show()"
   ]
  },
  {
   "cell_type": "markdown",
   "id": "9f95fbff",
   "metadata": {},
   "source": [
    "# 추가 실험"
   ]
  },
  {
   "cell_type": "code",
   "execution_count": null,
   "id": "a2994053",
   "metadata": {
    "ExecuteTime": {
     "end_time": "2023-02-24T20:18:43.117209Z",
     "start_time": "2023-02-24T20:18:43.117191Z"
    },
    "scrolled": true
   },
   "outputs": [],
   "source": [
    "acc_table2=[]\n",
    "\n",
    "for i, year in enumerate(years):\n",
    "    model=joblib.load(f'./model/model_{year}.pk1')\n",
    "    \n",
    "    print('model :', year)\n",
    "    acc_list=[]\n",
    "    for j in range(len(years)):\n",
    "        len_ = len(df_ben_list[j])\n",
    "        if j==i:\n",
    "            test_idx = int(len_ * 0.8)\n",
    "        else:\n",
    "            test_idx=0\n",
    "        ben_data = df_ben_list[j].iloc[test_idx:]\n",
    "        mal_data = df_mal_list[j].iloc[test_idx:]\n",
    "        all_data = pd.concat([ben_data, mal_data])\n",
    "        \n",
    "        label = (len_-test_idx)*[1] + (len_-test_idx)*[0]\n",
    "        \n",
    "        accuracy = [model.score(all_data, label), \n",
    "                    model.score(ben_data, label[:len(label)//2]), \n",
    "                    model.score(mal_data, label[len(label)//2:])]\n",
    "        \n",
    "        print(years[j],\"\\'s acc : \", *accuracy)\n",
    "        acc_list.append(accuracy)\n",
    "    \n",
    "    print()\n",
    "    acc_table2.append(acc_list)"
   ]
  },
  {
   "cell_type": "markdown",
   "id": "0926a7dd",
   "metadata": {},
   "source": [
    "# 추가 도표"
   ]
  },
  {
   "cell_type": "code",
   "execution_count": null,
   "id": "6e97dd40",
   "metadata": {
    "ExecuteTime": {
     "end_time": "2023-02-24T20:18:43.119048Z",
     "start_time": "2023-02-24T20:18:43.119027Z"
    }
   },
   "outputs": [],
   "source": [
    "acc_table2[0][0][1]"
   ]
  },
  {
   "cell_type": "code",
   "execution_count": null,
   "id": "b9b6992e",
   "metadata": {
    "ExecuteTime": {
     "end_time": "2023-02-24T20:18:43.120636Z",
     "start_time": "2023-02-24T20:18:43.120618Z"
    },
    "scrolled": true
   },
   "outputs": [],
   "source": [
    "if not os.path.isdir('./visual'):\n",
    "    os.mkdir('./visual')\n",
    "\n",
    "\n",
    "    \n",
    "for i, year in enumerate(years):\n",
    "    x = np.arange(len(years))\n",
    "    plt.bar(x, [acc_table2[i][j][1] for j in range(len(years))], label=\"benign\", width=0.5)\n",
    "    plt.xticks(x, years)\n",
    "    plt.ylim(0, 1)\n",
    "    plt.legend()\n",
    "    plt.title(f\"model : {years[i]}\")\n",
    "    plt.savefig(f\"./visual/{years[i]}_model_ben.png\")\n",
    "    plt.show()\n",
    "    \n",
    "    x = np.arange(len(years))\n",
    "    plt.bar(x, [acc_table2[i][j][2] for j in range(len(years))], label=\"malware\", width=0.5)\n",
    "    plt.xticks(x, years)\n",
    "    plt.ylim(0, 1)\n",
    "    plt.legend()\n",
    "    plt.title(f\"model : {years[i]}\")\n",
    "    plt.savefig(f\"./visual/{years[i]}_model_mal.png\")\n",
    "    plt.show()\n",
    "    "
   ]
  },
  {
   "cell_type": "code",
   "execution_count": null,
   "id": "63ab9b23",
   "metadata": {
    "ExecuteTime": {
     "end_time": "2023-02-24T20:18:43.122906Z",
     "start_time": "2023-02-24T20:18:43.122889Z"
    },
    "scrolled": true
   },
   "outputs": [],
   "source": [
    "if not os.path.isdir('./visual'):\n",
    "    os.mkdir('./visual')\n",
    "\n",
    "\n",
    "    \n",
    "for i, year in enumerate(years):\n",
    "    x = np.arange(len(years))\n",
    "    plt.bar(x, [acc_table2[i][j][1] for j in range(len(years))], label=\"benign\", width=0.3, color='b')\n",
    "    plt.bar(x+0.3, [acc_table2[i][j][2] for j in range(len(years))], label=\"malware\", width=0.3, color='r')\n",
    "    plt.xticks(x, years)\n",
    "    plt.ylim(0, 1)\n",
    "    plt.legend(loc=(1.0, 0.8))\n",
    "    plt.title(f\"model : {years[i]}\")\n",
    "    plt.savefig(f\"./visual/{years[i]}_model_ben_mal.png\")\n",
    "    plt.show()\n",
    "    \n",
    "    "
   ]
  },
  {
   "cell_type": "code",
   "execution_count": null,
   "id": "c7c8a663",
   "metadata": {
    "ExecuteTime": {
     "end_time": "2023-02-24T20:18:43.124551Z",
     "start_time": "2023-02-24T20:18:43.124529Z"
    },
    "scrolled": true
   },
   "outputs": [],
   "source": [
    "if not os.path.isdir('./visual'):\n",
    "    os.mkdir('./visual')\n",
    "\n",
    "\n",
    "    \n",
    "for i, year in enumerate(years):\n",
    "    x = np.arange(len(years))\n",
    "    plt.bar(x, [acc_table2[i][j][0] for j in range(len(years))], label=\"all\", width=0.2, color='g')\n",
    "    plt.bar(x+0.2, [acc_table2[i][j][1] for j in range(len(years))], label=\"benign\", width=0.2, color='b')\n",
    "    plt.bar(x+0.4, [acc_table2[i][j][2] for j in range(len(years))], label=\"malware\", width=0.2, color='r')\n",
    "    plt.xticks(x, years)\n",
    "    plt.ylim(0, 1)\n",
    "    plt.legend(loc=(1.0, 0.8))\n",
    "    plt.title(f\"model : {years[i]}\")\n",
    "    plt.savefig(f\"./visual/{years[i]}_model_all.png\")\n",
    "    plt.show()\n",
    "    \n",
    "    "
   ]
  },
  {
   "cell_type": "code",
   "execution_count": null,
   "id": "d8f2f145",
   "metadata": {
    "ExecuteTime": {
     "end_time": "2023-02-24T20:18:43.126243Z",
     "start_time": "2023-02-24T20:18:43.126225Z"
    }
   },
   "outputs": [],
   "source": [
    "x = np.arange(len(years))\n",
    "plt.bar(x, [acc_table2[j][j][0] for j in range(len(years))], label=\"acc\", width=0.5)\n",
    "plt.xticks(x, years)\n",
    "plt.ylim(0.5, 1)\n",
    "plt.savefig(f\"./visual/self_model.png\")\n",
    "plt.show()"
   ]
  },
  {
   "cell_type": "code",
   "execution_count": null,
   "id": "5e671e4b",
   "metadata": {
    "ExecuteTime": {
     "end_time": "2023-02-24T20:18:43.128391Z",
     "start_time": "2023-02-24T20:18:43.128373Z"
    }
   },
   "outputs": [],
   "source": [
    "[acc_table2[j][j][0] for j in range(len(years))]"
   ]
  },
  {
   "cell_type": "code",
   "execution_count": null,
   "id": "927237a7",
   "metadata": {
    "ExecuteTime": {
     "end_time": "2023-02-24T20:18:43.129813Z",
     "start_time": "2023-02-24T20:18:43.129796Z"
    }
   },
   "outputs": [],
   "source": [
    "f1_score(label, model.predict(data))"
   ]
  }
 ],
 "metadata": {
  "kernelspec": {
   "display_name": "Python 3 (ipykernel)",
   "language": "python",
   "name": "python3"
  },
  "language_info": {
   "codemirror_mode": {
    "name": "ipython",
    "version": 3
   },
   "file_extension": ".py",
   "mimetype": "text/x-python",
   "name": "python",
   "nbconvert_exporter": "python",
   "pygments_lexer": "ipython3",
   "version": "3.10.6"
  },
  "toc": {
   "base_numbering": 1,
   "nav_menu": {},
   "number_sections": true,
   "sideBar": true,
   "skip_h1_title": false,
   "title_cell": "Table of Contents",
   "title_sidebar": "Contents",
   "toc_cell": false,
   "toc_position": {},
   "toc_section_display": true,
   "toc_window_display": false
  },
  "varInspector": {
   "cols": {
    "lenName": 16,
    "lenType": 16,
    "lenVar": 40
   },
   "kernels_config": {
    "python": {
     "delete_cmd_postfix": "",
     "delete_cmd_prefix": "del ",
     "library": "var_list.py",
     "varRefreshCmd": "print(var_dic_list())"
    },
    "r": {
     "delete_cmd_postfix": ") ",
     "delete_cmd_prefix": "rm(",
     "library": "var_list.r",
     "varRefreshCmd": "cat(var_dic_list()) "
    }
   },
   "types_to_exclude": [
    "module",
    "function",
    "builtin_function_or_method",
    "instance",
    "_Feature"
   ],
   "window_display": false
  }
 },
 "nbformat": 4,
 "nbformat_minor": 5
}
