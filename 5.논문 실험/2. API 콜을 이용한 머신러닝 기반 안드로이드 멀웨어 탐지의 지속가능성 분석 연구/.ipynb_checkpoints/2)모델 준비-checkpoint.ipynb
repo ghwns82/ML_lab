{
 "cells": [
  {
   "cell_type": "code",
   "execution_count": 1,
   "id": "fc082ee4",
   "metadata": {
    "ExecuteTime": {
     "end_time": "2023-02-24T20:16:19.458010Z",
     "start_time": "2023-02-24T20:16:18.462090Z"
    }
   },
   "outputs": [],
   "source": [
    "import numpy as np\n",
    "import pandas as pd\n",
    "from sklearn.ensemble import RandomForestClassifier\n",
    "from sklearn.model_selection import train_test_split\n",
    "import joblib\n",
    "import os"
   ]
  },
  {
   "cell_type": "markdown",
   "id": "b7f1417e",
   "metadata": {},
   "source": [
    "# 데이터"
   ]
  },
  {
   "cell_type": "code",
   "execution_count": 2,
   "id": "2dd0e90e",
   "metadata": {
    "ExecuteTime": {
     "end_time": "2023-02-24T20:16:20.448764Z",
     "start_time": "2023-02-24T20:16:20.444478Z"
    }
   },
   "outputs": [],
   "source": [
    "years = list(range(2014,2022))\n",
    "apk_types = ['benign', 'malware']"
   ]
  },
  {
   "cell_type": "code",
   "execution_count": null,
   "id": "3d175d3a",
   "metadata": {
    "ExecuteTime": {
     "start_time": "2023-02-24T20:16:20.824Z"
    }
   },
   "outputs": [],
   "source": [
    "df_ben_list = []\n",
    "df_mal_list = []\n",
    "\n",
    "for year in years:\n",
    "    df_ben_list.append(pd.read_csv(f'./csv/{apk_types[0]}_{year}.csv', index_col=0))\n",
    "    df_mal_list.append(pd.read_csv(f'./csv/{apk_types[1]}_{year}.csv', index_col=0))"
   ]
  },
  {
   "cell_type": "code",
   "execution_count": null,
   "id": "fb5119a3",
   "metadata": {
    "ExecuteTime": {
     "start_time": "2023-02-24T20:16:21.050Z"
    }
   },
   "outputs": [],
   "source": [
    "df_ben_list[0]"
   ]
  },
  {
   "cell_type": "markdown",
   "id": "14166c8e",
   "metadata": {},
   "source": [
    "# 모델 생성"
   ]
  },
  {
   "cell_type": "code",
   "execution_count": null,
   "id": "6a7812ca",
   "metadata": {
    "ExecuteTime": {
     "start_time": "2023-02-24T20:16:21.593Z"
    }
   },
   "outputs": [],
   "source": [
    "model_list = []\n",
    "importance_list=[]\n",
    "for i, year in enumerate(years):\n",
    "    train_len = int((df_ben_list[i].shape[0])*0.8)\n",
    "    print(train_len)\n",
    "    y_train = [1]*train_len + [0]*train_len\n",
    "    x_train = pd.concat([df_ben_list[i].iloc[:train_len], df_mal_list[i].iloc[:train_len]])\n",
    "    model=RandomForestClassifier(random_state=42).fit(x_train, y_train)\n",
    "    model_list.append(model)\n",
    "    importance_list.append(model.feature_importances_)\n",
    "    print(year, 'done')"
   ]
  },
  {
   "cell_type": "markdown",
   "id": "278a6f33",
   "metadata": {},
   "source": [
    "# 모델 저장"
   ]
  },
  {
   "cell_type": "code",
   "execution_count": null,
   "id": "29c6bb99",
   "metadata": {
    "ExecuteTime": {
     "start_time": "2023-02-24T20:16:22.169Z"
    }
   },
   "outputs": [],
   "source": [
    "if not os.path.isdir('./model'):\n",
    "    os.mkdir('./model')\n",
    "\n",
    "for i, year in enumerate(years):\n",
    "     joblib.dump(model_list[i] ,f'./model/model_{year}.pk1')"
   ]
  },
  {
   "cell_type": "markdown",
   "id": "d26e6ead",
   "metadata": {},
   "source": [
    "# 중요도 값, 랭킹 저장"
   ]
  },
  {
   "cell_type": "code",
   "execution_count": null,
   "id": "b78a6b76",
   "metadata": {
    "ExecuteTime": {
     "start_time": "2023-02-24T20:16:22.745Z"
    }
   },
   "outputs": [],
   "source": [
    "array = np.array([1,8,5,7,9])\n",
    "\n",
    "temp = array.argsort()*(-1)\n",
    "\n",
    "ranks = temp.argsort()\n",
    "print(array)\n",
    "print(ranks)"
   ]
  },
  {
   "cell_type": "code",
   "execution_count": null,
   "id": "0b035967",
   "metadata": {
    "ExecuteTime": {
     "start_time": "2023-02-24T20:16:23.097Z"
    }
   },
   "outputs": [],
   "source": [
    "array = np.array([1,8,5,7,9])\n",
    "\n",
    "temp = array.argsort().argsort()\n",
    "ranks = 5-temp\n",
    "print(ranks)"
   ]
  },
  {
   "cell_type": "code",
   "execution_count": null,
   "id": "73524f2f",
   "metadata": {
    "ExecuteTime": {
     "start_time": "2023-02-24T20:16:23.416Z"
    }
   },
   "outputs": [],
   "source": [
    "np.array([10,5,3,1,2]).argsort()"
   ]
  },
  {
   "cell_type": "code",
   "execution_count": null,
   "id": "2e0e786b",
   "metadata": {
    "ExecuteTime": {
     "start_time": "2023-02-24T20:16:23.705Z"
    }
   },
   "outputs": [],
   "source": [
    "print(*enumerate(importance_list[0]))"
   ]
  },
  {
   "cell_type": "code",
   "execution_count": null,
   "id": "ea0693a4",
   "metadata": {
    "ExecuteTime": {
     "start_time": "2023-02-24T20:16:24.169Z"
    }
   },
   "outputs": [],
   "source": [
    "rank = 1848-importance_list[0].argsort()\n",
    "rank[151]"
   ]
  },
  {
   "cell_type": "code",
   "execution_count": null,
   "id": "3e61f13c",
   "metadata": {
    "ExecuteTime": {
     "start_time": "2023-02-24T20:16:24.409Z"
    }
   },
   "outputs": [],
   "source": [
    "if not os.path.isdir('./feature_importance'):\n",
    "    os.mkdir('./feature_importance')\n",
    "\n",
    "for i, year in enumerate(years):\n",
    "\n",
    "    zero_cnt = (importance_list[i]==0).sum()\n",
    "    rank = 1848-importance_list[i].argsort().argsort()\n",
    "    rank = np.where(rank > 1848-zero_cnt, 1848, rank)\n",
    "    \n",
    "    np.savetxt(f'./feature_importance/feature_importance_{year}.csv', [importance_list[i], rank], delimiter=',')"
   ]
  },
  {
   "cell_type": "code",
   "execution_count": null,
   "id": "59b4710c",
   "metadata": {},
   "outputs": [],
   "source": []
  }
 ],
 "metadata": {
  "kernelspec": {
   "display_name": "Python 3 (ipykernel)",
   "language": "python",
   "name": "python3"
  },
  "language_info": {
   "codemirror_mode": {
    "name": "ipython",
    "version": 3
   },
   "file_extension": ".py",
   "mimetype": "text/x-python",
   "name": "python",
   "nbconvert_exporter": "python",
   "pygments_lexer": "ipython3",
   "version": "3.10.6"
  },
  "toc": {
   "base_numbering": 1,
   "nav_menu": {},
   "number_sections": true,
   "sideBar": true,
   "skip_h1_title": false,
   "title_cell": "Table of Contents",
   "title_sidebar": "Contents",
   "toc_cell": false,
   "toc_position": {},
   "toc_section_display": true,
   "toc_window_display": false
  },
  "varInspector": {
   "cols": {
    "lenName": 16,
    "lenType": 16,
    "lenVar": 40
   },
   "kernels_config": {
    "python": {
     "delete_cmd_postfix": "",
     "delete_cmd_prefix": "del ",
     "library": "var_list.py",
     "varRefreshCmd": "print(var_dic_list())"
    },
    "r": {
     "delete_cmd_postfix": ") ",
     "delete_cmd_prefix": "rm(",
     "library": "var_list.r",
     "varRefreshCmd": "cat(var_dic_list()) "
    }
   },
   "types_to_exclude": [
    "module",
    "function",
    "builtin_function_or_method",
    "instance",
    "_Feature"
   ],
   "window_display": false
  }
 },
 "nbformat": 4,
 "nbformat_minor": 5
}
