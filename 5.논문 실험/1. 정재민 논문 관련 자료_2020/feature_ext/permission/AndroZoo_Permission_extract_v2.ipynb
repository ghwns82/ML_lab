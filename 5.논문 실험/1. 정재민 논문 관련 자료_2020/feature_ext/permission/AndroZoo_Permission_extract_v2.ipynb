{
 "cells": [
  {
   "cell_type": "code",
   "execution_count": 56,
   "metadata": {},
   "outputs": [],
   "source": [
    "import subprocess\n",
    "import os, sys\n",
    "import random\n",
    "import datetime, time"
   ]
  },
  {
   "cell_type": "code",
   "execution_count": 57,
   "metadata": {},
   "outputs": [],
   "source": [
    "def search(dirname):\n",
    "    try:\n",
    "        filenames = os.listdir(dirname)\n",
    "        for filename in filenames:\n",
    "            full_filename = os.path.join(dirname, filename)\n",
    "            if os.path.isdir(full_filename):\n",
    "                search(full_filename)\n",
    "            else:\n",
    "                ext = os.path.splitext(full_filename)[-1]\n",
    "                if ext == '.apk':\n",
    "                    line.append(filename)\n",
    "                    dirName.append(dirname)\n",
    "                    if dirname[-1] == '/':\n",
    "                        pathLine.append(full_filename)\n",
    "                    else:\n",
    "                        pathLine.append(dirname + '/' + filename)\n",
    "    except PermissionError:\n",
    "        pass"
   ]
  },
  {
   "cell_type": "code",
   "execution_count": 63,
   "metadata": {},
   "outputs": [
    {
     "name": "stdout",
     "output_type": "stream",
     "text": [
      "search Done !!!\n"
     ]
    }
   ],
   "source": [
    "line=[]\n",
    "pathLine=[]\n",
    "dirName=[]\n",
    "search('Y:/0.Dataset/AndroZoo/2020f_droid/apk/ssapdaeji/relection_only/benign/final_ref/')\n",
    "print(\"search Done !!!\")"
   ]
  },
  {
   "cell_type": "code",
   "execution_count": 64,
   "metadata": {},
   "outputs": [
    {
     "name": "stdout",
     "output_type": "stream",
     "text": [
      "56.40374755859375\n"
     ]
    }
   ],
   "source": [
    "st_time = time.time()\n",
    "for i in range(0,len(line)):\n",
    "    new = subprocess.run(\"Y: && /0.Dataset/AndroZoo/2020f_droid/apk/ssapdaeji/relection_only/benign/final_ref/aapt dump permissions \"+pathLine[i]+\" -> 0.Dataset/AndroZoo/2020f_droid/callfrequency_ref/\"+line[i][:-4]+\".txt\",shell=True)\n",
    "print(time.time() - st_time)"
   ]
  },
  {
   "cell_type": "markdown",
   "metadata": {},
   "source": [
    "# 난독화앱 200개 추출"
   ]
  },
  {
   "cell_type": "code",
   "execution_count": 54,
   "metadata": {},
   "outputs": [],
   "source": [
    "search_apk = []\n",
    "i = 1\n",
    "with open(\"C:\\\\Users\\\\32171825\\\\Desktop\\\\jihyeonnpy\\\\real_final_jhp\\\\search_apk.txt\",'r') as f:\n",
    "    while True:\n",
    "        t = f.readline().replace('\\n','')\n",
    "        if not t:\n",
    "            break\n",
    "        search_apk.append(t) \n",
    "        i += 1"
   ]
  },
  {
   "cell_type": "code",
   "execution_count": 35,
   "metadata": {},
   "outputs": [],
   "source": [
    "# for i in range(0,len(line)):\n",
    "#     line[i]=line[i].split(\"_obfuscated\")[0]"
   ]
  },
  {
   "cell_type": "code",
   "execution_count": 60,
   "metadata": {},
   "outputs": [
    {
     "data": {
      "text/plain": [
       "397"
      ]
     },
     "execution_count": 60,
     "metadata": {},
     "output_type": "execute_result"
    }
   ],
   "source": [
    "len(line)"
   ]
  },
  {
   "cell_type": "code",
   "execution_count": 37,
   "metadata": {},
   "outputs": [],
   "source": [
    "# for i in range(0,len(search_apk)):\n",
    "#     search_apk[i]=search_apk[i].split(\".apk\")[0]"
   ]
  },
  {
   "cell_type": "code",
   "execution_count": 61,
   "metadata": {},
   "outputs": [],
   "source": [
    "lines=[]\n",
    "for i in range(0,len(line)):\n",
    "    if line[i] in search_apk:\n",
    "        lines.append(line[i])\n",
    "    else:\n",
    "        pass"
   ]
  },
  {
   "cell_type": "code",
   "execution_count": 62,
   "metadata": {},
   "outputs": [],
   "source": [
    "# import shutil\n",
    "for i in range(0,len(lines)):\n",
    "    f_name=lines[i]\n",
    "    src='Y:\\\\0.Dataset\\\\AndroZoo\\\\2020f_droid\\\\apk\\\\ssapdaeji\\\\relection_only\\\\benign\\\\'\n",
    "    dir='Y:\\\\0.Dataset\\\\AndroZoo\\\\2020f_droid\\\\apk\\\\ssapdaeji\\\\relection_only\\\\benign\\\\final_ref\\\\'\n",
    "    shutil.move(src+f_name, dir+f_name)"
   ]
  },
  {
   "cell_type": "code",
   "execution_count": null,
   "metadata": {},
   "outputs": [],
   "source": [
    "# final_ref로 200개 app 이동\n",
    "#-> 이제 위로 올라가서 permission txt파일 추출하기"
   ]
  }
 ],
 "metadata": {
  "kernelspec": {
   "display_name": "Python 3",
   "language": "python",
   "name": "python3"
  },
  "language_info": {
   "codemirror_mode": {
    "name": "ipython",
    "version": 3
   },
   "file_extension": ".py",
   "mimetype": "text/x-python",
   "name": "python",
   "nbconvert_exporter": "python",
   "pygments_lexer": "ipython3",
   "version": "3.7.3"
  }
 },
 "nbformat": 4,
 "nbformat_minor": 2
}
