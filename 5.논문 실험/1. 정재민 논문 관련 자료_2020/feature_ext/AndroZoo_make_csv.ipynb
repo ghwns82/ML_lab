{
 "cells": [
  {
   "cell_type": "code",
   "execution_count": 55,
   "metadata": {},
   "outputs": [],
   "source": [
    "import subprocess, string, csv\n",
    "import os, sys"
   ]
  },
  {
   "cell_type": "code",
   "execution_count": 56,
   "metadata": {},
   "outputs": [],
   "source": [
    "def search(dirname):\n",
    "    try:\n",
    "        filenames = os.listdir(dirname)\n",
    "        for filename in filenames:\n",
    "            full_filename = os.path.join(dirname, filename)\n",
    "            if os.path.isdir(full_filename):\n",
    "                search(full_filename)\n",
    "            else:\n",
    "                ext = os.path.splitext(full_filename)[-1]\n",
    "                if ext == '.txt':\n",
    "                    line_file.append(filename)\n",
    "                    dirName.append(dirname)\n",
    "                    if dirname[-1] == '/':\n",
    "                        pathLine.append(full_filename)\n",
    "                    else:\n",
    "                        pathLine.append(dirname + '/' + filename)\n",
    "    except PermissionError:\n",
    "        pass"
   ]
  },
  {
   "cell_type": "code",
   "execution_count": 57,
   "metadata": {},
   "outputs": [],
   "source": [
    "line_file=[]\n",
    "pathLine=[]\n",
    "dirName=[]\n",
    "search(\"Y:/0.Dataset/AndroZoo/2020f_droid/callfrequency_ref/\")"
   ]
  },
  {
   "cell_type": "code",
   "execution_count": 58,
   "metadata": {},
   "outputs": [],
   "source": [
    "with open(\"Y:/0.Dataset/AndroZoo/permission_list.txt\",'r') as file:\n",
    "    data=file.read()\n",
    "reallist=data.splitlines()\n",
    "realresult=[0]*len(line_file)"
   ]
  },
  {
   "cell_type": "code",
   "execution_count": 59,
   "metadata": {},
   "outputs": [
    {
     "data": {
      "text/plain": [
       "['ar.rulosoft.mimanganu_78.txt',\n",
       " 'com.github.axet.torrentclient_596.txt',\n",
       " 'com.greenaddress.greenbits_android_wallet.testnet_203.txt']"
      ]
     },
     "execution_count": 59,
     "metadata": {},
     "output_type": "execute_result"
    }
   ],
   "source": [
    "line_file[:3]"
   ]
  },
  {
   "cell_type": "code",
   "execution_count": 60,
   "metadata": {},
   "outputs": [],
   "source": [
    "for i in range(0,len(line_file)):\n",
    "    line_file[i]=line_file[i].replace('.txt','.apk')"
   ]
  },
  {
   "cell_type": "code",
   "execution_count": 61,
   "metadata": {},
   "outputs": [
    {
     "data": {
      "text/plain": [
       "['ar.rulosoft.mimanganu_78.apk',\n",
       " 'com.github.axet.torrentclient_596.apk',\n",
       " 'com.greenaddress.greenbits_android_wallet.testnet_203.apk']"
      ]
     },
     "execution_count": 61,
     "metadata": {},
     "output_type": "execute_result"
    }
   ],
   "source": [
    "line_file[:3]"
   ]
  },
  {
   "cell_type": "code",
   "execution_count": 62,
   "metadata": {},
   "outputs": [],
   "source": [
    "for i in range(0,len(line_file)):\n",
    "    permission=[]\n",
    "    with open(pathLine[i],\"r\") as f:\n",
    "        lines=f.readlines()\n",
    "        for line in lines:\n",
    "            if \"uses-permission\" in line:\n",
    "                permission.append(line.split(': ')[1][:-1])\n",
    "        resultk=[0]*len(reallist)\n",
    "        for b in permission:\n",
    "            cnt=0\n",
    "            for a in reallist:\n",
    "                if b == a:\n",
    "                    resultk[cnt]=1                    \n",
    "                cnt+=1\n",
    "        resultk.insert(0,line_file[i])\n",
    "        realresult[i]=resultk"
   ]
  },
  {
   "cell_type": "code",
   "execution_count": 63,
   "metadata": {},
   "outputs": [],
   "source": [
    "reallist.insert(0,'apkname')\n",
    "header=reallist\n",
    "with open(\"C:\\\\Users\\\\32171825\\\\Desktop\\\\jihyeonnpy\\\\real_final_jhp\\\\ref_ofs_fdroid_perm1.csv\",'wt',newline='') as f2:\n",
    "    writer=csv.writer(f2, delimiter=',')\n",
    "    writer.writerow(i for i in header)\n",
    "    for j in range(0,len(line_file)):\n",
    "        writer.writerow(realresult[j])"
   ]
  },
  {
   "cell_type": "code",
   "execution_count": null,
   "metadata": {},
   "outputs": [],
   "source": []
  }
 ],
 "metadata": {
  "kernelspec": {
   "display_name": "Python 3",
   "language": "python",
   "name": "python3"
  },
  "language_info": {
   "codemirror_mode": {
    "name": "ipython",
    "version": 3
   },
   "file_extension": ".py",
   "mimetype": "text/x-python",
   "name": "python",
   "nbconvert_exporter": "python",
   "pygments_lexer": "ipython3",
   "version": "3.7.3"
  }
 },
 "nbformat": 4,
 "nbformat_minor": 2
}
