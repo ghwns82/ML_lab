{
 "cells": [
  {
   "cell_type": "markdown",
   "id": "04f623eb",
   "metadata": {},
   "source": [
    "# 개요"
   ]
  },
  {
   "cell_type": "markdown",
   "id": "fdd2a0ff",
   "metadata": {},
   "source": [
    "* 특징정보를 뽑을 수 있는 aapt, dexdump 같은 툴을 사용하여 관련 정보를 추출하는 작업"
   ]
  },
  {
   "cell_type": "markdown",
   "id": "11cc7904",
   "metadata": {},
   "source": [
    "# 예시코드"
   ]
  },
  {
   "cell_type": "markdown",
   "id": "a3d46e6a",
   "metadata": {},
   "source": [
    "예시코드에서는 Permission과 api 특징정보만 사용할 예정이다"
   ]
  },
  {
   "cell_type": "code",
   "execution_count": 1,
   "id": "c4747eb5",
   "metadata": {
    "ExecuteTime": {
     "end_time": "2023-01-16T06:52:13.609064Z",
     "start_time": "2023-01-16T06:52:13.602448Z"
    }
   },
   "outputs": [],
   "source": [
    "import subprocess, os\n",
    "# from tqdm import tqdm"
   ]
  },
  {
   "cell_type": "code",
   "execution_count": 2,
   "id": "71eb6df0",
   "metadata": {
    "ExecuteTime": {
     "end_time": "2023-01-16T06:52:13.614344Z",
     "start_time": "2023-01-16T06:52:13.610622Z"
    }
   },
   "outputs": [],
   "source": [
    "with open('./benign/benign_list_1000.txt', 'r') as f:\n",
    "    b_list = f.read().split(\"\\n\")\n",
    "with open('./malware/malware_list_1000.txt', 'r') as f:\n",
    "    m_list = f.read().split(\"\\n\")"
   ]
  },
  {
   "cell_type": "code",
   "execution_count": 3,
   "id": "9f85f2ac",
   "metadata": {
    "ExecuteTime": {
     "end_time": "2023-01-16T06:52:13.618876Z",
     "start_time": "2023-01-16T06:52:13.615413Z"
    }
   },
   "outputs": [],
   "source": [
    "if not os.path.isdir('./benign/api'):\n",
    "    os.mkdir('./benign/api')\n",
    "if not os.path.isdir('./benign/permission'):\n",
    "    os.mkdir('./benign/permission')\n",
    "if not os.path.isdir('./malware/api'):\n",
    "    os.mkdir('./malware/api')\n",
    "if not os.path.isdir('./malware/permission'):\n",
    "    os.mkdir('./malware/permission')"
   ]
  },
  {
   "cell_type": "markdown",
   "id": "4b012d8f",
   "metadata": {},
   "source": [
    "api"
   ]
  },
  {
   "cell_type": "code",
   "execution_count": 1,
   "id": "2b99323e",
   "metadata": {
    "ExecuteTime": {
     "end_time": "2023-01-16T06:57:26.569573Z",
     "start_time": "2023-01-16T06:57:26.567410Z"
    },
    "scrolled": true
   },
   "outputs": [],
   "source": [
    "save_path = './benign/api/'\n",
    "for apk_path in b_list:\n",
    "# for apk_path in tqdm(b_list):\n",
    "    apk = os.path.split(apk_path)[1]\n",
    "    apk_name = os.path.splitext(apk)[0]\n",
    "    save_txt_path = save_path+apk_name+'.txt'\n",
    "    terminal = f\"dexdump -d {apk_path} | grep invoke- | cut -d '}}' -f 2 | cut -d ' ' -f 2 > {save_txt_path}\"\n",
    "    result = subprocess.run(terminal, shell = True)"
   ]
  },
  {
   "cell_type": "code",
   "execution_count": null,
   "id": "14fa3676",
   "metadata": {
    "ExecuteTime": {
     "start_time": "2023-01-16T06:52:13.605Z"
    }
   },
   "outputs": [],
   "source": [
    "save_path = './malware/api/'\n",
    "for apk_path in m_list:\n",
    "# for apk_path in tqdm(m_list):\n",
    "    apk = os.path.split(apk_path)[1]\n",
    "    apk_name = os.path.splitext(apk)[0]\n",
    "    save_txt_path = save_path+apk_name+'.txt'\n",
    "    terminal = f\"dexdump -d {apk_path} | grep invoke- | cut -d '}}' -f 2 | cut -d ' ' -f 2 > {save_txt_path}\"\n",
    "    result = subprocess.run(terminal, shell = True)"
   ]
  },
  {
   "cell_type": "markdown",
   "id": "5a681d8e",
   "metadata": {},
   "source": [
    "permission"
   ]
  },
  {
   "cell_type": "code",
   "execution_count": null,
   "id": "ebd40213",
   "metadata": {
    "ExecuteTime": {
     "start_time": "2023-01-16T06:52:13.606Z"
    }
   },
   "outputs": [],
   "source": [
    "save_path = './benign/permission/'\n",
    "for apk_path in b_list:\n",
    "# for apk_path in tqdm(b_list):\n",
    "    apk = os.path.split(apk_path)[1]\n",
    "    apk_name = os.path.splitext(apk)[0]\n",
    "    save_txt_path = save_path+apk_name+'.txt'\n",
    "    terminal = f'aapt d permissions {apk_path} > {save_txt_path}'\n",
    "    result = subprocess.run(terminal, shell = True)"
   ]
  },
  {
   "cell_type": "code",
   "execution_count": null,
   "id": "57b26323",
   "metadata": {
    "ExecuteTime": {
     "start_time": "2023-01-16T06:52:13.607Z"
    }
   },
   "outputs": [],
   "source": [
    "save_path = './malware/permission/'\n",
    "for apk_path in m_list:\n",
    "# for apk_path in tqdm(m_list):\n",
    "    apk = os.path.split(apk_path)[1]\n",
    "    apk_name = os.path.splitext(apk)[0]\n",
    "    save_txt_path = save_path+apk_name+'.txt'\n",
    "    terminal = f'aapt d permissions {apk_path} > {save_txt_path}'\n",
    "    result = subprocess.run(terminal, shell = True)"
   ]
  }
 ],
 "metadata": {
  "kernelspec": {
   "display_name": "Python 3 (ipykernel)",
   "language": "python",
   "name": "python3"
  },
  "language_info": {
   "codemirror_mode": {
    "name": "ipython",
    "version": 3
   },
   "file_extension": ".py",
   "mimetype": "text/x-python",
   "name": "python",
   "nbconvert_exporter": "python",
   "pygments_lexer": "ipython3",
   "version": "3.8.10"
  },
  "toc": {
   "base_numbering": 1,
   "nav_menu": {},
   "number_sections": true,
   "sideBar": true,
   "skip_h1_title": false,
   "title_cell": "Table of Contents",
   "title_sidebar": "Contents",
   "toc_cell": false,
   "toc_position": {},
   "toc_section_display": true,
   "toc_window_display": false
  },
  "varInspector": {
   "cols": {
    "lenName": 16,
    "lenType": 16,
    "lenVar": 40
   },
   "kernels_config": {
    "python": {
     "delete_cmd_postfix": "",
     "delete_cmd_prefix": "del ",
     "library": "var_list.py",
     "varRefreshCmd": "print(var_dic_list())"
    },
    "r": {
     "delete_cmd_postfix": ") ",
     "delete_cmd_prefix": "rm(",
     "library": "var_list.r",
     "varRefreshCmd": "cat(var_dic_list()) "
    }
   },
   "types_to_exclude": [
    "module",
    "function",
    "builtin_function_or_method",
    "instance",
    "_Feature"
   ],
   "window_display": false
  }
 },
 "nbformat": 4,
 "nbformat_minor": 5
}
