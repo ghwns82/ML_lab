{
 "cells": [
  {
   "cell_type": "markdown",
   "id": "b49dea00",
   "metadata": {},
   "source": [
    "# 개요"
   ]
  },
  {
   "cell_type": "markdown",
   "id": "077644c6",
   "metadata": {},
   "source": [
    "**데이터 탐색 및 선별을 하는 이유**\n",
    "* nas에 apk 파일이 흩어져있기 때문에, 먼저 apk 파일 위치를 찾는 것부터 시작한다.\n",
    "* benign과 malware의 개수가 다르기 때문에 실험할 개수는 1대1로 맞춘다 (개수가 크게 차이나면 편향발생)"
   ]
  },
  {
   "cell_type": "markdown",
   "id": "055138b8",
   "metadata": {},
   "source": [
    "# 예시 코드"
   ]
  },
  {
   "cell_type": "code",
   "execution_count": 25,
   "id": "0d76c2b7",
   "metadata": {
    "ExecuteTime": {
     "end_time": "2023-01-16T06:40:59.173588Z",
     "start_time": "2023-01-16T06:40:59.171435Z"
    }
   },
   "outputs": [],
   "source": [
    "import os, random"
   ]
  },
  {
   "cell_type": "code",
   "execution_count": 42,
   "id": "71ea3665",
   "metadata": {
    "ExecuteTime": {
     "end_time": "2023-01-16T06:48:36.744188Z",
     "start_time": "2023-01-16T06:48:36.732459Z"
    }
   },
   "outputs": [],
   "source": [
    "# 현재(23.01.16) nas가 터졌기 때문에 로컬에서 진행\n",
    "\n",
    "b_list = []\n",
    "for root, dirs, files in os.walk('/mnt/f/Benign/'):\n",
    "    for file in files:\n",
    "        if os.path.splitext(file)[1] == '.apk':\n",
    "            b_list.append(root +'/'+ file)\n",
    "m_list = []\n",
    "for root, dirs, files in os.walk('/mnt/f/Malware/'):\n",
    "    for file in files:\n",
    "        if os.path.splitext(file)[1] == '.apk':\n",
    "            m_list.append(root +'/'+ file)"
   ]
  },
  {
   "cell_type": "code",
   "execution_count": 43,
   "id": "489e9154",
   "metadata": {
    "ExecuteTime": {
     "end_time": "2023-01-16T06:48:36.997160Z",
     "start_time": "2023-01-16T06:48:36.993809Z"
    }
   },
   "outputs": [
    {
     "data": {
      "text/plain": [
       "(1099, 1096)"
      ]
     },
     "execution_count": 43,
     "metadata": {},
     "output_type": "execute_result"
    }
   ],
   "source": [
    "len(b_list), len(m_list)"
   ]
  },
  {
   "cell_type": "code",
   "execution_count": 44,
   "id": "5b8024bb",
   "metadata": {
    "ExecuteTime": {
     "end_time": "2023-01-16T06:48:37.294063Z",
     "start_time": "2023-01-16T06:48:37.291772Z"
    }
   },
   "outputs": [],
   "source": [
    "b_list.remove('/mnt/f/Benign/APK/com.tomcallvideio2020.videocallgame_A1D7F6AAF8643193354B43561CAFF148.apk')\n",
    "b_list.remove('/mnt/f/Benign/APK/com.launcher.smart.abstractgirl.theme_04A8A4323BEAF2800A7529A3D1DC22AD.apk')\n",
    "b_list.remove('/mnt/f/Benign/APK/com.wTRTErtugrulPtv_786_C0DEF05C2C7C614732814B80FAF13363.apk')\n",
    "b_list.remove('/mnt/f/Benign/APK/com.ofss.fcdb.mobile.android.phone.boc.launcher_3B89B95BA231FCB73252CA321881E8BF.apk')"
   ]
  },
  {
   "cell_type": "code",
   "execution_count": 45,
   "id": "1f00c188",
   "metadata": {
    "ExecuteTime": {
     "end_time": "2023-01-16T06:48:38.782531Z",
     "start_time": "2023-01-16T06:48:38.779416Z"
    }
   },
   "outputs": [],
   "source": [
    "random.shuffle(b_list)\n",
    "random.shuffle(m_list)\n",
    "b_list=b_list[:1000]\n",
    "m_list=m_list[:1000]"
   ]
  },
  {
   "cell_type": "code",
   "execution_count": 46,
   "id": "33e51d9d",
   "metadata": {
    "ExecuteTime": {
     "end_time": "2023-01-16T06:48:39.025657Z",
     "start_time": "2023-01-16T06:48:39.013929Z"
    }
   },
   "outputs": [],
   "source": [
    "if not os.path.isdir('./benign'):\n",
    "    os.mkdir('./benign')\n",
    "if not os.path.isdir('./malware'):\n",
    "    os.mkdir('./malware')\n",
    "    \n",
    "with open('./benign/benign_list_1000.txt','w') as f:\n",
    "    f.writelines('\\n'.join(b_list))\n",
    "with open('./malware/malware_list_1000.txt','w') as f:\n",
    "    f.writelines('\\n'.join(m_list))"
   ]
  },
  {
   "cell_type": "code",
   "execution_count": null,
   "id": "9718e025",
   "metadata": {},
   "outputs": [],
   "source": []
  }
 ],
 "metadata": {
  "kernelspec": {
   "display_name": "Python 3 (ipykernel)",
   "language": "python",
   "name": "python3"
  },
  "language_info": {
   "codemirror_mode": {
    "name": "ipython",
    "version": 3
   },
   "file_extension": ".py",
   "mimetype": "text/x-python",
   "name": "python",
   "nbconvert_exporter": "python",
   "pygments_lexer": "ipython3",
   "version": "3.8.10"
  },
  "toc": {
   "base_numbering": 1,
   "nav_menu": {},
   "number_sections": true,
   "sideBar": true,
   "skip_h1_title": false,
   "title_cell": "Table of Contents",
   "title_sidebar": "Contents",
   "toc_cell": false,
   "toc_position": {},
   "toc_section_display": true,
   "toc_window_display": false
  },
  "varInspector": {
   "cols": {
    "lenName": 16,
    "lenType": 16,
    "lenVar": 40
   },
   "kernels_config": {
    "python": {
     "delete_cmd_postfix": "",
     "delete_cmd_prefix": "del ",
     "library": "var_list.py",
     "varRefreshCmd": "print(var_dic_list())"
    },
    "r": {
     "delete_cmd_postfix": ") ",
     "delete_cmd_prefix": "rm(",
     "library": "var_list.r",
     "varRefreshCmd": "cat(var_dic_list()) "
    }
   },
   "types_to_exclude": [
    "module",
    "function",
    "builtin_function_or_method",
    "instance",
    "_Feature"
   ],
   "window_display": false
  }
 },
 "nbformat": 4,
 "nbformat_minor": 5
}
