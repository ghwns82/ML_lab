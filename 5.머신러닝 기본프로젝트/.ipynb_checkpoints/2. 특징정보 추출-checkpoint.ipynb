{
 "cells": [
  {
   "cell_type": "markdown",
   "id": "bcb40497",
   "metadata": {},
   "source": [
    "# 개요"
   ]
  },
  {
   "cell_type": "markdown",
   "id": "f79b4cae",
   "metadata": {},
   "source": [
    "* 특징정보를 뽑을 수 있는 aapt, dexdump 같은 툴을 사용하여 관련 정보를 추출하는 작업\n",
    "\n",
    "* androguard를 사용하면 2.특징정보 추출과 3.벡터테이블 생성을 한번에 편하게 할 수 있다."
   ]
  },
  {
   "cell_type": "markdown",
   "id": "2ca28bd5",
   "metadata": {},
   "source": [
    "# 예시코드"
   ]
  },
  {
   "cell_type": "markdown",
   "id": "fd2d0167",
   "metadata": {},
   "source": [
    "예시코드에서는 Permission과 api 특징정보만 사용할 예정이다"
   ]
  },
  {
   "cell_type": "code",
   "execution_count": 10,
   "id": "c4747eb5",
   "metadata": {
    "ExecuteTime": {
     "end_time": "2023-01-16T05:59:00.969258Z",
     "start_time": "2023-01-16T05:59:00.921728Z"
    }
   },
   "outputs": [],
   "source": [
    "import subprocess, os\n",
    "# from tqdm import tqdm"
   ]
  },
  {
   "cell_type": "code",
   "execution_count": 9,
   "id": "39ba8173",
   "metadata": {
    "ExecuteTime": {
     "end_time": "2023-01-16T05:57:53.724891Z",
     "start_time": "2023-01-16T05:57:53.712067Z"
    }
   },
   "outputs": [],
   "source": [
    "with open('./benign/benign_list_1000.txt', 'r') as f:\n",
    "    b_list = f.read().split(\"\\n\")\n",
    "with open('./malware/malware_list_1000.txt', 'r') as f:\n",
    "    m_list = f.read().split(\"\\n\")"
   ]
  },
  {
   "cell_type": "code",
   "execution_count": 14,
   "id": "636dd1fc",
   "metadata": {
    "ExecuteTime": {
     "end_time": "2023-01-16T06:03:23.625027Z",
     "start_time": "2023-01-16T06:03:23.620991Z"
    }
   },
   "outputs": [],
   "source": [
    "if not os.path.isdir('./benign/api'):\n",
    "    os.mkdir('./benign/api')\n",
    "if not os.path.isdir('./benign/permission'):\n",
    "    os.mkdir('./benign/permission')\n",
    "if not os.path.isdir('./malware/api'):\n",
    "    os.mkdir('./malware/api')\n",
    "if not os.path.isdir('./malware/permission'):\n",
    "    os.mkdir('./malware/permission')"
   ]
  },
  {
   "cell_type": "markdown",
   "id": "ed5c2eff",
   "metadata": {},
   "source": [
    "permission"
   ]
  },
  {
   "cell_type": "code",
   "execution_count": 18,
   "id": "cff99e1d",
   "metadata": {
    "ExecuteTime": {
     "end_time": "2023-01-16T06:05:15.240939Z",
     "start_time": "2023-01-16T06:04:50.869953Z"
    }
   },
   "outputs": [
    {
     "name": "stderr",
     "output_type": "stream",
     "text": [
      "100%|██████████| 1000/1000 [00:24<00:00, 41.04it/s]\n"
     ]
    }
   ],
   "source": [
    "save_path = './benign/permission'\n",
    "for apk_path in b_list:\n",
    "# for apk_path in tqdm(b_list):\n",
    "    apk = os.path.split(apk_path)[1]\n",
    "    apk_name = os.path.splitext(apk)[0]\n",
    "    save_txt_path = save_path+apk_name+'.txt'\n",
    "    terminal = f'aapt d permissions {apk_path} > {save_txt_path}'\n",
    "    result = subprocess.run(terminal, shell = True)"
   ]
  },
  {
   "cell_type": "code",
   "execution_count": 19,
   "id": "0d8c57a6",
   "metadata": {
    "ExecuteTime": {
     "end_time": "2023-01-16T06:05:39.329203Z",
     "start_time": "2023-01-16T06:05:15.252289Z"
    }
   },
   "outputs": [
    {
     "name": "stderr",
     "output_type": "stream",
     "text": [
      "100%|██████████| 1000/1000 [00:24<00:00, 41.54it/s]\n"
     ]
    }
   ],
   "source": [
    "save_path = './malware/permission'\n",
    "for apk_path in m_list:\n",
    "# for apk_path in tqdm(m_list):\n",
    "    apk = os.path.split(apk_path)[1]\n",
    "    apk_name = os.path.splitext(apk)[0]\n",
    "    save_txt_path = save_path+apk_name+'.txt'\n",
    "    terminal = f'aapt d permissions {apk_path} > {save_txt_path}'\n",
    "    result = subprocess.run(terminal, shell = True)"
   ]
  },
  {
   "cell_type": "markdown",
   "id": "31019843",
   "metadata": {},
   "source": [
    "api"
   ]
  },
  {
   "cell_type": "code",
   "execution_count": null,
   "id": "af845d90",
   "metadata": {
    "ExecuteTime": {
     "start_time": "2023-01-16T06:05:50.875Z"
    }
   },
   "outputs": [
    {
     "name": "stderr",
     "output_type": "stream",
     "text": [
      "  4%|▍         | 43/1000 [00:39<19:45,  1.24s/it]"
     ]
    }
   ],
   "source": [
    "save_path = './benign/api'\n",
    "for apk_path in b_list:\n",
    "# for apk_path in tqdm(b_list):\n",
    "    apk = os.path.split(apk_path)[1]\n",
    "    apk_name = os.path.splitext(apk)[0]\n",
    "    save_txt_path = save_path+apk_name+'.txt'\n",
    "    terminal = f\"dexdump -d {apk_path} | grep invoke- | cut -d '}}' -f 2 | cut -d ' ' -f 2 > {save_txt_path}\"\n",
    "    result = subprocess.run(terminal, shell = True)"
   ]
  },
  {
   "cell_type": "code",
   "execution_count": null,
   "id": "3c287591",
   "metadata": {
    "ExecuteTime": {
     "start_time": "2023-01-16T06:06:07.486Z"
    }
   },
   "outputs": [],
   "source": [
    "save_path = './malware/api'\n",
    "for apk_path in m_list:\n",
    "# for apk_path in tqdm(m_list):\n",
    "    apk = os.path.split(apk_path)[1]\n",
    "    apk_name = os.path.splitext(apk)[0]\n",
    "    save_txt_path = save_path+apk_name+'.txt'\n",
    "    terminal = f\"dexdump -d {apk_path} | grep invoke- | cut -d '}}' -f 2 | cut -d ' ' -f 2 > {save_txt_path}\"\n",
    "    result = subprocess.run(terminal, shell = True)"
   ]
  }
 ],
 "metadata": {
  "kernelspec": {
   "display_name": "Python 3 (ipykernel)",
   "language": "python",
   "name": "python3"
  },
  "language_info": {
   "codemirror_mode": {
    "name": "ipython",
    "version": 3
   },
   "file_extension": ".py",
   "mimetype": "text/x-python",
   "name": "python",
   "nbconvert_exporter": "python",
   "pygments_lexer": "ipython3",
   "version": "3.8.10"
  },
  "toc": {
   "base_numbering": 1,
   "nav_menu": {},
   "number_sections": true,
   "sideBar": true,
   "skip_h1_title": false,
   "title_cell": "Table of Contents",
   "title_sidebar": "Contents",
   "toc_cell": false,
   "toc_position": {},
   "toc_section_display": true,
   "toc_window_display": false
  },
  "varInspector": {
   "cols": {
    "lenName": 16,
    "lenType": 16,
    "lenVar": 40
   },
   "kernels_config": {
    "python": {
     "delete_cmd_postfix": "",
     "delete_cmd_prefix": "del ",
     "library": "var_list.py",
     "varRefreshCmd": "print(var_dic_list())"
    },
    "r": {
     "delete_cmd_postfix": ") ",
     "delete_cmd_prefix": "rm(",
     "library": "var_list.r",
     "varRefreshCmd": "cat(var_dic_list()) "
    }
   },
   "types_to_exclude": [
    "module",
    "function",
    "builtin_function_or_method",
    "instance",
    "_Feature"
   ],
   "window_display": false
  }
 },
 "nbformat": 4,
 "nbformat_minor": 5
}
