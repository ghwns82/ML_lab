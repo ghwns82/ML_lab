{
 "cells": [
  {
   "cell_type": "markdown",
   "id": "effd1cec",
   "metadata": {},
   "source": [
    "# 개요"
   ]
  },
  {
   "cell_type": "markdown",
   "id": "b1624c53",
   "metadata": {},
   "source": [
    "**데이터 탐색 및 선별을 하는 이유**\n",
    "* nas에 apk 파일이 흩어져있기 때문에, 먼저 apk 파일 위치를 찾는 것부터 시작한다.\n",
    "* benign과 malware의 개수가 다르기 때문에 실험할 개수는 1대1로 맞춘다 (개수가 크게 차이나면 편향발생)"
   ]
  },
  {
   "cell_type": "code",
   "execution_count": 2,
   "id": "0d76c2b7",
   "metadata": {
    "ExecuteTime": {
     "end_time": "2023-01-16T05:26:26.427540Z",
     "start_time": "2023-01-16T05:26:26.425098Z"
    }
   },
   "outputs": [],
   "source": [
    "import os, random"
   ]
  },
  {
   "cell_type": "code",
   "execution_count": 11,
   "id": "3e7769af",
   "metadata": {
    "ExecuteTime": {
     "end_time": "2023-01-16T05:40:33.887177Z",
     "start_time": "2023-01-16T05:40:33.880834Z"
    }
   },
   "outputs": [],
   "source": [
    "# 현재(23.01.16) nas가 터졌기 때문에 로컬에서 진행\n",
    "\n",
    "b_list = []\n",
    "for root, dirs, files in os.walk('/mnt/f/Benign/'):\n",
    "    for file in files:\n",
    "        if os.path.splitext(file)[1] == '.apk':\n",
    "            b_list.append(root +'/'+ file)\n",
    "m_list = []\n",
    "for root, dirs, files in os.walk('/mnt/f/Malware/'):\n",
    "    for file in files:\n",
    "        if os.path.splitext(file)[1] == '.apk':\n",
    "            m_list.append(root +'/'+ file)"
   ]
  },
  {
   "cell_type": "code",
   "execution_count": 12,
   "id": "7eabb176",
   "metadata": {
    "ExecuteTime": {
     "end_time": "2023-01-16T05:40:34.154617Z",
     "start_time": "2023-01-16T05:40:34.150498Z"
    }
   },
   "outputs": [
    {
     "data": {
      "text/plain": [
       "(43, 1096)"
      ]
     },
     "execution_count": 12,
     "metadata": {},
     "output_type": "execute_result"
    }
   ],
   "source": [
    "len(b_list), len(m_list)"
   ]
  },
  {
   "cell_type": "code",
   "execution_count": 13,
   "id": "0613bddf",
   "metadata": {
    "ExecuteTime": {
     "end_time": "2023-01-16T05:40:34.654798Z",
     "start_time": "2023-01-16T05:40:34.651651Z"
    }
   },
   "outputs": [],
   "source": [
    "random.shuffle(b_list)\n",
    "random.shuffle(m_list)\n",
    "b_list=b_list[:1000]\n",
    "m_list=m_list[:1000]"
   ]
  },
  {
   "cell_type": "code",
   "execution_count": 14,
   "id": "ebe0ee81",
   "metadata": {
    "ExecuteTime": {
     "end_time": "2023-01-16T05:40:35.658060Z",
     "start_time": "2023-01-16T05:40:35.653518Z"
    }
   },
   "outputs": [],
   "source": [
    "if not os.path.isdir('./txt'):\n",
    "    os.mkdir('./txt')\n",
    "    \n",
    "with open('./benign_list_1000','w') as f:\n",
    "    f.writelines('\\n'.join(b_list))\n",
    "with open('./malware_list_1000','w') as f:\n",
    "    f.writelines('\\n'.join(b_list))"
   ]
  }
 ],
 "metadata": {
  "kernelspec": {
   "display_name": "Python 3 (ipykernel)",
   "language": "python",
   "name": "python3"
  },
  "language_info": {
   "codemirror_mode": {
    "name": "ipython",
    "version": 3
   },
   "file_extension": ".py",
   "mimetype": "text/x-python",
   "name": "python",
   "nbconvert_exporter": "python",
   "pygments_lexer": "ipython3",
   "version": "3.8.10"
  },
  "toc": {
   "base_numbering": 1,
   "nav_menu": {},
   "number_sections": true,
   "sideBar": true,
   "skip_h1_title": false,
   "title_cell": "Table of Contents",
   "title_sidebar": "Contents",
   "toc_cell": false,
   "toc_position": {},
   "toc_section_display": true,
   "toc_window_display": false
  },
  "varInspector": {
   "cols": {
    "lenName": 16,
    "lenType": 16,
    "lenVar": 40
   },
   "kernels_config": {
    "python": {
     "delete_cmd_postfix": "",
     "delete_cmd_prefix": "del ",
     "library": "var_list.py",
     "varRefreshCmd": "print(var_dic_list())"
    },
    "r": {
     "delete_cmd_postfix": ") ",
     "delete_cmd_prefix": "rm(",
     "library": "var_list.r",
     "varRefreshCmd": "cat(var_dic_list()) "
    }
   },
   "types_to_exclude": [
    "module",
    "function",
    "builtin_function_or_method",
    "instance",
    "_Feature"
   ],
   "window_display": false
  }
 },
 "nbformat": 4,
 "nbformat_minor": 5
}
