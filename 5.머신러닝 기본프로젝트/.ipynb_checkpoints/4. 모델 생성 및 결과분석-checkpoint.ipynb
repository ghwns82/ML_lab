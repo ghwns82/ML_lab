{
 "cells": [
  {
   "cell_type": "markdown",
   "id": "82289a01",
   "metadata": {},
   "source": [
    "# 개요"
   ]
  },
  {
   "cell_type": "markdown",
   "id": "93b35dd2",
   "metadata": {},
   "source": [
    "* 벡터테이블을 사용하여 머신러닝 모델에 학습시킬 데이터를 완성한다\n",
    "* 학습데이터를 바탕으로 성능을 측정한다\n",
    "* accuracy, feature importance, confusion matrix 등 실험에 대한 다양한 결과를 추출한다"
   ]
  },
  {
   "cell_type": "markdown",
   "id": "c6d8d637",
   "metadata": {},
   "source": [
    "# 코드"
   ]
  },
  {
   "cell_type": "code",
   "execution_count": 1,
   "id": "42c1cbcd",
   "metadata": {
    "ExecuteTime": {
     "end_time": "2023-01-16T09:43:07.467126Z",
     "start_time": "2023-01-16T09:43:06.408457Z"
    }
   },
   "outputs": [],
   "source": [
    "from sklearn.ensemble import RandomForestClassifier\n",
    "from sklearn.model_selection import train_test_split\n",
    "from sklearn.metrics import f1_score, confusion_matrix, ConfusionMatrixDisplay\n",
    "import pandas as pd\n",
    "\n",
    "import matplotlib.pyplot as plt"
   ]
  },
  {
   "cell_type": "code",
   "execution_count": 2,
   "id": "2f4dea0d",
   "metadata": {
    "ExecuteTime": {
     "end_time": "2023-01-16T09:43:07.543479Z",
     "start_time": "2023-01-16T09:43:07.468517Z"
    }
   },
   "outputs": [],
   "source": [
    "bp_df = pd.read_csv('./benign/csv/benign_perm.csv', header=None)\n",
    "mp_df = pd.read_csv('./malware/csv/malware_perm.csv', header=None)"
   ]
  },
  {
   "cell_type": "code",
   "execution_count": 3,
   "id": "121baed9",
   "metadata": {
    "ExecuteTime": {
     "end_time": "2023-01-16T09:43:07.554484Z",
     "start_time": "2023-01-16T09:43:07.544393Z"
    }
   },
   "outputs": [],
   "source": [
    "p_df=pd.concat([bp_df,mp_df])"
   ]
  },
  {
   "cell_type": "code",
   "execution_count": 4,
   "id": "0502d4e9",
   "metadata": {
    "ExecuteTime": {
     "end_time": "2023-01-16T09:43:07.822151Z",
     "start_time": "2023-01-16T09:43:07.556214Z"
    }
   },
   "outputs": [],
   "source": [
    "ba_df = pd.read_csv('./benign/csv/benign_api.csv', header=None)\n",
    "ma_df = pd.read_csv('./malware/csv/malware_api.csv', header=None)"
   ]
  },
  {
   "cell_type": "code",
   "execution_count": 5,
   "id": "4214f48f",
   "metadata": {
    "ExecuteTime": {
     "end_time": "2023-01-16T09:43:07.852628Z",
     "start_time": "2023-01-16T09:43:07.823252Z"
    }
   },
   "outputs": [],
   "source": [
    "a_df=pd.concat([ba_df,ma_df])"
   ]
  },
  {
   "cell_type": "markdown",
   "id": "94a56da3",
   "metadata": {},
   "source": [
    "## 실험"
   ]
  },
  {
   "cell_type": "markdown",
   "id": "70fbedb5",
   "metadata": {},
   "source": [
    "### 실험 1 : permission을 사용하여 성능 측정"
   ]
  },
  {
   "cell_type": "code",
   "execution_count": 6,
   "id": "a23fd74d",
   "metadata": {
    "ExecuteTime": {
     "end_time": "2023-01-16T09:43:07.855562Z",
     "start_time": "2023-01-16T09:43:07.853587Z"
    }
   },
   "outputs": [],
   "source": [
    "p_df_label = [0]*len(bp_df) + [1]*len(mp_df)"
   ]
  },
  {
   "cell_type": "code",
   "execution_count": 7,
   "id": "ddaccbea",
   "metadata": {
    "ExecuteTime": {
     "end_time": "2023-01-16T09:43:07.864680Z",
     "start_time": "2023-01-16T09:43:07.856674Z"
    }
   },
   "outputs": [],
   "source": [
    " X_train, X_test, y_train, y_test = train_test_split(p_df, p_df_label, test_size=0.3, random_state=1234)"
   ]
  },
  {
   "cell_type": "code",
   "execution_count": 8,
   "id": "72ae1665",
   "metadata": {
    "ExecuteTime": {
     "end_time": "2023-01-16T09:43:07.994656Z",
     "start_time": "2023-01-16T09:43:07.865584Z"
    }
   },
   "outputs": [],
   "source": [
    "model1=RandomForestClassifier(random_state=42).fit(X_train, y_train)"
   ]
  },
  {
   "cell_type": "code",
   "execution_count": 9,
   "id": "40a1de32",
   "metadata": {
    "ExecuteTime": {
     "end_time": "2023-01-16T09:43:08.015711Z",
     "start_time": "2023-01-16T09:43:07.995704Z"
    }
   },
   "outputs": [
    {
     "data": {
      "text/plain": [
       "0.9916666666666667"
      ]
     },
     "execution_count": 9,
     "metadata": {},
     "output_type": "execute_result"
    }
   ],
   "source": [
    "m1_score = model1.score(X_test, y_test)\n",
    "m1_score"
   ]
  },
  {
   "cell_type": "code",
   "execution_count": 10,
   "id": "a0d4926c",
   "metadata": {
    "ExecuteTime": {
     "end_time": "2023-01-16T09:43:08.037662Z",
     "start_time": "2023-01-16T09:43:08.018074Z"
    }
   },
   "outputs": [
    {
     "data": {
      "text/plain": [
       "0.9917898193760263"
      ]
     },
     "execution_count": 10,
     "metadata": {},
     "output_type": "execute_result"
    }
   ],
   "source": [
    "m1_fscore=f1_score(y_test, model1.predict(X_test))\n",
    "m1_fscore"
   ]
  },
  {
   "cell_type": "code",
   "execution_count": 11,
   "id": "23f0ec6e",
   "metadata": {
    "ExecuteTime": {
     "end_time": "2023-01-16T09:43:08.156277Z",
     "start_time": "2023-01-16T09:43:08.039000Z"
    }
   },
   "outputs": [
    {
     "data": {
      "text/plain": [
       "<sklearn.metrics._plot.confusion_matrix.ConfusionMatrixDisplay at 0x7fcb197074c0>"
      ]
     },
     "execution_count": 11,
     "metadata": {},
     "output_type": "execute_result"
    },
    {
     "data": {
      "image/png": "[encoded data removed]",
      "text/plain": [
       "<Figure size 432x288 with 2 Axes>"
      ]
     },
     "metadata": {
      "needs_background": "light"
     },
     "output_type": "display_data"
    }
   ],
   "source": [
    "cm = confusion_matrix(y_test, model1.predict(X_test))\n",
    "disp = ConfusionMatrixDisplay(cm, display_labels=['mal','ben'])\n",
    "disp.plot(cmap='Greys')"
   ]
  },
  {
   "cell_type": "markdown",
   "id": "7cc81125",
   "metadata": {},
   "source": [
    "### 실험 2 : api를 사용하여 성능측정"
   ]
  },
  {
   "cell_type": "code",
   "execution_count": 12,
   "id": "6024c606",
   "metadata": {
    "ExecuteTime": {
     "end_time": "2023-01-16T09:43:08.159453Z",
     "start_time": "2023-01-16T09:43:08.157484Z"
    }
   },
   "outputs": [],
   "source": [
    "a_df_label = [0]*len(ba_df) + [1]*len(ma_df)"
   ]
  },
  {
   "cell_type": "code",
   "execution_count": 13,
   "id": "8dcb7e3a",
   "metadata": {
    "ExecuteTime": {
     "end_time": "2023-01-16T09:43:08.197945Z",
     "start_time": "2023-01-16T09:43:08.160655Z"
    }
   },
   "outputs": [],
   "source": [
    " X_train, X_test, y_train, y_test = train_test_split(a_df, a_df_label, test_size=0.3, random_state=1234)"
   ]
  },
  {
   "cell_type": "code",
   "execution_count": 14,
   "id": "d703b0d3",
   "metadata": {
    "ExecuteTime": {
     "end_time": "2023-01-16T09:43:08.481533Z",
     "start_time": "2023-01-16T09:43:08.198944Z"
    }
   },
   "outputs": [],
   "source": [
    "model2=RandomForestClassifier(random_state=42).fit(X_train, y_train)"
   ]
  },
  {
   "cell_type": "code",
   "execution_count": 15,
   "id": "99c6ff97",
   "metadata": {
    "ExecuteTime": {
     "end_time": "2023-01-16T09:43:08.541539Z",
     "start_time": "2023-01-16T09:43:08.482687Z"
    }
   },
   "outputs": [
    {
     "data": {
      "text/plain": [
       "0.965"
      ]
     },
     "execution_count": 15,
     "metadata": {},
     "output_type": "execute_result"
    }
   ],
   "source": [
    "m2_score = model2.score(X_test, y_test)\n",
    "m2_score"
   ]
  },
  {
   "cell_type": "code",
   "execution_count": 16,
   "id": "dd33e330",
   "metadata": {
    "ExecuteTime": {
     "end_time": "2023-01-16T09:43:08.566706Z",
     "start_time": "2023-01-16T09:43:08.542596Z"
    },
    "scrolled": false
   },
   "outputs": [
    {
     "data": {
      "text/plain": [
       "0.9644670050761421"
      ]
     },
     "execution_count": 16,
     "metadata": {},
     "output_type": "execute_result"
    }
   ],
   "source": [
    "m2_fscore=f1_score(y_test, model2.predict(X_test))\n",
    "m2_fscore"
   ]
  },
  {
   "cell_type": "code",
   "execution_count": 17,
   "id": "35493315",
   "metadata": {
    "ExecuteTime": {
     "end_time": "2023-01-16T09:43:08.634931Z",
     "start_time": "2023-01-16T09:43:08.568046Z"
    }
   },
   "outputs": [
    {
     "data": {
      "text/plain": [
       "<sklearn.metrics._plot.confusion_matrix.ConfusionMatrixDisplay at 0x7fcb841b7f70>"
      ]
     },
     "execution_count": 17,
     "metadata": {},
     "output_type": "execute_result"
    },
    {
     "data": {
      "image/png": "[encoded data removed]",
      "text/plain": [
       "<Figure size 432x288 with 1 Axes>"
      ]
     },
     "metadata": {
      "needs_background": "light"
     },
     "output_type": "display_data"
    }
   ],
   "source": [
    "cm = confusion_matrix(y_test, model2.predict(X_test))\n",
    "disp = ConfusionMatrixDisplay(cm, display_labels=['mal','ben'])\n",
    "disp.plot(cmap='Greys', colorbar=False)"
   ]
  },
  {
   "cell_type": "markdown",
   "id": "04f73659",
   "metadata": {},
   "source": [
    "### 실험 3 : perm, api를 사용하여 성능측정"
   ]
  },
  {
   "cell_type": "code",
   "execution_count": 18,
   "id": "8dc82058",
   "metadata": {
    "ExecuteTime": {
     "end_time": "2023-01-16T09:43:08.670234Z",
     "start_time": "2023-01-16T09:43:08.635995Z"
    }
   },
   "outputs": [],
   "source": [
    "df = pd.concat([p_df,a_df], axis=1)"
   ]
  },
  {
   "cell_type": "code",
   "execution_count": 19,
   "id": "50aa9879",
   "metadata": {
    "ExecuteTime": {
     "end_time": "2023-01-16T09:43:08.673979Z",
     "start_time": "2023-01-16T09:43:08.671664Z"
    }
   },
   "outputs": [],
   "source": [
    "df_label = [0]*len(ba_df) + [1]*len(ma_df)"
   ]
  },
  {
   "cell_type": "code",
   "execution_count": 20,
   "id": "9102df86",
   "metadata": {
    "ExecuteTime": {
     "end_time": "2023-01-16T09:43:08.783480Z",
     "start_time": "2023-01-16T09:43:08.675163Z"
    }
   },
   "outputs": [],
   "source": [
    " X_train, X_test, y_train, y_test = train_test_split(df, df_label, test_size=0.3, random_state=1234)"
   ]
  },
  {
   "cell_type": "code",
   "execution_count": 21,
   "id": "6d9fcc44",
   "metadata": {
    "ExecuteTime": {
     "end_time": "2023-01-16T09:43:09.013149Z",
     "start_time": "2023-01-16T09:43:08.784492Z"
    }
   },
   "outputs": [],
   "source": [
    "model3=RandomForestClassifier(random_state=42).fit(X_train, y_train)"
   ]
  },
  {
   "cell_type": "code",
   "execution_count": 22,
   "id": "86c5dcc0",
   "metadata": {
    "ExecuteTime": {
     "end_time": "2023-01-16T09:43:09.038453Z",
     "start_time": "2023-01-16T09:43:09.014110Z"
    }
   },
   "outputs": [
    {
     "data": {
      "text/plain": [
       "0.9916666666666667"
      ]
     },
     "execution_count": 22,
     "metadata": {},
     "output_type": "execute_result"
    }
   ],
   "source": [
    "m3_score = model3.score(X_test, y_test)\n",
    "m3_score"
   ]
  },
  {
   "cell_type": "code",
   "execution_count": 23,
   "id": "24268545",
   "metadata": {
    "ExecuteTime": {
     "end_time": "2023-01-16T09:43:09.064066Z",
     "start_time": "2023-01-16T09:43:09.039457Z"
    },
    "scrolled": true
   },
   "outputs": [
    {
     "data": {
      "text/plain": [
       "0.9916805324459235"
      ]
     },
     "execution_count": 23,
     "metadata": {},
     "output_type": "execute_result"
    }
   ],
   "source": [
    "m3_fscore=f1_score(y_test, model3.predict(X_test))\n",
    "m3_fscore"
   ]
  },
  {
   "cell_type": "code",
   "execution_count": 24,
   "id": "53382bef",
   "metadata": {
    "ExecuteTime": {
     "end_time": "2023-01-16T09:43:09.133853Z",
     "start_time": "2023-01-16T09:43:09.064988Z"
    }
   },
   "outputs": [
    {
     "data": {
      "text/plain": [
       "<sklearn.metrics._plot.confusion_matrix.ConfusionMatrixDisplay at 0x7fcb17a6d040>"
      ]
     },
     "execution_count": 24,
     "metadata": {},
     "output_type": "execute_result"
    },
    {
     "data": {
      "image/png": "[encoded data removed]",
      "text/plain": [
       "<Figure size 432x288 with 1 Axes>"
      ]
     },
     "metadata": {
      "needs_background": "light"
     },
     "output_type": "display_data"
    }
   ],
   "source": [
    "cm = confusion_matrix(y_test, model3.predict(X_test))\n",
    "disp = ConfusionMatrixDisplay(cm, display_labels=['mal','ben'])\n",
    "disp.plot(cmap='Greys', colorbar=False)"
   ]
  },
  {
   "cell_type": "markdown",
   "id": "0ac1cf42",
   "metadata": {},
   "source": [
    "## Feature importance"
   ]
  },
  {
   "cell_type": "markdown",
   "id": "66d6bc8d",
   "metadata": {},
   "source": [
    "### 실험 1"
   ]
  },
  {
   "cell_type": "code",
   "execution_count": 25,
   "id": "0ff12ee6",
   "metadata": {
    "ExecuteTime": {
     "end_time": "2023-01-16T09:43:09.137667Z",
     "start_time": "2023-01-16T09:43:09.134885Z"
    }
   },
   "outputs": [],
   "source": [
    "with open ('./data/474_perm.txt') as f:\n",
    "    perm_474=f.read().split('\\n')"
   ]
  },
  {
   "cell_type": "code",
   "execution_count": 26,
   "id": "d2c5cb3c",
   "metadata": {
    "ExecuteTime": {
     "end_time": "2023-01-16T09:43:09.153405Z",
     "start_time": "2023-01-16T09:43:09.138870Z"
    }
   },
   "outputs": [],
   "source": [
    "top_10_perm = sorted(list(zip(model1.feature_importances_, perm_474)), reverse=True)[:10]"
   ]
  },
  {
   "cell_type": "code",
   "execution_count": 27,
   "id": "a1ff613e",
   "metadata": {
    "ExecuteTime": {
     "end_time": "2023-01-16T09:43:09.157933Z",
     "start_time": "2023-01-16T09:43:09.155151Z"
    }
   },
   "outputs": [],
   "source": [
    "fi_df = pd.DataFrame(top_10_perm[::-1])"
   ]
  },
  {
   "cell_type": "code",
   "execution_count": 28,
   "id": "e82c87bd",
   "metadata": {
    "ExecuteTime": {
     "end_time": "2023-01-16T09:43:09.312116Z",
     "start_time": "2023-01-16T09:43:09.161797Z"
    }
   },
   "outputs": [
    {
     "data": {
      "text/plain": [
       "<AxesSubplot:ylabel='1'>"
      ]
     },
     "execution_count": 28,
     "metadata": {},
     "output_type": "execute_result"
    },
    {
     "data": {
      "image/png": "[encoded data removed]",
      "text/plain": [
       "<Figure size 432x288 with 1 Axes>"
      ]
     },
     "metadata": {
      "needs_background": "light"
     },
     "output_type": "display_data"
    }
   ],
   "source": [
    "fi_df = fi_df.set_index(1)\n",
    "fi_df.plot(kind='barh')"
   ]
  },
  {
   "cell_type": "markdown",
   "id": "374970f3",
   "metadata": {},
   "source": [
    "### 실험 2"
   ]
  },
  {
   "cell_type": "code",
   "execution_count": 29,
   "id": "f02b4fc0",
   "metadata": {
    "ExecuteTime": {
     "end_time": "2023-01-16T09:43:09.316164Z",
     "start_time": "2023-01-16T09:43:09.313139Z"
    }
   },
   "outputs": [],
   "source": [
    "with open ('./data/1848_api.txt') as f:\n",
    "    api_1848=f.read().split('\\n')"
   ]
  },
  {
   "cell_type": "code",
   "execution_count": 30,
   "id": "24d57c47",
   "metadata": {
    "ExecuteTime": {
     "end_time": "2023-01-16T09:43:09.328567Z",
     "start_time": "2023-01-16T09:43:09.317513Z"
    }
   },
   "outputs": [],
   "source": [
    "top_10_api = sorted(list(zip(model2.feature_importances_, api_1848)), reverse=True)[:10]"
   ]
  },
  {
   "cell_type": "code",
   "execution_count": 31,
   "id": "2f7213cd",
   "metadata": {
    "ExecuteTime": {
     "end_time": "2023-01-16T09:43:09.331717Z",
     "start_time": "2023-01-16T09:43:09.329491Z"
    }
   },
   "outputs": [],
   "source": [
    "fi_df = pd.DataFrame(top_10_api[::-1])"
   ]
  },
  {
   "cell_type": "code",
   "execution_count": 32,
   "id": "dcbde56c",
   "metadata": {
    "ExecuteTime": {
     "end_time": "2023-01-16T09:43:09.480592Z",
     "start_time": "2023-01-16T09:43:09.332884Z"
    }
   },
   "outputs": [
    {
     "data": {
      "text/plain": [
       "<AxesSubplot:ylabel='1'>"
      ]
     },
     "execution_count": 32,
     "metadata": {},
     "output_type": "execute_result"
    },
    {
     "data": {
      "image/png": "[encoded data removed]",
      "text/plain": [
       "<Figure size 432x288 with 1 Axes>"
      ]
     },
     "metadata": {
      "needs_background": "light"
     },
     "output_type": "display_data"
    }
   ],
   "source": [
    "fi_df = fi_df.set_index(1)\n",
    "fi_df.plot(kind='barh')"
   ]
  },
  {
   "cell_type": "markdown",
   "id": "f61319d3",
   "metadata": {},
   "source": [
    "### 실험 3"
   ]
  },
  {
   "cell_type": "code",
   "execution_count": 33,
   "id": "f1ce5ed1",
   "metadata": {
    "ExecuteTime": {
     "end_time": "2023-01-16T09:43:09.494741Z",
     "start_time": "2023-01-16T09:43:09.481715Z"
    }
   },
   "outputs": [],
   "source": [
    "top_10 = sorted(list(zip(model3.feature_importances_, perm_474+api_1848)), reverse=True)[:10]"
   ]
  },
  {
   "cell_type": "code",
   "execution_count": 34,
   "id": "691ccdbe",
   "metadata": {
    "ExecuteTime": {
     "end_time": "2023-01-16T09:43:09.498724Z",
     "start_time": "2023-01-16T09:43:09.495700Z"
    }
   },
   "outputs": [],
   "source": [
    "fi_df = pd.DataFrame(top_10[::-1])"
   ]
  },
  {
   "cell_type": "code",
   "execution_count": 35,
   "id": "498c1a7d",
   "metadata": {
    "ExecuteTime": {
     "end_time": "2023-01-16T09:43:09.643623Z",
     "start_time": "2023-01-16T09:43:09.500283Z"
    }
   },
   "outputs": [
    {
     "data": {
      "text/plain": [
       "<AxesSubplot:ylabel='1'>"
      ]
     },
     "execution_count": 35,
     "metadata": {},
     "output_type": "execute_result"
    },
    {
     "data": {
      "image/png": "[encoded data removed]",
      "text/plain": [
       "<Figure size 432x288 with 1 Axes>"
      ]
     },
     "metadata": {
      "needs_background": "light"
     },
     "output_type": "display_data"
    }
   ],
   "source": [
    "fi_df = fi_df.set_index(1)\n",
    "fi_df.plot(kind='barh')"
   ]
  }
 ],
 "metadata": {
  "kernelspec": {
   "display_name": "Python 3 (ipykernel)",
   "language": "python",
   "name": "python3"
  },
  "language_info": {
   "codemirror_mode": {
    "name": "ipython",
    "version": 3
   },
   "file_extension": ".py",
   "mimetype": "text/x-python",
   "name": "python",
   "nbconvert_exporter": "python",
   "pygments_lexer": "ipython3",
   "version": "3.8.10"
  },
  "toc": {
   "base_numbering": 1,
   "nav_menu": {},
   "number_sections": true,
   "sideBar": true,
   "skip_h1_title": false,
   "title_cell": "Table of Contents",
   "title_sidebar": "Contents",
   "toc_cell": false,
   "toc_position": {},
   "toc_section_display": true,
   "toc_window_display": false
  },
  "varInspector": {
   "cols": {
    "lenName": 16,
    "lenType": 16,
    "lenVar": 40
   },
   "kernels_config": {
    "python": {
     "delete_cmd_postfix": "",
     "delete_cmd_prefix": "del ",
     "library": "var_list.py",
     "varRefreshCmd": "print(var_dic_list())"
    },
    "r": {
     "delete_cmd_postfix": ") ",
     "delete_cmd_prefix": "rm(",
     "library": "var_list.r",
     "varRefreshCmd": "cat(var_dic_list()) "
    }
   },
   "types_to_exclude": [
    "module",
    "function",
    "builtin_function_or_method",
    "instance",
    "_Feature"
   ],
   "window_display": false
  }
 },
 "nbformat": 4,
 "nbformat_minor": 5
}
