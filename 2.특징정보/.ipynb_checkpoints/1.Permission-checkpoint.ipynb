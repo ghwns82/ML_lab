{
 "cells": [
  {
   "cell_type": "markdown",
   "id": "bf0eb296",
   "metadata": {},
   "source": [
    "# 개요"
   ]
  },
  {
   "cell_type": "markdown",
   "id": "08300097",
   "metadata": {},
   "source": [
    "* 안드로이드 앱은 핸드폰의 제한된 공간에서 작동 되는데 앱 외부에 있는 리소스(카메라, SMS, 저장공간 등)에 접속하기 위해서 핸드폰 소유자의 접근 허가 권한을 받아야 이용이 가능하다. Permission이란 안드로이드 애플리케이션이 특정 기능을 수행할 수 있는 권한(rights)을 요구하는 것임\n",
    "* 안드로이드 마쉬멜로우 이전 버전에서는 코드상에 권한허가를 넣어주면 권한 획득이 가능했는데 마쉬멜로우 버전 이후부터는 사용자가 직접 권한을 허락해야 사용이 가능하도록 바뀜\n",
    "* 안드로이드 6.0 버전부터 사용자 기밀 데이터에 접근할 수 있는 일부 Dangerous permission에 대해서 코드 상에 관련 내용을 서술하고 동적으로 권한을 요청하도록 명시하고 있으나 반드시 AndroidManifest.xml에도 작성해야 함.\n",
    "* 반드시 AndroidManifest.xml에 선언되므로 정적 분석으로도 충분히 추출 가능"
   ]
  },
  {
   "cell_type": "markdown",
   "id": "0258fc71",
   "metadata": {},
   "source": [
    "# 추출방법"
   ]
  },
  {
   "cell_type": "markdown",
   "id": "b06a6a25",
   "metadata": {},
   "source": [
    "## aapt 사용"
   ]
  },
  {
   "cell_type": "code",
   "execution_count": 11,
   "id": "dc590ff9",
   "metadata": {
    "ExecuteTime": {
     "end_time": "2023-01-12T06:35:38.303429Z",
     "start_time": "2023-01-12T06:35:38.256593Z"
    }
   },
   "outputs": [],
   "source": [
    "import os, subprocess\n",
    "terminal = 'aapt d permissions /mnt/c/Users/junve/Desktop/apk/ap.apk > ./result.txt'\n",
    "\n",
    "# 작성일(23.01.12) 기준 os 라이브러리 방식은 보안상의 단점과, BOF문제가 존재하므로 subprocess 추천\n",
    "# os 라이브러리\n",
    "os.system(terminal)\n",
    "\n",
    "# subprocess 라이브러리\n",
    "result = subprocess.run(terminal, shell = True)"
   ]
  },
  {
   "cell_type": "markdown",
   "id": "358b2a7d",
   "metadata": {},
   "source": [
    "## androguard 사용"
   ]
  },
  {
   "cell_type": "code",
   "execution_count": 15,
   "id": "9ae95ca4",
   "metadata": {
    "ExecuteTime": {
     "end_time": "2023-01-12T06:40:19.402997Z",
     "start_time": "2023-01-12T06:40:11.495472Z"
    }
   },
   "outputs": [
    {
     "data": {
      "text/plain": [
       "['android.permission.ACCESS_NETWORK_STATE',\n",
       " 'android.permission.WRITE_EXTERNAL_STORAGE',\n",
       " 'android.permission.INTERNET']"
      ]
     },
     "execution_count": 15,
     "metadata": {},
     "output_type": "execute_result"
    }
   ],
   "source": [
    "from androguard.misc import AnalyzeAPK\n",
    "a, *_ = AnalyzeAPK('/home/ghwns82/ap.apk')\n",
    "a.permissions"
   ]
  },
  {
   "cell_type": "code",
   "execution_count": 17,
   "id": "4134c93b",
   "metadata": {
    "ExecuteTime": {
     "end_time": "2023-01-12T06:40:26.356461Z",
     "start_time": "2023-01-12T06:40:26.353432Z"
    }
   },
   "outputs": [
    {
     "data": {
      "text/plain": [
       "['android.permission.ACCESS_NETWORK_STATE',\n",
       " 'android.permission.WRITE_EXTERNAL_STORAGE',\n",
       " 'android.permission.INTERNET']"
      ]
     },
     "execution_count": 17,
     "metadata": {},
     "output_type": "execute_result"
    }
   ],
   "source": [
    "a.get_permissions()"
   ]
  },
  {
   "cell_type": "markdown",
   "id": "4f6c6a3e",
   "metadata": {},
   "source": [
    "# Dangerous permission 선정방법"
   ]
  },
  {
   "cell_type": "markdown",
   "id": "72d38544",
   "metadata": {},
   "source": [
    "## Deverloper perm-info 웹스크래핑"
   ]
  },
  {
   "cell_type": "code",
   "execution_count": null,
   "id": "a93d5539",
   "metadata": {},
   "outputs": [],
   "source": []
  },
  {
   "cell_type": "markdown",
   "id": "3cd51020",
   "metadata": {},
   "source": [
    "## Dangerous lv 선별"
   ]
  },
  {
   "cell_type": "code",
   "execution_count": null,
   "id": "c4230ec7",
   "metadata": {},
   "outputs": [],
   "source": []
  }
 ],
 "metadata": {
  "kernelspec": {
   "display_name": "Python 3 (ipykernel)",
   "language": "python",
   "name": "python3"
  },
  "language_info": {
   "codemirror_mode": {
    "name": "ipython",
    "version": 3
   },
   "file_extension": ".py",
   "mimetype": "text/x-python",
   "name": "python",
   "nbconvert_exporter": "python",
   "pygments_lexer": "ipython3",
   "version": "3.8.10"
  },
  "toc": {
   "base_numbering": 1,
   "nav_menu": {},
   "number_sections": true,
   "sideBar": true,
   "skip_h1_title": false,
   "title_cell": "Table of Contents",
   "title_sidebar": "Contents",
   "toc_cell": false,
   "toc_position": {
    "height": "calc(100% - 180px)",
    "left": "10px",
    "top": "150px",
    "width": "307.2px"
   },
   "toc_section_display": true,
   "toc_window_display": true
  },
  "varInspector": {
   "cols": {
    "lenName": 16,
    "lenType": 16,
    "lenVar": 40
   },
   "kernels_config": {
    "python": {
     "delete_cmd_postfix": "",
     "delete_cmd_prefix": "del ",
     "library": "var_list.py",
     "varRefreshCmd": "print(var_dic_list())"
    },
    "r": {
     "delete_cmd_postfix": ") ",
     "delete_cmd_prefix": "rm(",
     "library": "var_list.r",
     "varRefreshCmd": "cat(var_dic_list()) "
    }
   },
   "types_to_exclude": [
    "module",
    "function",
    "builtin_function_or_method",
    "instance",
    "_Feature"
   ],
   "window_display": false
  }
 },
 "nbformat": 4,
 "nbformat_minor": 5
}
