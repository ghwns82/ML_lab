{
 "cells": [
  {
   "cell_type": "markdown",
   "id": "bf0eb296",
   "metadata": {},
   "source": [
    "# 개요"
   ]
  },
  {
   "cell_type": "markdown",
   "id": "08300097",
   "metadata": {},
   "source": [
    "* 안드로이드 앱은 핸드폰의 제한된 공간에서 작동 되는데 앱 외부에 있는 리소스(카메라, SMS, 저장공간 등)에 접속하기 위해서 핸드폰 소유자의 접근 허가 권한을 받아야 이용이 가능\n",
    "* 안드로이드 마쉬멜로우 이전 버전에서는 코드상에 권한허가를 넣어주면 이런 권한이 획득이 가능했는데 마쉬멜로우 버전 이후부터는 사용자가 직접 권한을 허락해야 사용이 가능하도록 바뀜\n",
    "* AndroidManifest.xml에 기술"
   ]
  },
  {
   "cell_type": "markdown",
   "id": "0258fc71",
   "metadata": {},
   "source": [
    "# 추출방법"
   ]
  },
  {
   "cell_type": "markdown",
   "id": "b06a6a25",
   "metadata": {},
   "source": [
    "## aapt 사용"
   ]
  },
  {
   "cell_type": "code",
   "execution_count": null,
   "id": "dc590ff9",
   "metadata": {},
   "outputs": [],
   "source": []
  },
  {
   "cell_type": "markdown",
   "id": "358b2a7d",
   "metadata": {},
   "source": [
    "## androguard 사용"
   ]
  },
  {
   "cell_type": "code",
   "execution_count": null,
   "id": "9ae95ca4",
   "metadata": {},
   "outputs": [],
   "source": []
  },
  {
   "cell_type": "markdown",
   "id": "4f6c6a3e",
   "metadata": {},
   "source": [
    "# Dangerous permission 선정방법"
   ]
  },
  {
   "cell_type": "markdown",
   "id": "72d38544",
   "metadata": {},
   "source": [
    "## Deverloper perm-info 웹스크래핑"
   ]
  },
  {
   "cell_type": "code",
   "execution_count": null,
   "id": "a93d5539",
   "metadata": {},
   "outputs": [],
   "source": []
  },
  {
   "cell_type": "markdown",
   "id": "3cd51020",
   "metadata": {},
   "source": [
    "## Dangerous lv 선별"
   ]
  },
  {
   "cell_type": "code",
   "execution_count": null,
   "id": "c4230ec7",
   "metadata": {},
   "outputs": [],
   "source": []
  }
 ],
 "metadata": {
  "kernelspec": {
   "display_name": "Python 3 (ipykernel)",
   "language": "python",
   "name": "python3"
  },
  "language_info": {
   "codemirror_mode": {
    "name": "ipython",
    "version": 3
   },
   "file_extension": ".py",
   "mimetype": "text/x-python",
   "name": "python",
   "nbconvert_exporter": "python",
   "pygments_lexer": "ipython3",
   "version": "3.8.10"
  },
  "toc": {
   "base_numbering": 1,
   "nav_menu": {},
   "number_sections": true,
   "sideBar": true,
   "skip_h1_title": false,
   "title_cell": "Table of Contents",
   "title_sidebar": "Contents",
   "toc_cell": false,
   "toc_position": {
    "height": "calc(100% - 180px)",
    "left": "10px",
    "top": "150px",
    "width": "307.2px"
   },
   "toc_section_display": true,
   "toc_window_display": true
  },
  "varInspector": {
   "cols": {
    "lenName": 16,
    "lenType": 16,
    "lenVar": 40
   },
   "kernels_config": {
    "python": {
     "delete_cmd_postfix": "",
     "delete_cmd_prefix": "del ",
     "library": "var_list.py",
     "varRefreshCmd": "print(var_dic_list())"
    },
    "r": {
     "delete_cmd_postfix": ") ",
     "delete_cmd_prefix": "rm(",
     "library": "var_list.r",
     "varRefreshCmd": "cat(var_dic_list()) "
    }
   },
   "types_to_exclude": [
    "module",
    "function",
    "builtin_function_or_method",
    "instance",
    "_Feature"
   ],
   "window_display": false
  }
 },
 "nbformat": 4,
 "nbformat_minor": 5
}
