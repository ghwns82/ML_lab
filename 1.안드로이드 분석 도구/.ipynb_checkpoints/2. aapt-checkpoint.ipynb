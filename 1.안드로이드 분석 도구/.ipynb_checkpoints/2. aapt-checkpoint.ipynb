{
 "cells": [
  {
   "cell_type": "markdown",
   "id": "39c40652",
   "metadata": {},
   "source": [
    "# 개요"
   ]
  },
  {
   "cell_type": "markdown",
   "id": "5ef39486",
   "metadata": {},
   "source": [
    "* Android Asset Packaging Tool\n",
    "* Android 스튜디오 및 Android Gradle 플러그인이 앱의 리소스를 컴파일하고 패키징하는 데 사용하는 빌드 도구\n",
    "* aapt는 다양한 버전이 존재하며 aapt2도 따로 존재함. 작성날짜기준(23.01.06) aapt2를 많이 쓰는 것으로 생각됨"
   ]
  },
  {
   "cell_type": "markdown",
   "id": "b60dc6a6",
   "metadata": {},
   "source": [
    "# 사용방법"
   ]
  },
  {
   "cell_type": "markdown",
   "id": "96df222f",
   "metadata": {},
   "source": [
    "window는 aapt.exe, Linux는 aapt로 실행"
   ]
  },
  {
   "cell_type": "code",
   "execution_count": null,
   "id": "53ed7f24",
   "metadata": {},
   "outputs": [],
   "source": []
  }
 ],
 "metadata": {
  "kernelspec": {
   "display_name": "Python 3 (ipykernel)",
   "language": "python",
   "name": "python3"
  },
  "language_info": {
   "codemirror_mode": {
    "name": "ipython",
    "version": 3
   },
   "file_extension": ".py",
   "mimetype": "text/x-python",
   "name": "python",
   "nbconvert_exporter": "python",
   "pygments_lexer": "ipython3",
   "version": "3.8.10"
  },
  "toc": {
   "base_numbering": 1,
   "nav_menu": {},
   "number_sections": true,
   "sideBar": true,
   "skip_h1_title": false,
   "title_cell": "Table of Contents",
   "title_sidebar": "Contents",
   "toc_cell": false,
   "toc_position": {},
   "toc_section_display": true,
   "toc_window_display": false
  },
  "varInspector": {
   "cols": {
    "lenName": 16,
    "lenType": 16,
    "lenVar": 40
   },
   "kernels_config": {
    "python": {
     "delete_cmd_postfix": "",
     "delete_cmd_prefix": "del ",
     "library": "var_list.py",
     "varRefreshCmd": "print(var_dic_list())"
    },
    "r": {
     "delete_cmd_postfix": ") ",
     "delete_cmd_prefix": "rm(",
     "library": "var_list.r",
     "varRefreshCmd": "cat(var_dic_list()) "
    }
   },
   "types_to_exclude": [
    "module",
    "function",
    "builtin_function_or_method",
    "instance",
    "_Feature"
   ],
   "window_display": false
  }
 },
 "nbformat": 4,
 "nbformat_minor": 5
}
