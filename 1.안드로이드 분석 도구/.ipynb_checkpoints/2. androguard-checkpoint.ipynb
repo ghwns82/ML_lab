{
 "cells": [
  {
   "cell_type": "markdown",
   "id": "14357511",
   "metadata": {},
   "source": [
    "# 개요\n",
    "\n",
    "* android app에 대한 많은 것들을 분석할 수 있는 툴\n",
    "* permission, api, api lv, intent, string, 등 다양한 자료 추출 가능\n",
    "* androguard는 aapt나 dexdump 같은 툴에 비해 매우 무겁다는 점이 단점\n",
    "* androguard의 클래스, 메소드 등의 코드를 직접 하나하나 뜯어보는 것을 추천\n",
    "* androguard 공식 문서에 함수의 용법, return type등 설명이 잘 되어있으니 자주 참고하기 바람\n",
    "\n",
    "git : https://github.com/androguard/androguard\n",
    "\n",
    "doc : https://androguard.readthedocs.io/en/latest/"
   ]
  },
  {
   "cell_type": "markdown",
   "id": "a31f2995",
   "metadata": {},
   "source": [
    "# 설치\n",
    "\n",
    "* `sudo apt install androgaurd`(linux, 사랑해요 apt) \n",
    "* `pip install -U androguard`(window)\n",
    "\n",
    "https://androguard.readthedocs.io/en/latest/intro/installation.html"
   ]
  },
  {
   "cell_type": "markdown",
   "id": "9752eb84",
   "metadata": {},
   "source": [
    "# 사용법\n",
    "* 기본적으로 AnalyzeAPK를 먼저 사용하면서 시작됨\n",
    "* docs에서 원하는 기능을 검색하고 관련 메소드를 찾아 사용해보는 것을 추천함\n",
    "\n",
    "ex) permission과 api의 관계를 찾고 싶음\n",
    "1. doc에 관련 키워드(permission, mapping, api 등) 검색\n",
    "2. 검색결과에 나오는 관련 메소드들 탐색\n",
    "3. 본인이 원하는 메소드를 찾아 사용 (클래스가 다르면 사용못하는 경우도 존재하므로 androguard의 전체적인 구조를 공부하면 편리하다)\n",
    "\n",
    "\n",
    "__기본구조__\n",
    "* a, d, dx에서 a는 APK object, d는 DalvikVMFormat object, dx는 Analysis object를 의미함\n",
    "* APK object는 APK의 패키지 이름, 권한, AndroidManifest 등의 정보가 있음\n",
    "* DalvickVMFormat은 vmclass 등 Dex 파일에 대한 정보들이 존재함.\n",
    "* Analysis는 특수한 class나 method, class 간의 Xrefto 등 다양한 분석적 정보가 포함됨\n",
    "\n"
   ]
  },
  {
   "cell_type": "code",
   "execution_count": 26,
   "id": "a5552c71",
   "metadata": {
    "ExecuteTime": {
     "end_time": "2023-01-12T06:08:07.348397Z",
     "start_time": "2023-01-12T06:07:57.068094Z"
    }
   },
   "outputs": [],
   "source": [
    "from androguard.misc import AnalyzeAPK\n",
    "a, d, dx = AnalyzeAPK('/mnt/c/Users/junve/Desktop/apk/ap2.apk')"
   ]
  },
  {
   "cell_type": "markdown",
   "id": "f0b1b732",
   "metadata": {},
   "source": [
    "## ex 1) 권한"
   ]
  },
  {
   "cell_type": "code",
   "execution_count": 7,
   "id": "69688645",
   "metadata": {
    "ExecuteTime": {
     "end_time": "2023-01-11T16:23:11.532931Z",
     "start_time": "2023-01-11T16:23:11.529334Z"
    }
   },
   "outputs": [
    {
     "data": {
      "text/plain": [
       "['android.permission.INTERNET',\n",
       " 'android.permission.ACCESS_NETWORK_STATE',\n",
       " 'android.permission.ACCESS_WIFI_STATE']"
      ]
     },
     "execution_count": 7,
     "metadata": {},
     "output_type": "execute_result"
    }
   ],
   "source": [
    "a.permissions"
   ]
  },
  {
   "cell_type": "markdown",
   "id": "776c26bd",
   "metadata": {},
   "source": [
    "## ex 2) api level"
   ]
  },
  {
   "cell_type": "code",
   "execution_count": 10,
   "id": "e36bcf09",
   "metadata": {
    "ExecuteTime": {
     "end_time": "2023-01-11T16:24:34.533680Z",
     "start_time": "2023-01-11T16:24:34.530079Z"
    }
   },
   "outputs": [
    {
     "data": {
      "text/plain": [
       "('7', None)"
      ]
     },
     "execution_count": 10,
     "metadata": {},
     "output_type": "execute_result"
    }
   ],
   "source": [
    "a.get_min_sdk_version(), a.get_target_sdk_version()"
   ]
  },
  {
   "cell_type": "markdown",
   "id": "7cb91931",
   "metadata": {},
   "source": [
    "## ex 3) permission과 api 사용관계"
   ]
  },
  {
   "cell_type": "code",
   "execution_count": 19,
   "id": "d25a03a6",
   "metadata": {
    "ExecuteTime": {
     "end_time": "2023-01-11T16:26:29.903078Z",
     "start_time": "2023-01-11T16:26:29.620000Z"
    }
   },
   "outputs": [
    {
     "name": "stdout",
     "output_type": "stream",
     "text": [
      "android.permission.INTERNET\n",
      "\n",
      "\n",
      "android.permission.ACCESS_NETWORK_STATE\n",
      "<analysis.MethodAnalysis Landroid/net/ConnectivityManager;->getNetworkInfo(I)Landroid/net/NetworkInfo;>\n",
      "<analysis.MethodAnalysis Landroid/net/ConnectivityManager;->getActiveNetworkInfo()Landroid/net/NetworkInfo;>\n",
      "<analysis.MethodAnalysis Landroid/net/ConnectivityManager;->isActiveNetworkMetered()Z>\n",
      "\n",
      "android.permission.ACCESS_WIFI_STATE\n",
      "<analysis.MethodAnalysis Landroid/net/wifi/WifiManager;->getDhcpInfo()Landroid/net/DhcpInfo;>\n",
      "\n"
     ]
    }
   ],
   "source": [
    "for perm in a.permissions:\n",
    "    print(perm)\n",
    "    print(*dx.get_permission_usage(perm), sep='\\n')\n",
    "    print()"
   ]
  },
  {
   "cell_type": "markdown",
   "id": "3b2f99c0",
   "metadata": {},
   "source": [
    "## ex 4) class"
   ]
  },
  {
   "cell_type": "code",
   "execution_count": 35,
   "id": "c7f818f4",
   "metadata": {
    "ExecuteTime": {
     "end_time": "2023-01-12T06:13:56.874881Z",
     "start_time": "2023-01-12T06:13:56.872865Z"
    }
   },
   "outputs": [],
   "source": [
    "# dx.get_classes()"
   ]
  },
  {
   "cell_type": "markdown",
   "id": "8ea26474",
   "metadata": {},
   "source": [
    "## ex 5) class in dex"
   ]
  },
  {
   "cell_type": "code",
   "execution_count": 36,
   "id": "3f4c7f55",
   "metadata": {
    "ExecuteTime": {
     "end_time": "2023-01-12T06:13:59.624054Z",
     "start_time": "2023-01-12T06:13:59.621933Z"
    }
   },
   "outputs": [],
   "source": [
    "# from androguard.core.bytecodes import dvm\n",
    "\n",
    "# result = set()\n",
    "# for dex in a.get_all_dex():\n",
    "#     df = dvm.DalvikVMFormat(dex, using_api=a.get_target_sdk_version())\n",
    "#     for class_name in df.get_classes_def_item().get_names():\n",
    "#         result.add(class_name)\n",
    "# print(result)"
   ]
  }
 ],
 "metadata": {
  "kernelspec": {
   "display_name": "Python 3 (ipykernel)",
   "language": "python",
   "name": "python3"
  },
  "language_info": {
   "codemirror_mode": {
    "name": "ipython",
    "version": 3
   },
   "file_extension": ".py",
   "mimetype": "text/x-python",
   "name": "python",
   "nbconvert_exporter": "python",
   "pygments_lexer": "ipython3",
   "version": "3.8.10"
  },
  "toc": {
   "base_numbering": 1,
   "nav_menu": {},
   "number_sections": true,
   "sideBar": true,
   "skip_h1_title": false,
   "title_cell": "Table of Contents",
   "title_sidebar": "Contents",
   "toc_cell": false,
   "toc_position": {},
   "toc_section_display": true,
   "toc_window_display": false
  },
  "varInspector": {
   "cols": {
    "lenName": 16,
    "lenType": 16,
    "lenVar": 40
   },
   "kernels_config": {
    "python": {
     "delete_cmd_postfix": "",
     "delete_cmd_prefix": "del ",
     "library": "var_list.py",
     "varRefreshCmd": "print(var_dic_list())"
    },
    "r": {
     "delete_cmd_postfix": ") ",
     "delete_cmd_prefix": "rm(",
     "library": "var_list.r",
     "varRefreshCmd": "cat(var_dic_list()) "
    }
   },
   "types_to_exclude": [
    "module",
    "function",
    "builtin_function_or_method",
    "instance",
    "_Feature"
   ],
   "window_display": false
  }
 },
 "nbformat": 4,
 "nbformat_minor": 5
}
